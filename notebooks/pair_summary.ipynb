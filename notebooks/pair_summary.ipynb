{
 "cells": [
  {
   "cell_type": "markdown",
   "metadata": {},
   "source": [
    "# Summary of non-canonical pairs analysis"
   ]
  },
  {
   "cell_type": "markdown",
   "metadata": {},
   "source": [
    "# Summary"
   ]
  },
  {
   "cell_type": "markdown",
   "metadata": {},
   "source": [
    "## How does percent under -5.45 vary by pair type\n",
    "\n",
    "[For non-canonical pairs most likely to mistaken as canonical pairs: AG at 19%](#percent-under--545)<br>\n",
    "\n",
    "Summary table for cat:\n",
    "| cat      | % < -5.45   |   Count |\n",
    "|:---------|:------------|--------:|\n",
    "| A in A-G | 19.26%      |   16995 |\n",
    "| C in C-U | 14.29%      |   20636 |\n",
    "| C in C-A | 6.76%       |   18410 |\n",
    "| C in C-C | 6.72%       |   14564 |\n",
    "| A in A-A | 6.63%       |   26446 |\n",
    "| A in A-C | 3.43%       |   18410 |\n",
    "\n",
    "\n",
    "[There is a higher percentage WC like pairs for A in A-C, A in A-G, and C in C-A in 1x1 then all](#percent-under--545-for-1x1)<br>\n",
    "This is not seen for C in C-U, A in A-A and C in C-C<br>\n",
    "\n",
    "\n",
    "Summary table for cat for 1x1\n",
    "| cat      | % < -5.45   |   Count |\n",
    "|:---------|:------------|--------:|\n",
    "| C in C-A | 33.09%      |     674 |\n",
    "| A in A-G | 29.31%      |     563 |\n",
    "| A in A-C | 17.21%      |     674 |\n",
    "| C in C-U | 7.21%       |     624 |\n",
    "| A in A-A | 4.62%       |     866 |\n",
    "| C in C-C | 0.89%       |     672 |\n",
    "\n",
    "\n",
    "[There are no apparent trends by junction size](#by-topology-size)<br>\n",
    "\n"
   ]
  },
  {
   "cell_type": "markdown",
   "metadata": {},
   "source": [
    "## Sequence preferences summary \n",
    "[sequence preferences section](#sequence-preferences)\n",
    "\n",
    "### Summary of sequence preferences\n",
    "Generally all c pairs have some sequence preference where pyrimidines stacks are more likely to lead to lower reactivity. This may be because they are poor stackers which allow the base pair to rotate more freely to form hydrogen bonds. This again reinforences the idea of the balance between hydrogen bonds and stacking interactions. \n",
    "\n",
    "### A in A-A sequence preferences summary\n",
    "[Not that strong preference there is some preference from A 5' and 3'](#a-in-a-a-sequence-preferences)\n",
    "\n",
    "### A in A-C sequence preferences summary\n",
    "[Not that strong preference there is some preference from GG and UU](#a-in-a-c-sequence-preferences)\n",
    "\n",
    "### A in A-G sequence preferences summary\n",
    "[No strong preferences for A in A-G](#a-in-a-g-sequence-preferences)\n",
    "\n",
    "### C in C-A sequence preferences summary\n",
    "[Strong pyrimidine preferences for C in C-A](#a-in-a-c-sequence-preferences)\n",
    "\n",
    "Summary table for p5_res:\n",
    "| p5_res   | % Under -5.45   |   Count |\n",
    "|:---------|:----------------|--------:|\n",
    "| C        | 18.57%          |    4793 |\n",
    "| G        | 5.51%           |    2760 |\n",
    "| U        | 2.41%           |    5941 |\n",
    "| A        | 1.20%           |    4916 |\n",
    "\n",
    "Summary table for p3_res:\n",
    "| p3_res   | % Under -5.45   |   Count |\n",
    "|:---------|:----------------|--------:|\n",
    "| U        | 11.49%          |    3725 |\n",
    "| A        | 7.03%           |    7764 |\n",
    "| C        | 5.53%           |    3945 |\n",
    "| G        | 1.75%           |    2976 |\n",
    "\n",
    "\n",
    "### C in C-C sequence preferences summary\n",
    "[CC has strong preference for pyrimidine more for C](#c-in-c-c-sequence-preferences)\n",
    "\n",
    "CC has strong preference for pyrimidine \n",
    "Summary table for stack_type:\n",
    "| stack_type      | % Under -5.45   |   Count |\n",
    "|:----------------|:----------------|--------:|\n",
    "| both_pyrimidine | 15.07%          |    5536 |\n",
    "| mixed           | 1.96%           |    7407 |\n",
    "| both_purine     | 0.00%           |    1621 |\n",
    "\n",
    "Summary table for r_stack:\n",
    "| r_stack   | % Under -5.45   |   Count |\n",
    "|:----------|:----------------|--------:|\n",
    "| CU        | 29.77%          |     813 |\n",
    "| CC        | 27.76%          |    1275 |\n",
    "\n",
    "### C in C-U sequence preferences summary\n",
    "[Strong preferences for 3' U](#c-in-c-u-sequence-preferences)\n",
    "\n",
    "Summary table for p3_res:\n",
    "| p3_res   | % Under -5.45   |   Count |\n",
    "|:---------|:----------------|--------:|\n",
    "| U        | 40.22%          |    6867 |\n",
    "| A        | 3.34%           |    4104 |\n",
    "| C        | 0.74%           |    5707 |\n",
    "| G        | 0.20%           |    3958 |\n",
    "\n"
   ]
  },
  {
   "cell_type": "markdown",
   "metadata": {},
   "source": [
    "## Summary of sequence preferences for 2x2\n",
    "\n",
    "All trends are the same as for all but are mostly enhanced for C pairs"
   ]
  },
  {
   "cell_type": "markdown",
   "metadata": {},
   "source": [
    "# Setup"
   ]
  },
  {
   "cell_type": "code",
   "execution_count": 1,
   "metadata": {},
   "outputs": [],
   "source": [
    "import pandas as pd\n",
    "import numpy as np\n",
    "import matplotlib.pyplot as plt\n",
    "import seaborn as sns\n",
    "from scipy.stats import ks_2samp, pearsonr, linregress, ttest_ind\n",
    "from sklearn.linear_model import LogisticRegression\n",
    "import statsmodels.api as sm\n",
    "from tabulate import tabulate\n",
    "import py3Dmol\n",
    "\n",
    "from dms_3d_features.plotting import (\n",
    "    plot_pop_avg_from_row,\n",
    "    plot_motif_boxplot_stripplot,\n",
    "    plot_violins_w_percent,\n",
    "    plot_violins_w_percent_groups,\n",
    "    format_small_plot,\n",
    ")\n",
    "from dms_3d_features.format_tables import (\n",
    "    dataframe_column_table,\n",
    "    generate_threshold_summary,\n",
    ")\n",
    "from dms_3d_features.stats import r2, check_pairwise_statistical_significance"
   ]
  },
  {
   "cell_type": "markdown",
   "metadata": {},
   "source": [
    "## extra functions"
   ]
  },
  {
   "cell_type": "code",
   "execution_count": 2,
   "metadata": {},
   "outputs": [],
   "source": [
    "def visualize_molecule(row, width=400, height=300):\n",
    "    viewer = py3Dmol.view(width=width, height=height)\n",
    "    viewer.addModel(open(\"../\" + row[\"pdb_path\"], \"r\").read(), \"pdb\")\n",
    "\n",
    "    # Set color scheme for nucleotides\n",
    "    nucleotide_colors = {\"A\": \"red\", \"U\": \"green\", \"C\": \"blue\", \"G\": \"orange\"}\n",
    "    for nuc, color in nucleotide_colors.items():\n",
    "        viewer.setStyle({\"resn\": nuc}, {\"stick\": {\"color\": color}})\n",
    "\n",
    "    viewer.zoomTo()\n",
    "\n",
    "    residue_number = row[\"pdb_r_pos\"]\n",
    "    viewer.addStyle({\"resi\": str(residue_number)}, {\"stick\": {\"color\": \"magenta\"}})\n",
    "\n",
    "    # Highlight N1 for A or N3 for C\n",
    "    if row[\"r_nuc\"] == \"A\":\n",
    "        viewer.addStyle(\n",
    "            {\"resi\": str(residue_number), \"atom\": \"N1\"},\n",
    "            {\"sphere\": {\"radius\": 1.0, \"color\": \"magenta\"}},\n",
    "        )\n",
    "    elif row[\"r_nuc\"] == \"C\":\n",
    "        viewer.addStyle(\n",
    "            {\"resi\": str(residue_number), \"atom\": \"N3\"},\n",
    "            {\"sphere\": {\"radius\": 1.0, \"color\": \"magenta\"}},\n",
    "        )\n",
    "\n",
    "    return viewer"
   ]
  },
  {
   "cell_type": "markdown",
   "metadata": {},
   "source": [
    "### plotting"
   ]
  },
  {
   "cell_type": "code",
   "execution_count": 3,
   "metadata": {},
   "outputs": [],
   "source": [
    "def plot_residue_trends(df, color=\"tab:gray\", col=\"ln_r_data\"):\n",
    "    fig = plt.figure(figsize=(3.0, 3.0), dpi=200)\n",
    "    gs = fig.add_gridspec(2, 2, width_ratios=[1, 1], height_ratios=[1, 1])\n",
    "    ax1 = fig.add_subplot(gs[0, 0])\n",
    "    ax2 = fig.add_subplot(gs[1, 0])\n",
    "    ax3 = fig.add_subplot(gs[:, 1])\n",
    "\n",
    "    # 5' Residue\n",
    "    data_range = df[col].max() - df[col].min()\n",
    "    extra_space = 0.4 * data_range\n",
    "    xlim_min = df[col].min() - extra_space\n",
    "    xlim_max = df[col].max()\n",
    "\n",
    "    plot_violins_w_percent(\n",
    "        df,\n",
    "        col,\n",
    "        \"p5_res\",\n",
    "        color=color,\n",
    "        gt_lt=\"less\",\n",
    "        xlim=(xlim_min, xlim_max),\n",
    "        text_offset=extra_space,\n",
    "        sorted_by_mean=True,\n",
    "        ax=ax1,\n",
    "    )\n",
    "    ax1.set_ylabel(\"5' Residue\", labelpad=2)\n",
    "    ax1.set_xlabel(f\"{col}\", labelpad=2)\n",
    "    format_small_plot(ax1)\n",
    "\n",
    "    # 3' Residue\n",
    "    plot_violins_w_percent(\n",
    "        df,\n",
    "        col,\n",
    "        \"p3_res\",\n",
    "        color=color,\n",
    "        gt_lt=\"less\",\n",
    "        xlim=(xlim_min, xlim_max),\n",
    "        text_offset=extra_space,\n",
    "        sorted_by_mean=True,\n",
    "        ax=ax2,\n",
    "    )\n",
    "    ax2.set_ylabel(\"3' Residue\", labelpad=2)\n",
    "    ax2.set_xlabel(f\"{col}\", labelpad=2)\n",
    "    format_small_plot(ax2)\n",
    "\n",
    "    # Residue Stack\n",
    "    plot_violins_w_percent(\n",
    "        df,\n",
    "        col,\n",
    "        \"r_stack\",\n",
    "        color=color,\n",
    "        gt_lt=\"less\",\n",
    "        xlim=(xlim_min, xlim_max),\n",
    "        text_offset=extra_space,\n",
    "        sorted_by_mean=True,\n",
    "        ax=ax3,\n",
    "    )\n",
    "    ax3.set_ylabel(\"Residue Stack\", labelpad=2)\n",
    "    ax3.set_xlabel(f\"{col}\", labelpad=2)\n",
    "    format_small_plot(ax3)\n",
    "    plt.tight_layout()"
   ]
  },
  {
   "cell_type": "code",
   "execution_count": 4,
   "metadata": {},
   "outputs": [],
   "source": [
    "def plot_flanking_pairs_distribution(df):\n",
    "    # Combine the flanking pairs into a single column\n",
    "    df[\"flanking_pairs\"] = df[\"m_second_flank_bp_5p\"] + \"-\" + df[\"m_second_flank_bp_3p\"]\n",
    "    # Calculate mean r_data_ratio for each flanking pair\n",
    "    mean_r_data_ratio = (\n",
    "        df.groupby(\"flanking_pairs\")[\"r_data_ratio\"].mean().sort_values(ascending=False)\n",
    "    )\n",
    "    # Create the rotated violin plot\n",
    "    plt.figure(figsize=(5, 4))\n",
    "    sns.violinplot(\n",
    "        x=\"r_data_ratio\",\n",
    "        y=\"flanking_pairs\",\n",
    "        data=df,\n",
    "        order=mean_r_data_ratio.index[::-1],\n",
    "        cut=0,\n",
    "        orient=\"h\",\n",
    "        density_norm=\"width\",\n",
    "    )\n",
    "    # Customize the plot\n",
    "    plt.title(\"Distribution of r_data_ratio for Different Flanking Pairs\")\n",
    "    plt.xlabel(\"r_data_ratio\")\n",
    "    plt.ylabel(\"Flanking Pairs (5' - 3')\")\n",
    "    # Add count labels\n",
    "    counts = df[\"flanking_pairs\"].value_counts()\n",
    "    for i, flanking_pair in enumerate(mean_r_data_ratio.index[::-1]):\n",
    "        count = counts[flanking_pair]\n",
    "        plt.text(plt.xlim()[1] + 0.5, i, f\"n={count}\", ha=\"left\", va=\"center\")"
   ]
  },
  {
   "cell_type": "markdown",
   "metadata": {},
   "source": [
    "### summary tables"
   ]
  },
  {
   "cell_type": "code",
   "execution_count": 5,
   "metadata": {},
   "outputs": [],
   "source": [
    "def create_summary_table(df, y_column):\n",
    "    # Calculate percentages and counts\n",
    "    summary = []\n",
    "    for y_value in df[y_column].unique():\n",
    "        group = df[df[y_column] == y_value]\n",
    "        percent_over = (group[\"ln_r_data\"] < -5.45).mean() * 100\n",
    "        count = len(group)\n",
    "        summary.append([y_value, f\"{percent_over:.2f}%\", count])\n",
    "\n",
    "    # Sort by percentage descending\n",
    "    summary.sort(key=lambda x: float(x[1][:-1]), reverse=True)\n",
    "\n",
    "    # Create table\n",
    "    headers = [y_column, \"% Under -5.45\", \"Count\"]\n",
    "    table = tabulate(summary, headers=headers, tablefmt=\"pipe\", floatfmt=\".2f\")\n",
    "\n",
    "    print(f\"Summary table for {y_column}:\")\n",
    "    print(table)"
   ]
  },
  {
   "cell_type": "code",
   "execution_count": 6,
   "metadata": {},
   "outputs": [],
   "source": [
    "def analyze_flanking_pairs(df):\n",
    "    # Calculate the mean of r_data_ratio for each combination of m_second_flank_bp_5p and m_second_flank_bp_3p\n",
    "    mean_r_data_ratio = (\n",
    "        df.groupby([\"m_second_flank_bp_5p\", \"m_second_flank_bp_3p\"])[\"r_data_ratio\"]\n",
    "        .mean()\n",
    "        .reset_index()\n",
    "    )\n",
    "    # Pivot the table to create a matrix-like structure\n",
    "    pivot_table = mean_r_data_ratio.pivot(\n",
    "        index=\"m_second_flank_bp_5p\",\n",
    "        columns=\"m_second_flank_bp_3p\",\n",
    "        values=\"r_data_ratio\",\n",
    "    )\n",
    "    # Sort the index and columns alphabetically\n",
    "    pivot_table = pivot_table.sort_index().sort_index(axis=1)\n",
    "    # Display the results as a styled table\n",
    "    display(pivot_table.style.format(\"{:.1f}\").background_gradient(cmap=\"YlOrRd\"))\n",
    "    # Calculate the count of occurrences for each combination\n",
    "    count_table = (\n",
    "        df.groupby([\"m_second_flank_bp_5p\", \"m_second_flank_bp_3p\"])\n",
    "        .size()\n",
    "        .reset_index(name=\"count\")\n",
    "    )\n",
    "    pivot_count = count_table.pivot(\n",
    "        index=\"m_second_flank_bp_5p\", columns=\"m_second_flank_bp_3p\", values=\"count\"\n",
    "    )\n",
    "    pivot_count = pivot_count.sort_index().sort_index(axis=1)\n",
    "    # Display the count table\n",
    "    display(pivot_count.style.format(\"{:.1f}\").background_gradient(cmap=\"Blues\"))"
   ]
  },
  {
   "cell_type": "markdown",
   "metadata": {},
   "source": [
    "### misc"
   ]
  },
  {
   "cell_type": "code",
   "execution_count": 7,
   "metadata": {},
   "outputs": [],
   "source": [
    "def assign_stack_type(row):\n",
    "    if row[\"both_pyrimidine\"]:\n",
    "        return \"both_pyrimidine\"\n",
    "    elif row[\"both_purine\"]:\n",
    "        return \"both_purine\"\n",
    "    else:\n",
    "        return \"mixed\""
   ]
  },
  {
   "cell_type": "code",
   "execution_count": 8,
   "metadata": {},
   "outputs": [],
   "source": [
    "def calculate_side_diff(x):\n",
    "    sides = x.split(\"x\")\n",
    "    return str(abs(int(sides[0]) - int(sides[1])))"
   ]
  },
  {
   "cell_type": "markdown",
   "metadata": {},
   "source": [
    "## load data"
   ]
  },
  {
   "cell_type": "code",
   "execution_count": 9,
   "metadata": {},
   "outputs": [],
   "source": [
    "DATA_PATH = \"../data\""
   ]
  },
  {
   "cell_type": "code",
   "execution_count": 10,
   "metadata": {},
   "outputs": [],
   "source": [
    "df_constructs = pd.read_json(f\"{DATA_PATH}/raw-jsons/constructs/pdb_library_1.json\")\n",
    "df = pd.read_json(f\"{DATA_PATH}/raw-jsons/residues/pdb_library_1_residues.json\")\n",
    "df[\"stack_type\"] = df.apply(assign_stack_type, axis=1)\n",
    "df[\"side_diff\"] = df[\"m_token\"].apply(calculate_side_diff)\n",
    "# pdb dataframe\n",
    "df_pdb = pd.read_json(f\"{DATA_PATH}/raw-jsons/residues/pdb_library_1_residues_pdb.json\")"
   ]
  },
  {
   "cell_type": "code",
   "execution_count": 80,
   "metadata": {},
   "outputs": [
    {
     "data": {
      "text/plain": [
       "m_sequence                                                             AAAC_GCU\n",
       "r_nuc                                                                         A\n",
       "pdb_r_pos                                                                     3\n",
       "r_type                                                                       WC\n",
       "pdb_r_bp_type                                                               cWW\n",
       "pdb_r_pair                                                                  A-U\n",
       "no_of_conformations                                                           1\n",
       "no_of_interactions                                                            1\n",
       "no_of_partner_interactions                                                    1\n",
       "pdb_name                                         TWOWAY.6NY2.1-2.GCU-AAAC.0.pdb\n",
       "pdb_path                      data/pdbs_w_2bp/AAAC_GCU/TWOWAY.6NY2.1-2.GCU-A...\n",
       "pdb_res                                                                     3.2\n",
       "both_purine                                                                 1.0\n",
       "both_pyrimidine                                                             0.0\n",
       "constructs                                                          construct65\n",
       "likely_pair                                                                    \n",
       "m_flank_bp_5p                                                                AU\n",
       "m_flank_bp_3p                                                                CG\n",
       "m_orientation                                                           flipped\n",
       "m_pos                                                                       4.0\n",
       "m_second_flank_bp_5p                                                         GC\n",
       "m_second_flank_bp_3p                                                         GC\n",
       "m_structure                                                            (..(&).)\n",
       "m_token                                                                     2x1\n",
       "n_pdbs                                                                      1.0\n",
       "pair_type                                                                   NaN\n",
       "p5_res                                                                        G\n",
       "p5_type                                                                  PURINE\n",
       "p3_res                                                                        A\n",
       "p3_type                                                                  PURINE\n",
       "r_data                                                                   0.0064\n",
       "r_loc_pos                                                                   0.0\n",
       "r_pos                                                                      76.0\n",
       "r_stack                                                                      GA\n",
       "ln_r_data                                                             -5.051457\n",
       "z_score                                                                1.915519\n",
       "r_data_outlier                                                              0.0\n",
       "Name: 0, dtype: object"
      ]
     },
     "execution_count": 80,
     "metadata": {},
     "output_type": "execute_result"
    }
   ],
   "source": [
    "df_pdb.iloc[0]"
   ]
  },
  {
   "cell_type": "markdown",
   "metadata": {},
   "source": [
    "# All residues"
   ]
  },
  {
   "cell_type": "markdown",
   "metadata": {},
   "source": [
    "## percent under -5.45"
   ]
  },
  {
   "cell_type": "code",
   "execution_count": 77,
   "metadata": {},
   "outputs": [
    {
     "name": "stderr",
     "output_type": "stream",
     "text": [
      "/opt/homebrew/Caskroom/miniconda/base/envs/py3/lib/python3.8/site-packages/dms_3d_features/plotting.py:426: FutureWarning: \n",
      "\n",
      "Passing `palette` without assigning `hue` is deprecated and will be removed in v0.14.0. Assign the `y` variable to `hue` and set `legend=False` for the same effect.\n",
      "\n",
      "  sns.violinplot(\n"
     ]
    },
    {
     "data": {
      "image/png": "[encoded data removed]",
      "text/plain": [
       "<Figure size 400x300 with 1 Axes>"
      ]
     },
     "metadata": {},
     "output_type": "display_data"
    }
   ],
   "source": [
    "df_non_wc_pair = df.query(\n",
    "    \"r_type == 'NON-WC' and (r_nuc == 'A' or r_nuc == 'C') and likely_pair != ''\"\n",
    ").copy()\n",
    "df_non_wc_pair = df_non_wc_pair.query(\"likely_pair != 'AU'\")\n",
    "df_non_wc_pair[\"cat\"] = df_non_wc_pair.apply(\n",
    "    lambda row: f\"{row['r_nuc']} in {row['likely_pair'][0]}-{row['likely_pair'][1]}\",\n",
    "    axis=1,\n",
    ")\n",
    "fig, ax = plt.subplots(figsize=(2.0, 1.5), dpi=200)\n",
    "plot_violins_w_percent(\n",
    "    df_non_wc_pair,\n",
    "    \"ln_r_data\",\n",
    "    \"cat\",\n",
    "    gt_lt=\"less\",\n",
    "    xlim=(-11, -1),\n",
    "    text_offset=2.5,\n",
    "    colors=[\"tab:red\", \"tab:blue\", \"tab:red\", \"tab:blue\", \"tab:blue\", \"tab:red\"],\n",
    "    sorted_by_mean=True,\n",
    "    ax=ax,\n",
    ")\n",
    "ax.set_ylabel(\"Non-WC Residue\", labelpad=2)\n",
    "ax.set_xlabel(\"ln(Mutational Fraction)\", labelpad=2)\n",
    "format_small_plot(ax)"
   ]
  },
  {
   "cell_type": "code",
   "execution_count": 12,
   "metadata": {},
   "outputs": [
    {
     "name": "stdout",
     "output_type": "stream",
     "text": [
      "Summary table for cat:\n",
      "| cat      | % < -5.45   |   Count |\n",
      "|:---------|:------------|--------:|\n",
      "| A in A-G | 19.26%      |   16995 |\n",
      "| C in C-U | 14.29%      |   20636 |\n",
      "| C in C-A | 6.76%       |   18410 |\n",
      "| C in C-C | 6.72%       |   14564 |\n",
      "| A in A-A | 6.63%       |   26446 |\n",
      "| A in A-C | 3.43%       |   18410 |\n"
     ]
    }
   ],
   "source": [
    "df_non_wc_pair = df.query(\n",
    "    \"r_type == 'NON-WC' and (r_nuc == 'A' or r_nuc == 'C') and likely_pair != ''\"\n",
    ").copy()\n",
    "df_non_wc_pair = df_non_wc_pair.query(\"likely_pair != 'AU'\")\n",
    "df_non_wc_pair[\"cat\"] = df_non_wc_pair.apply(\n",
    "    lambda row: f\"{row['r_nuc']} in {row['likely_pair'][0]}-{row['likely_pair'][1]}\",\n",
    "    axis=1,\n",
    ")\n",
    "generate_threshold_summary(df_non_wc_pair, \"cat\", greater_than=False)"
   ]
  },
  {
   "cell_type": "markdown",
   "metadata": {},
   "source": [
    "## percent under -5.45 for 1x1"
   ]
  },
  {
   "cell_type": "code",
   "execution_count": 13,
   "metadata": {},
   "outputs": [
    {
     "name": "stderr",
     "output_type": "stream",
     "text": [
      "/opt/homebrew/Caskroom/miniconda/base/envs/py3/lib/python3.8/site-packages/dms_3d_features/plotting.py:426: FutureWarning: \n",
      "\n",
      "Passing `palette` without assigning `hue` is deprecated and will be removed in v0.14.0. Assign the `y` variable to `hue` and set `legend=False` for the same effect.\n",
      "\n",
      "  sns.violinplot(\n"
     ]
    },
    {
     "data": {
      "image/png": "[encoded data removed]",
      "text/plain": [
       "<Figure size 400x300 with 1 Axes>"
      ]
     },
     "metadata": {},
     "output_type": "display_data"
    }
   ],
   "source": [
    "df_non_wc_pair = df.query(\n",
    "    \"r_type == 'NON-WC' and (r_nuc == 'A' or r_nuc == 'C') and likely_pair != '' and m_token == '1x1'\"\n",
    ").copy()\n",
    "df_non_wc_pair[\"cat\"] = df_non_wc_pair.apply(\n",
    "    lambda row: f\"{row['r_nuc']} in {row['likely_pair'][0]}-{row['likely_pair'][1]}\",\n",
    "    axis=1,\n",
    ")\n",
    "fig, ax = plt.subplots(figsize=(2.0, 1.5), dpi=200)\n",
    "plot_violins_w_percent(\n",
    "    df_non_wc_pair,\n",
    "    \"ln_r_data\",\n",
    "    \"cat\",\n",
    "    gt_lt=\"less\",\n",
    "    xlim=(-11, -1),\n",
    "    text_offset=2.5,\n",
    "    colors=[\"tab:blue\", \"tab:red\", \"tab:red\", \"tab:blue\", \"tab:red\", \"tab:blue\"],\n",
    "    sorted_by_mean=True,\n",
    "    ax=ax,\n",
    ")\n",
    "ax.set_ylabel(\"Non-WC Residue\", labelpad=2)\n",
    "ax.set_xlabel(\"ln(Mutational Fraction)\", labelpad=2)\n",
    "format_small_plot(ax)"
   ]
  },
  {
   "cell_type": "code",
   "execution_count": 14,
   "metadata": {},
   "outputs": [
    {
     "name": "stdout",
     "output_type": "stream",
     "text": [
      "Summary table for cat:\n",
      "| cat      | % < -5.45   |   Count |\n",
      "|:---------|:------------|--------:|\n",
      "| C in C-A | 33.09%      |     674 |\n",
      "| A in A-G | 29.31%      |     563 |\n",
      "| A in A-C | 17.21%      |     674 |\n",
      "| C in C-U | 7.21%       |     624 |\n",
      "| A in A-A | 4.62%       |     866 |\n",
      "| C in C-C | 0.89%       |     672 |\n"
     ]
    }
   ],
   "source": [
    "df_non_wc_pair = df.query(\n",
    "    \"r_type == 'NON-WC' and (r_nuc == 'A' or r_nuc == 'C') and likely_pair != '' and m_token == '1x1'\"\n",
    ").copy()\n",
    "df_non_wc_pair[\"cat\"] = df_non_wc_pair.apply(\n",
    "    lambda row: f\"{row['r_nuc']} in {row['likely_pair'][0]}-{row['likely_pair'][1]}\",\n",
    "    axis=1,\n",
    ")\n",
    "generate_threshold_summary(df_non_wc_pair, \"cat\", greater_than=False)"
   ]
  },
  {
   "cell_type": "code",
   "execution_count": 97,
   "metadata": {},
   "outputs": [
    {
     "name": "stdout",
     "output_type": "stream",
     "text": [
      "Percentage over threshold for the whole set: 14.61%\n"
     ]
    }
   ],
   "source": [
    "df_non_wc_pair = df.query(\n",
    "    \"r_type == 'NON-WC' and (r_nuc == 'A' or r_nuc == 'C') and likely_pair != '' and m_token == '1x1'\"\n",
    ").copy()\n",
    "\n",
    "# Calculate the percentage over the threshold for the whole set\n",
    "threshold = -5.45\n",
    "percent_over_threshold = (df_non_wc_pair[\"ln_r_data\"] < threshold).mean() * 100\n",
    "\n",
    "print(f\"Percentage over threshold for the whole set: {percent_over_threshold:.2f}%\")"
   ]
  },
  {
   "cell_type": "code",
   "execution_count": 98,
   "metadata": {},
   "outputs": [
    {
     "name": "stdout",
     "output_type": "stream",
     "text": [
      "Percentage over threshold for the whole set: 9.00%\n"
     ]
    }
   ],
   "source": [
    "df_non_wc_pair = df.query(\n",
    "    \"r_type == 'NON-WC' and (r_nuc == 'A' or r_nuc == 'C') and likely_pair != '' and m_token == '2x2'\"\n",
    ").copy()\n",
    "\n",
    "# Calculate the percentage over the threshold for the whole set\n",
    "threshold = -5.45\n",
    "percent_over_threshold = (df_non_wc_pair[\"ln_r_data\"] < threshold).mean() * 100\n",
    "\n",
    "print(f\"Percentage over threshold for the whole set: {percent_over_threshold:.2f}%\")"
   ]
  },
  {
   "cell_type": "code",
   "execution_count": 104,
   "metadata": {},
   "outputs": [
    {
     "name": "stderr",
     "output_type": "stream",
     "text": [
      "/opt/homebrew/Caskroom/miniconda/base/envs/py3/lib/python3.8/site-packages/dms_3d_features/plotting.py:426: FutureWarning: \n",
      "\n",
      "Passing `palette` without assigning `hue` is deprecated and will be removed in v0.14.0. Assign the `y` variable to `hue` and set `legend=False` for the same effect.\n",
      "\n",
      "  sns.violinplot(\n"
     ]
    },
    {
     "data": {
      "image/png": "[encoded data removed]",
      "text/plain": [
       "<Figure size 400x300 with 1 Axes>"
      ]
     },
     "metadata": {},
     "output_type": "display_data"
    }
   ],
   "source": [
    "df_non_wc_pair = df.query(\n",
    "    \"r_type == 'NON-WC' and (r_nuc == 'A' or r_nuc == 'C') and likely_pair != '' and m_token == '2x2'\"\n",
    ").copy()\n",
    "df_non_wc_pair[\"cat\"] = df_non_wc_pair.apply(\n",
    "    lambda row: f\"{row['r_nuc']} in {row['likely_pair'][0]}-{row['likely_pair'][1]}\",\n",
    "    axis=1,\n",
    ")\n",
    "fig, ax = plt.subplots(figsize=(2.0, 1.5), dpi=200)\n",
    "plot_violins_w_percent(\n",
    "    df_non_wc_pair,\n",
    "    \"ln_r_data\",\n",
    "    \"cat\",\n",
    "    gt_lt=\"less\",\n",
    "    xlim=(-11, -1),\n",
    "    text_offset=2.5,\n",
    "    colors=[\"tab:red\", \"tab:blue\", \"tab:red\", \"tab:blue\", \"tab:blue\", \"tab:red\"],\n",
    "    sorted_by_mean=True,\n",
    "    ax=ax,\n",
    ")\n",
    "ax.set_ylabel(\"Non-WC Residue\", labelpad=2)\n",
    "ax.set_xlabel(\"ln(Mutational Fraction)\", labelpad=2)\n",
    "format_small_plot(ax)"
   ]
  },
  {
   "cell_type": "code",
   "execution_count": 84,
   "metadata": {},
   "outputs": [
    {
     "name": "stderr",
     "output_type": "stream",
     "text": [
      "/opt/homebrew/Caskroom/miniconda/base/envs/py3/lib/python3.8/site-packages/dms_3d_features/plotting.py:426: FutureWarning: \n",
      "\n",
      "Passing `palette` without assigning `hue` is deprecated and will be removed in v0.14.0. Assign the `y` variable to `hue` and set `legend=False` for the same effect.\n",
      "\n",
      "  sns.violinplot(\n"
     ]
    },
    {
     "data": {
      "image/png": "[encoded data removed]",
      "text/plain": [
       "<Figure size 400x300 with 1 Axes>"
      ]
     },
     "metadata": {},
     "output_type": "display_data"
    }
   ],
   "source": [
    "df_non_wc_pair = df_pdb.query(\n",
    "    \"r_type == 'NON-WC' and (r_nuc == 'A' or r_nuc == 'C')\"\n",
    ").copy()\n",
    "valid_pairs = [\"C-A\", \"C-C\", \"C-U\", \"A-A\", \"A-C\", \"A-G\"]\n",
    "df_non_wc_pair = df_non_wc_pair.query(\"pdb_r_pair in @valid_pairs\")\n",
    "fig, ax = plt.subplots(figsize=(2.0, 1.5), dpi=200)\n",
    "plot_violins_w_percent(\n",
    "    df_non_wc_pair,\n",
    "    \"ln_r_data\",\n",
    "    \"pdb_r_pair\",\n",
    "    gt_lt=\"less\",\n",
    "    xlim=(-11, -1),\n",
    "    text_offset=2.5,\n",
    "    colors=[\"tab:blue\", \"tab:blue\", \"tab:blue\", \"tab:red\", \"tab:red\", \"tab:red\"],\n",
    "    sorted_by_mean=True,\n",
    "    ax=ax,\n",
    ")\n",
    "ax.set_ylabel(\"Non-WC Residue\", labelpad=2)\n",
    "ax.set_xlabel(\"ln(Mutational Fraction)\", labelpad=2)\n",
    "format_small_plot(ax)"
   ]
  },
  {
   "cell_type": "code",
   "execution_count": 85,
   "metadata": {},
   "outputs": [
    {
     "name": "stdout",
     "output_type": "stream",
     "text": [
      "Summary table for pdb_r_pair:\n",
      "| pdb_r_pair   | % < -5.45   |   Count |\n",
      "|:-------------|:------------|--------:|\n",
      "| C-C          | 29.04%      |    2703 |\n",
      "| C-A          | 21.81%      |    3214 |\n",
      "| C-U          | 17.13%      |    2481 |\n",
      "| A-C          | 15.41%      |    3789 |\n",
      "| A-G          | 6.30%       |   11024 |\n",
      "| A-A          | 3.65%       |    8084 |\n"
     ]
    }
   ],
   "source": [
    "df_non_wc_pair = df_pdb.query(\n",
    "    \"r_type == 'NON-WC' and (r_nuc == 'A' or r_nuc == 'C')\"\n",
    ").copy()\n",
    "valid_pairs = [\"C-A\", \"C-C\", \"C-U\", \"A-A\", \"A-C\", \"A-G\"]\n",
    "df_non_wc_pair = df_non_wc_pair.query(\"pdb_r_pair in @valid_pairs\")\n",
    "generate_threshold_summary(df_non_wc_pair, \"pdb_r_pair\", greater_than=False)"
   ]
  },
  {
   "cell_type": "code",
   "execution_count": 87,
   "metadata": {},
   "outputs": [
    {
     "name": "stdout",
     "output_type": "stream",
     "text": [
      "Summary table for pdb_r_pair:\n",
      "| pdb_r_pair   | % < -5.45   |   Count |\n",
      "|:-------------|:------------|--------:|\n",
      "| C-G          | 31.66%      |     619 |\n",
      "| C-C          | 29.04%      |    2703 |\n",
      "| C-A          | 21.81%      |    3214 |\n",
      "| C-U          | 17.13%      |    2481 |\n",
      "| A-C          | 15.41%      |    3789 |\n",
      "| A-G          | 6.30%       |   11024 |\n",
      "| A-A          | 3.65%       |    8084 |\n",
      "| -            | 2.79%       |   16473 |\n",
      "| A-U          | 2.57%       |    2681 |\n"
     ]
    }
   ],
   "source": [
    "df_non_wc_pair = df_pdb.query(\n",
    "    \"r_type == 'NON-WC' and (r_nuc == 'A' or r_nuc == 'C')\"\n",
    ").copy()\n",
    "generate_threshold_summary(df_non_wc_pair, \"pdb_r_pair\", greater_than=False)"
   ]
  },
  {
   "cell_type": "code",
   "execution_count": 94,
   "metadata": {},
   "outputs": [
    {
     "name": "stdout",
     "output_type": "stream",
     "text": [
      "Summary table for cat:\n",
      "| cat      | % < -5.45   |   Count |\n",
      "|:---------|:------------|--------:|\n",
      "| paired   | 10.84%      |   34595 |\n",
      "| unpaired | 2.79%       |   16473 |\n"
     ]
    }
   ],
   "source": [
    "df_non_wc_pair = df_pdb.query(\n",
    "    \"r_type == 'NON-WC' and (r_nuc == 'A' or r_nuc == 'C')\"\n",
    ").copy()\n",
    "# Create a new \"cat\" column based on pdb_r_pair\n",
    "df_non_wc_pair[\"cat\"] = df_non_wc_pair.apply(\n",
    "    lambda row: \"unpaired\" if row[\"pdb_r_pair\"] == \"-\" else \"paired\", axis=1\n",
    ")\n",
    "generate_threshold_summary(df_non_wc_pair, \"cat\", greater_than=False)"
   ]
  },
  {
   "cell_type": "code",
   "execution_count": 86,
   "metadata": {},
   "outputs": [
    {
     "name": "stdout",
     "output_type": "stream",
     "text": [
      "Summary table for r_nuc:\n",
      "| r_nuc   | % < -5.45   |   Count |\n",
      "|:--------|:------------|--------:|\n",
      "| C       | 22.76%      |    8398 |\n",
      "| A       | 6.87%       |   22897 |\n"
     ]
    }
   ],
   "source": [
    "df_non_wc_pair = df_pdb.query(\n",
    "    \"r_type == 'NON-WC' and (r_nuc == 'A' or r_nuc == 'C')\"\n",
    ").copy()\n",
    "valid_pairs = [\"C-A\", \"C-C\", \"C-U\", \"A-A\", \"A-C\", \"A-G\"]\n",
    "df_non_wc_pair = df_non_wc_pair.query(\"pdb_r_pair in @valid_pairs\")\n",
    "generate_threshold_summary(df_non_wc_pair, \"r_nuc\", greater_than=False)"
   ]
  },
  {
   "cell_type": "markdown",
   "metadata": {},
   "source": [
    "# By Topology size"
   ]
  },
  {
   "cell_type": "code",
   "execution_count": 15,
   "metadata": {},
   "outputs": [
    {
     "data": {
      "text/html": [
       "<div>\n",
       "<style scoped>\n",
       "    .dataframe tbody tr th:only-of-type {\n",
       "        vertical-align: middle;\n",
       "    }\n",
       "\n",
       "    .dataframe tbody tr th {\n",
       "        vertical-align: top;\n",
       "    }\n",
       "\n",
       "    .dataframe thead th {\n",
       "        text-align: right;\n",
       "    }\n",
       "</style>\n",
       "<table border=\"1\" class=\"dataframe\">\n",
       "  <thead>\n",
       "    <tr style=\"text-align: right;\">\n",
       "      <th></th>\n",
       "      <th>m_token</th>\n",
       "      <th>cat</th>\n",
       "      <th>count</th>\n",
       "      <th>percent_below_threshold</th>\n",
       "    </tr>\n",
       "  </thead>\n",
       "  <tbody>\n",
       "    <tr>\n",
       "      <th>0</th>\n",
       "      <td>1x1</td>\n",
       "      <td>A in A-A</td>\n",
       "      <td>866</td>\n",
       "      <td>4.618938</td>\n",
       "    </tr>\n",
       "    <tr>\n",
       "      <th>1</th>\n",
       "      <td>1x1</td>\n",
       "      <td>A in A-C</td>\n",
       "      <td>674</td>\n",
       "      <td>17.210682</td>\n",
       "    </tr>\n",
       "    <tr>\n",
       "      <th>2</th>\n",
       "      <td>1x1</td>\n",
       "      <td>A in A-G</td>\n",
       "      <td>563</td>\n",
       "      <td>29.307282</td>\n",
       "    </tr>\n",
       "    <tr>\n",
       "      <th>3</th>\n",
       "      <td>1x1</td>\n",
       "      <td>C in C-A</td>\n",
       "      <td>674</td>\n",
       "      <td>33.086053</td>\n",
       "    </tr>\n",
       "    <tr>\n",
       "      <th>4</th>\n",
       "      <td>1x1</td>\n",
       "      <td>C in C-C</td>\n",
       "      <td>672</td>\n",
       "      <td>0.892857</td>\n",
       "    </tr>\n",
       "    <tr>\n",
       "      <th>5</th>\n",
       "      <td>1x1</td>\n",
       "      <td>C in C-U</td>\n",
       "      <td>624</td>\n",
       "      <td>7.211538</td>\n",
       "    </tr>\n",
       "    <tr>\n",
       "      <th>6</th>\n",
       "      <td>2x2</td>\n",
       "      <td>A in A-A</td>\n",
       "      <td>25164</td>\n",
       "      <td>6.811318</td>\n",
       "    </tr>\n",
       "    <tr>\n",
       "      <th>7</th>\n",
       "      <td>2x2</td>\n",
       "      <td>A in A-C</td>\n",
       "      <td>16493</td>\n",
       "      <td>2.510156</td>\n",
       "    </tr>\n",
       "    <tr>\n",
       "      <th>8</th>\n",
       "      <td>2x2</td>\n",
       "      <td>A in A-G</td>\n",
       "      <td>13943</td>\n",
       "      <td>21.659614</td>\n",
       "    </tr>\n",
       "    <tr>\n",
       "      <th>9</th>\n",
       "      <td>2x2</td>\n",
       "      <td>C in C-A</td>\n",
       "      <td>16493</td>\n",
       "      <td>4.389741</td>\n",
       "    </tr>\n",
       "    <tr>\n",
       "      <th>10</th>\n",
       "      <td>2x2</td>\n",
       "      <td>C in C-C</td>\n",
       "      <td>13374</td>\n",
       "      <td>5.039629</td>\n",
       "    </tr>\n",
       "    <tr>\n",
       "      <th>11</th>\n",
       "      <td>2x2</td>\n",
       "      <td>C in C-U</td>\n",
       "      <td>19494</td>\n",
       "      <td>14.896891</td>\n",
       "    </tr>\n",
       "    <tr>\n",
       "      <th>13</th>\n",
       "      <td>3x3</td>\n",
       "      <td>A in A-C</td>\n",
       "      <td>620</td>\n",
       "      <td>0.322581</td>\n",
       "    </tr>\n",
       "    <tr>\n",
       "      <th>14</th>\n",
       "      <td>3x3</td>\n",
       "      <td>A in A-G</td>\n",
       "      <td>1453</td>\n",
       "      <td>0.000000</td>\n",
       "    </tr>\n",
       "    <tr>\n",
       "      <th>15</th>\n",
       "      <td>3x3</td>\n",
       "      <td>C in C-A</td>\n",
       "      <td>620</td>\n",
       "      <td>16.451613</td>\n",
       "    </tr>\n",
       "    <tr>\n",
       "      <th>17</th>\n",
       "      <td>3x3</td>\n",
       "      <td>C in C-U</td>\n",
       "      <td>311</td>\n",
       "      <td>0.000000</td>\n",
       "    </tr>\n",
       "    <tr>\n",
       "      <th>19</th>\n",
       "      <td>4x4</td>\n",
       "      <td>A in A-C</td>\n",
       "      <td>623</td>\n",
       "      <td>15.890851</td>\n",
       "    </tr>\n",
       "    <tr>\n",
       "      <th>20</th>\n",
       "      <td>4x4</td>\n",
       "      <td>A in A-G</td>\n",
       "      <td>1036</td>\n",
       "      <td>8.494208</td>\n",
       "    </tr>\n",
       "    <tr>\n",
       "      <th>21</th>\n",
       "      <td>4x4</td>\n",
       "      <td>C in C-A</td>\n",
       "      <td>623</td>\n",
       "      <td>31.300161</td>\n",
       "    </tr>\n",
       "    <tr>\n",
       "      <th>22</th>\n",
       "      <td>4x4</td>\n",
       "      <td>C in C-C</td>\n",
       "      <td>414</td>\n",
       "      <td>47.826087</td>\n",
       "    </tr>\n",
       "    <tr>\n",
       "      <th>24</th>\n",
       "      <td>all</td>\n",
       "      <td>A in A-A</td>\n",
       "      <td>26446</td>\n",
       "      <td>6.632383</td>\n",
       "    </tr>\n",
       "    <tr>\n",
       "      <th>25</th>\n",
       "      <td>all</td>\n",
       "      <td>A in A-C</td>\n",
       "      <td>18410</td>\n",
       "      <td>3.427485</td>\n",
       "    </tr>\n",
       "    <tr>\n",
       "      <th>26</th>\n",
       "      <td>all</td>\n",
       "      <td>A in A-G</td>\n",
       "      <td>16995</td>\n",
       "      <td>19.258605</td>\n",
       "    </tr>\n",
       "    <tr>\n",
       "      <th>27</th>\n",
       "      <td>all</td>\n",
       "      <td>C in C-A</td>\n",
       "      <td>18410</td>\n",
       "      <td>6.757197</td>\n",
       "    </tr>\n",
       "    <tr>\n",
       "      <th>28</th>\n",
       "      <td>all</td>\n",
       "      <td>C in C-C</td>\n",
       "      <td>14564</td>\n",
       "      <td>6.722054</td>\n",
       "    </tr>\n",
       "    <tr>\n",
       "      <th>29</th>\n",
       "      <td>all</td>\n",
       "      <td>C in C-U</td>\n",
       "      <td>20636</td>\n",
       "      <td>14.290560</td>\n",
       "    </tr>\n",
       "  </tbody>\n",
       "</table>\n",
       "</div>"
      ],
      "text/plain": [
       "   m_token       cat  count  percent_below_threshold\n",
       "0      1x1  A in A-A    866                 4.618938\n",
       "1      1x1  A in A-C    674                17.210682\n",
       "2      1x1  A in A-G    563                29.307282\n",
       "3      1x1  C in C-A    674                33.086053\n",
       "4      1x1  C in C-C    672                 0.892857\n",
       "5      1x1  C in C-U    624                 7.211538\n",
       "6      2x2  A in A-A  25164                 6.811318\n",
       "7      2x2  A in A-C  16493                 2.510156\n",
       "8      2x2  A in A-G  13943                21.659614\n",
       "9      2x2  C in C-A  16493                 4.389741\n",
       "10     2x2  C in C-C  13374                 5.039629\n",
       "11     2x2  C in C-U  19494                14.896891\n",
       "13     3x3  A in A-C    620                 0.322581\n",
       "14     3x3  A in A-G   1453                 0.000000\n",
       "15     3x3  C in C-A    620                16.451613\n",
       "17     3x3  C in C-U    311                 0.000000\n",
       "19     4x4  A in A-C    623                15.890851\n",
       "20     4x4  A in A-G   1036                 8.494208\n",
       "21     4x4  C in C-A    623                31.300161\n",
       "22     4x4  C in C-C    414                47.826087\n",
       "24     all  A in A-A  26446                 6.632383\n",
       "25     all  A in A-C  18410                 3.427485\n",
       "26     all  A in A-G  16995                19.258605\n",
       "27     all  C in C-A  18410                 6.757197\n",
       "28     all  C in C-C  14564                 6.722054\n",
       "29     all  C in C-U  20636                14.290560"
      ]
     },
     "execution_count": 15,
     "metadata": {},
     "output_type": "execute_result"
    }
   ],
   "source": [
    "df_non_wc_pair = df.query(\n",
    "    \"r_type == 'NON-WC' and (r_nuc == 'A' or r_nuc == 'C') and likely_pair != '' and likely_pair != 'AU'\"\n",
    ").copy()\n",
    "\n",
    "df_non_wc_pair[\"cat\"] = (\n",
    "    df_non_wc_pair[\"r_nuc\"]\n",
    "    + \" in \"\n",
    "    + df_non_wc_pair[\"likely_pair\"].str[0]\n",
    "    + \"-\"\n",
    "    + df_non_wc_pair[\"likely_pair\"].str[1]\n",
    ")\n",
    "\n",
    "\n",
    "def percent_below_threshold(series, threshold=-5.45):\n",
    "    return (series < threshold).mean() * 100\n",
    "\n",
    "\n",
    "result = (\n",
    "    df_non_wc_pair.groupby([\"m_token\", \"cat\"])\n",
    "    .agg(\n",
    "        count=(\"ln_r_data\", \"size\"),\n",
    "        percent_below_threshold=(\"ln_r_data\", percent_below_threshold),\n",
    "    )\n",
    "    .reset_index()\n",
    ")\n",
    "\n",
    "result_all = (\n",
    "    df_non_wc_pair.groupby(\"cat\")\n",
    "    .agg(\n",
    "        count=(\"ln_r_data\", \"size\"),\n",
    "        percent_below_threshold=(\"ln_r_data\", percent_below_threshold),\n",
    "    )\n",
    "    .reset_index()\n",
    ")\n",
    "result_all[\"m_token\"] = \"all\"\n",
    "\n",
    "result = pd.concat([result, result_all], ignore_index=True)\n",
    "result = result.sort_values([\"m_token\", \"cat\"]).reset_index(drop=True)\n",
    "result.query(\"count > 300\")"
   ]
  },
  {
   "cell_type": "markdown",
   "metadata": {},
   "source": [
    "## junction size for A in A-A "
   ]
  },
  {
   "cell_type": "code",
   "execution_count": 16,
   "metadata": {},
   "outputs": [
    {
     "data": {
      "text/html": [
       "<div>\n",
       "<style scoped>\n",
       "    .dataframe tbody tr th:only-of-type {\n",
       "        vertical-align: middle;\n",
       "    }\n",
       "\n",
       "    .dataframe tbody tr th {\n",
       "        vertical-align: top;\n",
       "    }\n",
       "\n",
       "    .dataframe thead th {\n",
       "        text-align: right;\n",
       "    }\n",
       "</style>\n",
       "<table border=\"1\" class=\"dataframe\">\n",
       "  <thead>\n",
       "    <tr style=\"text-align: right;\">\n",
       "      <th></th>\n",
       "      <th>m_token</th>\n",
       "      <th>cat</th>\n",
       "      <th>count</th>\n",
       "      <th>percent_below_threshold</th>\n",
       "    </tr>\n",
       "  </thead>\n",
       "  <tbody>\n",
       "    <tr>\n",
       "      <th>0</th>\n",
       "      <td>1x1</td>\n",
       "      <td>A in A-A</td>\n",
       "      <td>866</td>\n",
       "      <td>4.618938</td>\n",
       "    </tr>\n",
       "    <tr>\n",
       "      <th>6</th>\n",
       "      <td>2x2</td>\n",
       "      <td>A in A-A</td>\n",
       "      <td>25164</td>\n",
       "      <td>6.811318</td>\n",
       "    </tr>\n",
       "    <tr>\n",
       "      <th>12</th>\n",
       "      <td>3x3</td>\n",
       "      <td>A in A-A</td>\n",
       "      <td>208</td>\n",
       "      <td>0.000000</td>\n",
       "    </tr>\n",
       "    <tr>\n",
       "      <th>18</th>\n",
       "      <td>4x4</td>\n",
       "      <td>A in A-A</td>\n",
       "      <td>208</td>\n",
       "      <td>0.000000</td>\n",
       "    </tr>\n",
       "    <tr>\n",
       "      <th>24</th>\n",
       "      <td>all</td>\n",
       "      <td>A in A-A</td>\n",
       "      <td>26446</td>\n",
       "      <td>6.632383</td>\n",
       "    </tr>\n",
       "  </tbody>\n",
       "</table>\n",
       "</div>"
      ],
      "text/plain": [
       "   m_token       cat  count  percent_below_threshold\n",
       "0      1x1  A in A-A    866                 4.618938\n",
       "6      2x2  A in A-A  25164                 6.811318\n",
       "12     3x3  A in A-A    208                 0.000000\n",
       "18     4x4  A in A-A    208                 0.000000\n",
       "24     all  A in A-A  26446                 6.632383"
      ]
     },
     "execution_count": 16,
     "metadata": {},
     "output_type": "execute_result"
    }
   ],
   "source": [
    "result.query(\"cat == 'A in A-A'\")"
   ]
  },
  {
   "cell_type": "markdown",
   "metadata": {},
   "source": [
    "## junction size for A in A-C "
   ]
  },
  {
   "cell_type": "code",
   "execution_count": 17,
   "metadata": {},
   "outputs": [
    {
     "data": {
      "text/html": [
       "<div>\n",
       "<style scoped>\n",
       "    .dataframe tbody tr th:only-of-type {\n",
       "        vertical-align: middle;\n",
       "    }\n",
       "\n",
       "    .dataframe tbody tr th {\n",
       "        vertical-align: top;\n",
       "    }\n",
       "\n",
       "    .dataframe thead th {\n",
       "        text-align: right;\n",
       "    }\n",
       "</style>\n",
       "<table border=\"1\" class=\"dataframe\">\n",
       "  <thead>\n",
       "    <tr style=\"text-align: right;\">\n",
       "      <th></th>\n",
       "      <th>m_token</th>\n",
       "      <th>cat</th>\n",
       "      <th>count</th>\n",
       "      <th>percent_below_threshold</th>\n",
       "    </tr>\n",
       "  </thead>\n",
       "  <tbody>\n",
       "    <tr>\n",
       "      <th>1</th>\n",
       "      <td>1x1</td>\n",
       "      <td>A in A-C</td>\n",
       "      <td>674</td>\n",
       "      <td>17.210682</td>\n",
       "    </tr>\n",
       "    <tr>\n",
       "      <th>7</th>\n",
       "      <td>2x2</td>\n",
       "      <td>A in A-C</td>\n",
       "      <td>16493</td>\n",
       "      <td>2.510156</td>\n",
       "    </tr>\n",
       "    <tr>\n",
       "      <th>13</th>\n",
       "      <td>3x3</td>\n",
       "      <td>A in A-C</td>\n",
       "      <td>620</td>\n",
       "      <td>0.322581</td>\n",
       "    </tr>\n",
       "    <tr>\n",
       "      <th>19</th>\n",
       "      <td>4x4</td>\n",
       "      <td>A in A-C</td>\n",
       "      <td>623</td>\n",
       "      <td>15.890851</td>\n",
       "    </tr>\n",
       "    <tr>\n",
       "      <th>25</th>\n",
       "      <td>all</td>\n",
       "      <td>A in A-C</td>\n",
       "      <td>18410</td>\n",
       "      <td>3.427485</td>\n",
       "    </tr>\n",
       "  </tbody>\n",
       "</table>\n",
       "</div>"
      ],
      "text/plain": [
       "   m_token       cat  count  percent_below_threshold\n",
       "1      1x1  A in A-C    674                17.210682\n",
       "7      2x2  A in A-C  16493                 2.510156\n",
       "13     3x3  A in A-C    620                 0.322581\n",
       "19     4x4  A in A-C    623                15.890851\n",
       "25     all  A in A-C  18410                 3.427485"
      ]
     },
     "execution_count": 17,
     "metadata": {},
     "output_type": "execute_result"
    }
   ],
   "source": [
    "result.query(\"cat == 'A in A-C'\")"
   ]
  },
  {
   "cell_type": "markdown",
   "metadata": {},
   "source": [
    "## junction size for A in A-G "
   ]
  },
  {
   "cell_type": "code",
   "execution_count": 18,
   "metadata": {},
   "outputs": [
    {
     "data": {
      "text/html": [
       "<div>\n",
       "<style scoped>\n",
       "    .dataframe tbody tr th:only-of-type {\n",
       "        vertical-align: middle;\n",
       "    }\n",
       "\n",
       "    .dataframe tbody tr th {\n",
       "        vertical-align: top;\n",
       "    }\n",
       "\n",
       "    .dataframe thead th {\n",
       "        text-align: right;\n",
       "    }\n",
       "</style>\n",
       "<table border=\"1\" class=\"dataframe\">\n",
       "  <thead>\n",
       "    <tr style=\"text-align: right;\">\n",
       "      <th></th>\n",
       "      <th>m_token</th>\n",
       "      <th>cat</th>\n",
       "      <th>count</th>\n",
       "      <th>percent_below_threshold</th>\n",
       "    </tr>\n",
       "  </thead>\n",
       "  <tbody>\n",
       "    <tr>\n",
       "      <th>2</th>\n",
       "      <td>1x1</td>\n",
       "      <td>A in A-G</td>\n",
       "      <td>563</td>\n",
       "      <td>29.307282</td>\n",
       "    </tr>\n",
       "    <tr>\n",
       "      <th>8</th>\n",
       "      <td>2x2</td>\n",
       "      <td>A in A-G</td>\n",
       "      <td>13943</td>\n",
       "      <td>21.659614</td>\n",
       "    </tr>\n",
       "    <tr>\n",
       "      <th>14</th>\n",
       "      <td>3x3</td>\n",
       "      <td>A in A-G</td>\n",
       "      <td>1453</td>\n",
       "      <td>0.000000</td>\n",
       "    </tr>\n",
       "    <tr>\n",
       "      <th>20</th>\n",
       "      <td>4x4</td>\n",
       "      <td>A in A-G</td>\n",
       "      <td>1036</td>\n",
       "      <td>8.494208</td>\n",
       "    </tr>\n",
       "    <tr>\n",
       "      <th>26</th>\n",
       "      <td>all</td>\n",
       "      <td>A in A-G</td>\n",
       "      <td>16995</td>\n",
       "      <td>19.258605</td>\n",
       "    </tr>\n",
       "  </tbody>\n",
       "</table>\n",
       "</div>"
      ],
      "text/plain": [
       "   m_token       cat  count  percent_below_threshold\n",
       "2      1x1  A in A-G    563                29.307282\n",
       "8      2x2  A in A-G  13943                21.659614\n",
       "14     3x3  A in A-G   1453                 0.000000\n",
       "20     4x4  A in A-G   1036                 8.494208\n",
       "26     all  A in A-G  16995                19.258605"
      ]
     },
     "execution_count": 18,
     "metadata": {},
     "output_type": "execute_result"
    }
   ],
   "source": [
    "result.query(\"cat == 'A in A-G'\")"
   ]
  },
  {
   "cell_type": "markdown",
   "metadata": {},
   "source": [
    "## junction size for C in C-A "
   ]
  },
  {
   "cell_type": "code",
   "execution_count": 19,
   "metadata": {},
   "outputs": [
    {
     "data": {
      "text/html": [
       "<div>\n",
       "<style scoped>\n",
       "    .dataframe tbody tr th:only-of-type {\n",
       "        vertical-align: middle;\n",
       "    }\n",
       "\n",
       "    .dataframe tbody tr th {\n",
       "        vertical-align: top;\n",
       "    }\n",
       "\n",
       "    .dataframe thead th {\n",
       "        text-align: right;\n",
       "    }\n",
       "</style>\n",
       "<table border=\"1\" class=\"dataframe\">\n",
       "  <thead>\n",
       "    <tr style=\"text-align: right;\">\n",
       "      <th></th>\n",
       "      <th>m_token</th>\n",
       "      <th>cat</th>\n",
       "      <th>count</th>\n",
       "      <th>percent_below_threshold</th>\n",
       "    </tr>\n",
       "  </thead>\n",
       "  <tbody>\n",
       "    <tr>\n",
       "      <th>3</th>\n",
       "      <td>1x1</td>\n",
       "      <td>C in C-A</td>\n",
       "      <td>674</td>\n",
       "      <td>33.086053</td>\n",
       "    </tr>\n",
       "    <tr>\n",
       "      <th>9</th>\n",
       "      <td>2x2</td>\n",
       "      <td>C in C-A</td>\n",
       "      <td>16493</td>\n",
       "      <td>4.389741</td>\n",
       "    </tr>\n",
       "    <tr>\n",
       "      <th>15</th>\n",
       "      <td>3x3</td>\n",
       "      <td>C in C-A</td>\n",
       "      <td>620</td>\n",
       "      <td>16.451613</td>\n",
       "    </tr>\n",
       "    <tr>\n",
       "      <th>21</th>\n",
       "      <td>4x4</td>\n",
       "      <td>C in C-A</td>\n",
       "      <td>623</td>\n",
       "      <td>31.300161</td>\n",
       "    </tr>\n",
       "    <tr>\n",
       "      <th>27</th>\n",
       "      <td>all</td>\n",
       "      <td>C in C-A</td>\n",
       "      <td>18410</td>\n",
       "      <td>6.757197</td>\n",
       "    </tr>\n",
       "  </tbody>\n",
       "</table>\n",
       "</div>"
      ],
      "text/plain": [
       "   m_token       cat  count  percent_below_threshold\n",
       "3      1x1  C in C-A    674                33.086053\n",
       "9      2x2  C in C-A  16493                 4.389741\n",
       "15     3x3  C in C-A    620                16.451613\n",
       "21     4x4  C in C-A    623                31.300161\n",
       "27     all  C in C-A  18410                 6.757197"
      ]
     },
     "execution_count": 19,
     "metadata": {},
     "output_type": "execute_result"
    }
   ],
   "source": [
    "result.query(\"cat == 'C in C-A'\")"
   ]
  },
  {
   "cell_type": "markdown",
   "metadata": {},
   "source": [
    "## junction size for C in C-C \n"
   ]
  },
  {
   "cell_type": "code",
   "execution_count": 20,
   "metadata": {},
   "outputs": [
    {
     "data": {
      "text/html": [
       "<div>\n",
       "<style scoped>\n",
       "    .dataframe tbody tr th:only-of-type {\n",
       "        vertical-align: middle;\n",
       "    }\n",
       "\n",
       "    .dataframe tbody tr th {\n",
       "        vertical-align: top;\n",
       "    }\n",
       "\n",
       "    .dataframe thead th {\n",
       "        text-align: right;\n",
       "    }\n",
       "</style>\n",
       "<table border=\"1\" class=\"dataframe\">\n",
       "  <thead>\n",
       "    <tr style=\"text-align: right;\">\n",
       "      <th></th>\n",
       "      <th>m_token</th>\n",
       "      <th>cat</th>\n",
       "      <th>count</th>\n",
       "      <th>percent_below_threshold</th>\n",
       "    </tr>\n",
       "  </thead>\n",
       "  <tbody>\n",
       "    <tr>\n",
       "      <th>4</th>\n",
       "      <td>1x1</td>\n",
       "      <td>C in C-C</td>\n",
       "      <td>672</td>\n",
       "      <td>0.892857</td>\n",
       "    </tr>\n",
       "    <tr>\n",
       "      <th>10</th>\n",
       "      <td>2x2</td>\n",
       "      <td>C in C-C</td>\n",
       "      <td>13374</td>\n",
       "      <td>5.039629</td>\n",
       "    </tr>\n",
       "    <tr>\n",
       "      <th>16</th>\n",
       "      <td>3x3</td>\n",
       "      <td>C in C-C</td>\n",
       "      <td>104</td>\n",
       "      <td>97.115385</td>\n",
       "    </tr>\n",
       "    <tr>\n",
       "      <th>22</th>\n",
       "      <td>4x4</td>\n",
       "      <td>C in C-C</td>\n",
       "      <td>414</td>\n",
       "      <td>47.826087</td>\n",
       "    </tr>\n",
       "    <tr>\n",
       "      <th>28</th>\n",
       "      <td>all</td>\n",
       "      <td>C in C-C</td>\n",
       "      <td>14564</td>\n",
       "      <td>6.722054</td>\n",
       "    </tr>\n",
       "  </tbody>\n",
       "</table>\n",
       "</div>"
      ],
      "text/plain": [
       "   m_token       cat  count  percent_below_threshold\n",
       "4      1x1  C in C-C    672                 0.892857\n",
       "10     2x2  C in C-C  13374                 5.039629\n",
       "16     3x3  C in C-C    104                97.115385\n",
       "22     4x4  C in C-C    414                47.826087\n",
       "28     all  C in C-C  14564                 6.722054"
      ]
     },
     "execution_count": 20,
     "metadata": {},
     "output_type": "execute_result"
    }
   ],
   "source": [
    "result.query(\"cat == 'C in C-C'\")"
   ]
  },
  {
   "cell_type": "markdown",
   "metadata": {},
   "source": [
    "## junction size for C in C-U"
   ]
  },
  {
   "cell_type": "code",
   "execution_count": 21,
   "metadata": {},
   "outputs": [
    {
     "data": {
      "text/html": [
       "<div>\n",
       "<style scoped>\n",
       "    .dataframe tbody tr th:only-of-type {\n",
       "        vertical-align: middle;\n",
       "    }\n",
       "\n",
       "    .dataframe tbody tr th {\n",
       "        vertical-align: top;\n",
       "    }\n",
       "\n",
       "    .dataframe thead th {\n",
       "        text-align: right;\n",
       "    }\n",
       "</style>\n",
       "<table border=\"1\" class=\"dataframe\">\n",
       "  <thead>\n",
       "    <tr style=\"text-align: right;\">\n",
       "      <th></th>\n",
       "      <th>m_token</th>\n",
       "      <th>cat</th>\n",
       "      <th>count</th>\n",
       "      <th>percent_below_threshold</th>\n",
       "    </tr>\n",
       "  </thead>\n",
       "  <tbody>\n",
       "    <tr>\n",
       "      <th>5</th>\n",
       "      <td>1x1</td>\n",
       "      <td>C in C-U</td>\n",
       "      <td>624</td>\n",
       "      <td>7.211538</td>\n",
       "    </tr>\n",
       "    <tr>\n",
       "      <th>11</th>\n",
       "      <td>2x2</td>\n",
       "      <td>C in C-U</td>\n",
       "      <td>19494</td>\n",
       "      <td>14.896891</td>\n",
       "    </tr>\n",
       "    <tr>\n",
       "      <th>17</th>\n",
       "      <td>3x3</td>\n",
       "      <td>C in C-U</td>\n",
       "      <td>311</td>\n",
       "      <td>0.000000</td>\n",
       "    </tr>\n",
       "    <tr>\n",
       "      <th>23</th>\n",
       "      <td>4x4</td>\n",
       "      <td>C in C-U</td>\n",
       "      <td>207</td>\n",
       "      <td>0.000000</td>\n",
       "    </tr>\n",
       "    <tr>\n",
       "      <th>29</th>\n",
       "      <td>all</td>\n",
       "      <td>C in C-U</td>\n",
       "      <td>20636</td>\n",
       "      <td>14.290560</td>\n",
       "    </tr>\n",
       "  </tbody>\n",
       "</table>\n",
       "</div>"
      ],
      "text/plain": [
       "   m_token       cat  count  percent_below_threshold\n",
       "5      1x1  C in C-U    624                 7.211538\n",
       "11     2x2  C in C-U  19494                14.896891\n",
       "17     3x3  C in C-U    311                 0.000000\n",
       "23     4x4  C in C-U    207                 0.000000\n",
       "29     all  C in C-U  20636                14.290560"
      ]
     },
     "execution_count": 21,
     "metadata": {},
     "output_type": "execute_result"
    }
   ],
   "source": [
    "result.query(\"cat == 'C in C-U'\")"
   ]
  },
  {
   "cell_type": "markdown",
   "metadata": {},
   "source": [
    "# Sequence preferences\n"
   ]
  },
  {
   "cell_type": "markdown",
   "metadata": {},
   "source": [
    "## A in A-A sequence preferences\n"
   ]
  },
  {
   "cell_type": "code",
   "execution_count": 40,
   "metadata": {},
   "outputs": [
    {
     "name": "stdout",
     "output_type": "stream",
     "text": [
      "Summary table for p5_res:\n",
      "| p5_res   | % Under -5.45   |   Count |\n",
      "|:---------|:----------------|--------:|\n",
      "| A        | 11.23%          |    7202 |\n",
      "| U        | 6.78%           |    6781 |\n",
      "| G        | 4.02%           |    5920 |\n",
      "| C        | 3.78%           |    6543 |\n"
     ]
    }
   ],
   "source": [
    "df_aa = df.query(\"r_nuc == 'A' and r_type == 'NON-WC' and likely_pair == 'AA'\").copy()\n",
    "create_summary_table(df_aa, \"p5_res\")"
   ]
  },
  {
   "cell_type": "code",
   "execution_count": 41,
   "metadata": {},
   "outputs": [
    {
     "name": "stdout",
     "output_type": "stream",
     "text": [
      "Summary table for p3_res:\n",
      "| p3_res   | % Under -5.45   |   Count |\n",
      "|:---------|:----------------|--------:|\n",
      "| A        | 12.86%          |    8209 |\n",
      "| U        | 5.59%           |    5744 |\n",
      "| C        | 3.77%           |    6711 |\n",
      "| G        | 2.14%           |    5782 |\n"
     ]
    }
   ],
   "source": [
    "create_summary_table(df_aa, \"p3_res\")"
   ]
  },
  {
   "cell_type": "code",
   "execution_count": 42,
   "metadata": {},
   "outputs": [
    {
     "name": "stdout",
     "output_type": "stream",
     "text": [
      "Summary table for r_stack:\n",
      "| r_stack   | % Under -5.45   |   Count |\n",
      "|:----------|:----------------|--------:|\n",
      "| AA        | 15.88%          |    2110 |\n",
      "| AU        | 13.47%          |    1655 |\n",
      "| UA        | 12.47%          |    2238 |\n",
      "| GA        | 11.78%          |    1825 |\n",
      "| AC        | 11.62%          |    1825 |\n",
      "| CA        | 11.15%          |    2036 |\n",
      "| UU        | 5.26%           |    1425 |\n",
      "| UG        | 4.86%           |    1483 |\n",
      "| AG        | 2.42%           |    1612 |\n",
      "| UC        | 2.08%           |    1635 |\n",
      "| GU        | 1.19%           |    1256 |\n",
      "| CU        | 0.57%           |    1408 |\n",
      "| CG        | 0.54%           |    1475 |\n",
      "| GG        | 0.41%           |    1212 |\n",
      "| CC        | 0.25%           |    1624 |\n",
      "| GC        | 0.18%           |    1627 |\n"
     ]
    }
   ],
   "source": [
    "create_summary_table(df_aa, \"r_stack\")"
   ]
  },
  {
   "cell_type": "code",
   "execution_count": 43,
   "metadata": {},
   "outputs": [
    {
     "name": "stdout",
     "output_type": "stream",
     "text": [
      "Summary table for stack_type:\n",
      "| stack_type      | % Under -5.45   |   Count |\n",
      "|:----------------|:----------------|--------:|\n",
      "| both_purine     | 8.79%           |    6759 |\n",
      "| mixed           | 7.64%           |   13595 |\n",
      "| both_pyrimidine | 1.99%           |    6092 |\n"
     ]
    }
   ],
   "source": [
    "create_summary_table(df_aa, \"stack_type\")"
   ]
  },
  {
   "cell_type": "markdown",
   "metadata": {},
   "source": [
    "## A in A-C sequence preferences"
   ]
  },
  {
   "cell_type": "code",
   "execution_count": 44,
   "metadata": {},
   "outputs": [
    {
     "name": "stdout",
     "output_type": "stream",
     "text": [
      "Summary table for p5_res:\n",
      "| p5_res   | % Under -5.45   |   Count |\n",
      "|:---------|:----------------|--------:|\n",
      "| G        | 5.20%           |    3942 |\n",
      "| U        | 4.67%           |    5311 |\n",
      "| A        | 3.19%           |    4706 |\n",
      "| C        | 0.63%           |    4451 |\n"
     ]
    }
   ],
   "source": [
    "df_ac = df.query(\"r_nuc == 'A' and r_type == 'NON-WC' and likely_pair == 'AC'\").copy()\n",
    "create_summary_table(df_ac, \"p5_res\")"
   ]
  },
  {
   "cell_type": "code",
   "execution_count": 45,
   "metadata": {},
   "outputs": [
    {
     "name": "stdout",
     "output_type": "stream",
     "text": [
      "Summary table for p3_res:\n",
      "| p3_res   | % Under -5.45   |   Count |\n",
      "|:---------|:----------------|--------:|\n",
      "| U        | 7.11%           |    4739 |\n",
      "| G        | 3.51%           |    2822 |\n",
      "| A        | 2.22%           |    3510 |\n",
      "| C        | 1.59%           |    7339 |\n"
     ]
    }
   ],
   "source": [
    "create_summary_table(df_ac, \"p3_res\")"
   ]
  },
  {
   "cell_type": "code",
   "execution_count": 46,
   "metadata": {},
   "outputs": [
    {
     "name": "stdout",
     "output_type": "stream",
     "text": [
      "Summary table for r_stack:\n",
      "| r_stack   | % Under -5.45   |   Count |\n",
      "|:----------|:----------------|--------:|\n",
      "| GG        | 18.86%          |     525 |\n",
      "| UU        | 10.95%          |    1425 |\n",
      "| AU        | 7.87%           |    1232 |\n",
      "| GU        | 7.05%           |    1064 |\n",
      "| UA        | 3.97%           |    1033 |\n",
      "| AA        | 3.15%           |     793 |\n",
      "| UC        | 2.51%           |    2035 |\n",
      "| GC        | 1.79%           |    1512 |\n",
      "| AC        | 1.37%           |    2051 |\n",
      "| CA        | 0.95%           |     843 |\n",
      "| CU        | 0.88%           |    1018 |\n",
      "| CC        | 0.63%           |    1741 |\n",
      "| GA        | 0.48%           |     841 |\n",
      "| AG        | 0.00%           |     630 |\n",
      "| CG        | 0.00%           |     849 |\n",
      "| UG        | 0.00%           |     818 |\n"
     ]
    }
   ],
   "source": [
    "create_summary_table(df_ac, \"r_stack\")"
   ]
  },
  {
   "cell_type": "code",
   "execution_count": 47,
   "metadata": {},
   "outputs": [
    {
     "name": "stdout",
     "output_type": "stream",
     "text": [
      "Summary table for stack_type:\n",
      "| stack_type      | % Under -5.45   |   Count |\n",
      "|:----------------|:----------------|--------:|\n",
      "| both_purine     | 4.59%           |    2789 |\n",
      "| both_pyrimidine | 3.65%           |    6219 |\n",
      "| mixed           | 2.94%           |    9402 |\n"
     ]
    }
   ],
   "source": [
    "create_summary_table(df_ac, \"stack_type\")"
   ]
  },
  {
   "cell_type": "markdown",
   "metadata": {},
   "source": [
    "## A in A-G sequence preferences"
   ]
  },
  {
   "cell_type": "code",
   "execution_count": 48,
   "metadata": {},
   "outputs": [
    {
     "name": "stdout",
     "output_type": "stream",
     "text": [
      "Summary table for p5_res:\n",
      "| p5_res   | % Under -5.45   |   Count |\n",
      "|:---------|:----------------|--------:|\n",
      "| A        | 25.01%          |    5049 |\n",
      "| C        | 23.39%          |    3023 |\n",
      "| U        | 19.59%          |    4069 |\n",
      "| G        | 10.42%          |    4854 |\n",
      "Summary table for p3_res:\n",
      "| p3_res   | % Under -5.45   |   Count |\n",
      "|:---------|:----------------|--------:|\n",
      "| A        | 28.85%          |    6323 |\n",
      "| C        | 19.09%          |    3568 |\n",
      "| U        | 17.96%          |    3625 |\n",
      "| G        | 3.36%           |    3479 |\n",
      "Summary table for stack_type:\n",
      "| stack_type      | % Under -5.45   |   Count |\n",
      "|:----------------|:----------------|--------:|\n",
      "| both_pyrimidine | 22.70%          |    2973 |\n",
      "| both_purine     | 19.57%          |    5683 |\n",
      "| mixed           | 17.82%          |    8339 |\n"
     ]
    }
   ],
   "source": [
    "df_ag = df.query(\"r_nuc == 'A' and r_type == 'NON-WC' and likely_pair == 'AG'\").copy()\n",
    "create_summary_table(df_ag, \"p5_res\")\n",
    "create_summary_table(df_ag, \"p3_res\")\n",
    "create_summary_table(df_ag, \"stack_type\")"
   ]
  },
  {
   "cell_type": "code",
   "execution_count": 49,
   "metadata": {},
   "outputs": [
    {
     "name": "stdout",
     "output_type": "stream",
     "text": [
      "Summary table for r_stack:\n",
      "| r_stack   | % Under -5.45   |   Count |\n",
      "|:----------|:----------------|--------:|\n",
      "| CA        | 39.24%          |    1213 |\n",
      "| AA        | 35.95%          |    1708 |\n",
      "| UC        | 32.78%          |     778 |\n",
      "| AU        | 31.22%          |    1118 |\n",
      "| CC        | 27.18%          |     710 |\n",
      "| UU        | 22.75%          |     835 |\n",
      "| UA        | 21.89%          |    1608 |\n",
      "| GA        | 21.29%          |    1794 |\n",
      "| AC        | 16.87%          |    1091 |\n",
      "| AG        | 10.25%          |    1132 |\n",
      "| GU        | 7.34%           |    1022 |\n",
      "| CU        | 5.69%           |     650 |\n",
      "| GC        | 4.95%           |     989 |\n",
      "| CG        | 0.22%           |     450 |\n",
      "| GG        | 0.00%           |    1049 |\n",
      "| UG        | 0.00%           |     848 |\n"
     ]
    }
   ],
   "source": [
    "create_summary_table(df_ag, \"r_stack\")"
   ]
  },
  {
   "cell_type": "markdown",
   "metadata": {},
   "source": [
    "## C in C-A sequence preferences"
   ]
  },
  {
   "cell_type": "code",
   "execution_count": 50,
   "metadata": {},
   "outputs": [
    {
     "name": "stdout",
     "output_type": "stream",
     "text": [
      "Summary table for p5_res:\n",
      "| p5_res   | % Under -5.45   |   Count |\n",
      "|:---------|:----------------|--------:|\n",
      "| C        | 18.57%          |    4793 |\n",
      "| G        | 5.51%           |    2760 |\n",
      "| U        | 2.41%           |    5941 |\n",
      "| A        | 1.20%           |    4916 |\n",
      "Summary table for p3_res:\n",
      "| p3_res   | % Under -5.45   |   Count |\n",
      "|:---------|:----------------|--------:|\n",
      "| U        | 11.49%          |    3725 |\n",
      "| A        | 7.03%           |    7764 |\n",
      "| C        | 5.53%           |    3945 |\n",
      "| G        | 1.75%           |    2976 |\n",
      "Summary table for stack_type:\n",
      "| stack_type      | % Under -5.45   |   Count |\n",
      "|:----------------|:----------------|--------:|\n",
      "| both_pyrimidine | 11.66%          |    4623 |\n",
      "| mixed           | 6.56%           |    9158 |\n",
      "| both_purine     | 2.25%           |    4629 |\n"
     ]
    }
   ],
   "source": [
    "df_ca = df.query(\"r_nuc == 'C' and r_type == 'NON-WC' and likely_pair == 'CA'\").copy()\n",
    "create_summary_table(df_ca, \"p5_res\")\n",
    "create_summary_table(df_ca, \"p3_res\")\n",
    "create_summary_table(df_ca, \"stack_type\")"
   ]
  },
  {
   "cell_type": "code",
   "execution_count": 51,
   "metadata": {},
   "outputs": [
    {
     "name": "stdout",
     "output_type": "stream",
     "text": [
      "Summary table for r_stack:\n",
      "| r_stack   | % Under -5.45   |   Count |\n",
      "|:----------|:----------------|--------:|\n",
      "| CU        | 39.12%          |    1025 |\n",
      "| CA        | 17.47%          |    1935 |\n",
      "| CC        | 10.32%          |     959 |\n",
      "| GC        | 8.41%           |     440 |\n",
      "| GA        | 6.34%           |    1641 |\n",
      "| CG        | 5.95%           |     874 |\n",
      "| AC        | 4.67%           |    1136 |\n",
      "| UA        | 4.58%           |    2272 |\n",
      "| GU        | 2.51%           |     438 |\n",
      "| UC        | 2.06%           |    1410 |\n",
      "| UU        | 0.81%           |    1229 |\n",
      "| AU        | 0.58%           |    1033 |\n",
      "| UG        | 0.00%           |    1030 |\n",
      "| GG        | 0.00%           |     241 |\n",
      "| AA        | 0.00%           |    1916 |\n",
      "| AG        | 0.00%           |     831 |\n"
     ]
    }
   ],
   "source": [
    "create_summary_table(df_ca, \"r_stack\")"
   ]
  },
  {
   "cell_type": "markdown",
   "metadata": {},
   "source": [
    "## C in C-C sequence preferences"
   ]
  },
  {
   "cell_type": "code",
   "execution_count": 52,
   "metadata": {},
   "outputs": [
    {
     "name": "stdout",
     "output_type": "stream",
     "text": [
      "Summary table for p5_res:\n",
      "| p5_res   | % Under -5.45   |   Count |\n",
      "|:---------|:----------------|--------:|\n",
      "| C        | 18.78%          |    3174 |\n",
      "| G        | 5.57%           |    1920 |\n",
      "| U        | 4.57%           |    5227 |\n",
      "| A        | 0.87%           |    4243 |\n"
     ]
    }
   ],
   "source": [
    "df_cc = df.query(\"r_nuc == 'C' and r_type == 'NON-WC' and likely_pair == 'CC'\").copy()\n",
    "create_summary_table(df_cc, \"p5_res\")"
   ]
  },
  {
   "cell_type": "code",
   "execution_count": 53,
   "metadata": {},
   "outputs": [
    {
     "name": "stdout",
     "output_type": "stream",
     "text": [
      "Summary table for p3_res:\n",
      "| p3_res   | % Under -5.45   |   Count |\n",
      "|:---------|:----------------|--------:|\n",
      "| U        | 14.93%          |    3852 |\n",
      "| C        | 6.47%           |    6226 |\n",
      "| A        | 0.04%           |    2832 |\n",
      "| G        | 0.00%           |    1654 |\n"
     ]
    }
   ],
   "source": [
    "create_summary_table(df_cc, \"p3_res\")"
   ]
  },
  {
   "cell_type": "code",
   "execution_count": 54,
   "metadata": {},
   "outputs": [
    {
     "name": "stdout",
     "output_type": "stream",
     "text": [
      "Summary table for r_stack:\n",
      "| r_stack   | % Under -5.45   |   Count |\n",
      "|:----------|:----------------|--------:|\n",
      "| CU        | 29.77%          |     813 |\n",
      "| CC        | 27.76%          |    1275 |\n",
      "| GU        | 19.10%          |     555 |\n",
      "| UU        | 15.45%          |    1437 |\n",
      "| AC        | 1.74%           |    1835 |\n",
      "| UC        | 0.80%           |    2011 |\n",
      "| AU        | 0.48%           |    1047 |\n",
      "| UA        | 0.10%           |    1035 |\n",
      "| GC        | 0.09%           |    1105 |\n",
      "| AA        | 0.00%           |     839 |\n",
      "| GA        | 0.00%           |     232 |\n",
      "| AG        | 0.00%           |     522 |\n",
      "| CA        | 0.00%           |     726 |\n",
      "| CG        | 0.00%           |     360 |\n",
      "| UG        | 0.00%           |     744 |\n",
      "| GG        | 0.00%           |      28 |\n"
     ]
    }
   ],
   "source": [
    "create_summary_table(df_cc, \"r_stack\")"
   ]
  },
  {
   "cell_type": "code",
   "execution_count": 55,
   "metadata": {},
   "outputs": [
    {
     "name": "stdout",
     "output_type": "stream",
     "text": [
      "Summary table for stack_type:\n",
      "| stack_type      | % Under -5.45   |   Count |\n",
      "|:----------------|:----------------|--------:|\n",
      "| both_pyrimidine | 15.07%          |    5536 |\n",
      "| mixed           | 1.96%           |    7407 |\n",
      "| both_purine     | 0.00%           |    1621 |\n"
     ]
    }
   ],
   "source": [
    "create_summary_table(df_cc, \"stack_type\")"
   ]
  },
  {
   "cell_type": "code",
   "execution_count": 74,
   "metadata": {},
   "outputs": [
    {
     "name": "stderr",
     "output_type": "stream",
     "text": [
      "/opt/homebrew/Caskroom/miniconda/base/envs/py3/lib/python3.8/site-packages/dms_3d_features/plotting.py:438: UserWarning: The palette list has more values (10) than needed (3), which may not be intended.\n",
      "  sns.violinplot(\n"
     ]
    },
    {
     "data": {
      "image/png": "[encoded data removed]",
      "text/plain": [
       "<Figure size 400x300 with 1 Axes>"
      ]
     },
     "metadata": {},
     "output_type": "display_data"
    }
   ],
   "source": [
    "fig, ax = plt.subplots(figsize=(2.0, 1.5), dpi=200)\n",
    "df_cc = df.query(\"r_nuc == 'C' and r_type == 'NON-WC' and likely_pair == 'CC'\").copy()\n",
    "df_cc[\"stack_type\"] = df_cc.apply(assign_stack_type, axis=1)\n",
    "ax = plot_violins_w_percent(\n",
    "    df_cc,\n",
    "    \"ln_r_data\",\n",
    "    \"stack_type\",\n",
    "    color=None,\n",
    "    gt_lt=\"less\",\n",
    "    xlim=(-10, -1),\n",
    "    sorted_by_mean=True,\n",
    "    ax=ax,\n",
    ")\n",
    "ax.set_ylabel(\"Stack type\")\n",
    "ax.set_xlabel(\"ln(Mutation Fraction)\")\n",
    "format_small_plot(ax)"
   ]
  },
  {
   "cell_type": "markdown",
   "metadata": {},
   "source": [
    "## C in C-U sequence preferences\n"
   ]
  },
  {
   "cell_type": "code",
   "execution_count": 56,
   "metadata": {},
   "outputs": [
    {
     "name": "stdout",
     "output_type": "stream",
     "text": [
      "Summary table for p5_res:\n",
      "| p5_res   | % Under -5.45   |   Count |\n",
      "|:---------|:----------------|--------:|\n",
      "| U        | 21.98%          |    4850 |\n",
      "| C        | 18.99%          |    5871 |\n",
      "| A        | 11.34%          |    5891 |\n",
      "| G        | 2.49%           |    4024 |\n",
      "Summary table for p3_res:\n",
      "| p3_res   | % Under -5.45   |   Count |\n",
      "|:---------|:----------------|--------:|\n",
      "| U        | 40.22%          |    6867 |\n",
      "| A        | 3.34%           |    4104 |\n",
      "| C        | 0.74%           |    5707 |\n",
      "| G        | 0.20%           |    3958 |\n",
      "Summary table for stack_type:\n",
      "| stack_type      | % Under -5.45   |   Count |\n",
      "|:----------------|:----------------|--------:|\n",
      "| both_pyrimidine | 32.31%          |    6342 |\n",
      "| mixed           | 8.36%           |   10611 |\n",
      "| both_purine     | 0.35%           |    3683 |\n"
     ]
    }
   ],
   "source": [
    "df_cu = df.query(\"r_nuc == 'C' and r_type == 'NON-WC' and likely_pair == 'CU'\").copy()\n",
    "create_summary_table(df_cu, \"p5_res\")\n",
    "create_summary_table(df_cu, \"p3_res\")\n",
    "create_summary_table(df_cu, \"stack_type\")"
   ]
  },
  {
   "cell_type": "code",
   "execution_count": 75,
   "metadata": {},
   "outputs": [
    {
     "name": "stderr",
     "output_type": "stream",
     "text": [
      "/opt/homebrew/Caskroom/miniconda/base/envs/py3/lib/python3.8/site-packages/dms_3d_features/plotting.py:438: UserWarning: The palette list has more values (10) than needed (3), which may not be intended.\n",
      "  sns.violinplot(\n"
     ]
    },
    {
     "data": {
      "image/png": "[encoded data removed]",
      "text/plain": [
       "<Figure size 400x300 with 1 Axes>"
      ]
     },
     "metadata": {},
     "output_type": "display_data"
    }
   ],
   "source": [
    "fig, ax = plt.subplots(figsize=(2.0, 1.5), dpi=200)\n",
    "df_cu = df.query(\"r_nuc == 'C' and r_type == 'NON-WC' and likely_pair == 'CU'\").copy()\n",
    "df_cu[\"stack_type\"] = df_cu.apply(assign_stack_type, axis=1)\n",
    "ax = plot_violins_w_percent(\n",
    "    df_cu,\n",
    "    \"ln_r_data\",\n",
    "    \"stack_type\",\n",
    "    color=None,\n",
    "    gt_lt=\"less\",\n",
    "    xlim=(-10, -1),\n",
    "    sorted_by_mean=True,\n",
    "    ax=ax,\n",
    ")\n",
    "ax.set_ylabel(\"Stack type\")\n",
    "ax.set_xlabel(\"ln(Mutation Fraction)\")\n",
    "format_small_plot(ax)"
   ]
  },
  {
   "cell_type": "code",
   "execution_count": 57,
   "metadata": {},
   "outputs": [
    {
     "name": "stdout",
     "output_type": "stream",
     "text": [
      "Summary table for r_stack:\n",
      "| r_stack   | % Under -5.45   |   Count |\n",
      "|:----------|:----------------|--------:|\n",
      "| UU        | 62.92%          |    1618 |\n",
      "| CU        | 50.73%          |    1997 |\n",
      "| AU        | 35.44%          |    1823 |\n",
      "| CA        | 6.55%           |    1298 |\n",
      "| GU        | 5.95%           |    1429 |\n",
      "| UA        | 4.53%           |     905 |\n",
      "| GC        | 0.90%           |    1218 |\n",
      "| CC        | 0.83%           |    1330 |\n",
      "| AC        | 0.74%           |    1762 |\n",
      "| AA        | 0.60%           |    1170 |\n",
      "| GA        | 0.55%           |     731 |\n",
      "| UC        | 0.50%           |    1397 |\n",
      "| CG        | 0.48%           |    1246 |\n",
      "| AG        | 0.18%           |    1136 |\n",
      "| GG        | 0.00%           |     646 |\n",
      "| UG        | 0.00%           |     930 |\n"
     ]
    }
   ],
   "source": [
    "create_summary_table(df_cu, \"r_stack\")"
   ]
  },
  {
   "cell_type": "markdown",
   "metadata": {},
   "source": [
    "# Effects on 2x2 topology sequences preferences\n",
    "\n",
    "This is the largest set of mutations isolating other effects"
   ]
  },
  {
   "cell_type": "markdown",
   "metadata": {},
   "source": [
    "## A in A-A 2x2"
   ]
  },
  {
   "cell_type": "code",
   "execution_count": 60,
   "metadata": {},
   "outputs": [
    {
     "name": "stdout",
     "output_type": "stream",
     "text": [
      "Summary table for p5_res:\n",
      "| p5_res   | % Under -5.45   |   Count |\n",
      "|:---------|:----------------|--------:|\n",
      "| A        | 11.31%          |    7013 |\n",
      "| U        | 7.01%           |    6294 |\n",
      "| G        | 4.24%           |    5514 |\n",
      "| C        | 3.88%           |    6343 |\n",
      "Summary table for p3_res:\n",
      "| p3_res   | % Under -5.45   |   Count |\n",
      "|:---------|:----------------|--------:|\n",
      "| A        | 13.47%          |    7802 |\n",
      "| U        | 5.31%           |    5513 |\n",
      "| C        | 3.89%           |    6347 |\n",
      "| G        | 2.24%           |    5502 |\n",
      "Summary table for stack_type:\n",
      "| stack_type      | % Under -5.45   |   Count |\n",
      "|:----------------|:----------------|--------:|\n",
      "| both_purine     | 8.97%           |    6610 |\n",
      "| mixed           | 8.05%           |   12611 |\n",
      "| both_pyrimidine | 1.78%           |    5943 |\n"
     ]
    }
   ],
   "source": [
    "df_aa = df.query(\n",
    "    \"r_nuc == 'A' and r_type == 'NON-WC' and likely_pair == 'AA' and m_token == '2x2'\"\n",
    ").copy()\n",
    "create_summary_table(df_aa, \"p5_res\")\n",
    "create_summary_table(df_aa, \"p3_res\")\n",
    "create_summary_table(df_aa, \"stack_type\")"
   ]
  },
  {
   "cell_type": "code",
   "execution_count": 61,
   "metadata": {},
   "outputs": [
    {
     "name": "stdout",
     "output_type": "stream",
     "text": [
      "Summary table for r_stack:\n",
      "| r_stack   | % Under -5.45   |   Count |\n",
      "|:----------|:----------------|--------:|\n",
      "| AA        | 16.10%          |    2075 |\n",
      "| UA        | 14.07%          |    1954 |\n",
      "| AU        | 13.33%          |    1575 |\n",
      "| GA        | 12.08%          |    1780 |\n",
      "| AC        | 11.77%          |    1784 |\n",
      "| CA        | 11.39%          |    1993 |\n",
      "| UG        | 5.22%           |    1360 |\n",
      "| UU        | 4.68%           |    1390 |\n",
      "| AG        | 2.47%           |    1579 |\n",
      "| UC        | 1.89%           |    1590 |\n",
      "| GU        | 0.94%           |    1173 |\n",
      "| CG        | 0.58%           |    1387 |\n",
      "| CU        | 0.51%           |    1375 |\n",
      "| GG        | 0.43%           |    1176 |\n",
      "| CC        | 0.25%           |    1588 |\n",
      "| GC        | 0.22%           |    1385 |\n"
     ]
    }
   ],
   "source": [
    "create_summary_table(df_aa, \"r_stack\")"
   ]
  },
  {
   "cell_type": "markdown",
   "metadata": {},
   "source": [
    "## A in A-C 2x2 "
   ]
  },
  {
   "cell_type": "code",
   "execution_count": 63,
   "metadata": {},
   "outputs": [
    {
     "name": "stdout",
     "output_type": "stream",
     "text": [
      "Summary table for p5_res:\n",
      "| p5_res   | % Under -5.45   |   Count |\n",
      "|:---------|:----------------|--------:|\n",
      "| U        | 4.64%           |    5067 |\n",
      "| A        | 2.22%           |    4363 |\n",
      "| G        | 2.03%           |    3490 |\n",
      "| C        | 0.31%           |    3573 |\n",
      "Summary table for p3_res:\n",
      "| p3_res   | % Under -5.45   |   Count |\n",
      "|:---------|:----------------|--------:|\n",
      "| U        | 6.72%           |    4585 |\n",
      "| A        | 1.56%           |    2950 |\n",
      "| C        | 0.87%           |    6872 |\n",
      "| G        | 0.00%           |    2086 |\n",
      "Summary table for stack_type:\n",
      "| stack_type      | % Under -5.45   |   Count |\n",
      "|:----------------|:----------------|--------:|\n",
      "| both_pyrimidine | 3.47%           |    5967 |\n",
      "| mixed           | 2.45%           |    8163 |\n",
      "| both_purine     | 0.30%           |    2363 |\n"
     ]
    }
   ],
   "source": [
    "df_ac = df.query(\n",
    "    \"r_nuc == 'A' and r_type == 'NON-WC' and likely_pair == 'AC' and m_token == '2x2'\"\n",
    ").copy()\n",
    "create_summary_table(df_ac, \"p5_res\")\n",
    "create_summary_table(df_ac, \"p3_res\")\n",
    "create_summary_table(df_ac, \"stack_type\")"
   ]
  },
  {
   "cell_type": "code",
   "execution_count": 64,
   "metadata": {},
   "outputs": [
    {
     "name": "stdout",
     "output_type": "stream",
     "text": [
      "Summary table for r_stack:\n",
      "| r_stack   | % Under -5.45   |   Count |\n",
      "|:----------|:----------------|--------:|\n",
      "| UU        | 11.09%          |    1389 |\n",
      "| AU        | 6.72%           |    1191 |\n",
      "| GU        | 6.36%           |    1022 |\n",
      "| UA        | 3.84%           |     990 |\n",
      "| UC        | 2.15%           |    2002 |\n",
      "| CU        | 0.92%           |     983 |\n",
      "| AA        | 0.91%           |     766 |\n",
      "| AC        | 0.55%           |    1804 |\n",
      "| GC        | 0.41%           |    1473 |\n",
      "| CA        | 0.17%           |     594 |\n",
      "| CC        | 0.06%           |    1593 |\n",
      "| AG        | 0.00%           |     602 |\n",
      "| GA        | 0.00%           |     600 |\n",
      "| CG        | 0.00%           |     403 |\n",
      "| GG        | 0.00%           |     395 |\n",
      "| UG        | 0.00%           |     686 |\n"
     ]
    }
   ],
   "source": [
    "create_summary_table(df_ac, \"r_stack\")"
   ]
  },
  {
   "cell_type": "markdown",
   "metadata": {},
   "source": [
    "## A in A-G 2x2 "
   ]
  },
  {
   "cell_type": "code",
   "execution_count": 67,
   "metadata": {},
   "outputs": [
    {
     "name": "stdout",
     "output_type": "stream",
     "text": [
      "Summary table for p5_res:\n",
      "| p5_res   | % Under -5.45   |   Count |\n",
      "|:---------|:----------------|--------:|\n",
      "| A        | 28.69%          |    3897 |\n",
      "| C        | 23.26%          |    2846 |\n",
      "| U        | 20.56%          |    3741 |\n",
      "| G        | 13.62%          |    3459 |\n",
      "Summary table for p3_res:\n",
      "| p3_res   | % Under -5.45   |   Count |\n",
      "|:---------|:----------------|--------:|\n",
      "| A        | 31.19%          |    5762 |\n",
      "| C        | 22.46%          |    2907 |\n",
      "| U        | 17.48%          |    3123 |\n",
      "| G        | 1.12%           |    2151 |\n",
      "Summary table for stack_type:\n",
      "| stack_type      | % Under -5.45   |   Count |\n",
      "|:----------------|:----------------|--------:|\n",
      "| both_purine     | 24.10%          |    4170 |\n",
      "| both_pyrimidine | 21.62%          |    2844 |\n",
      "| mixed           | 20.20%          |    6929 |\n"
     ]
    }
   ],
   "source": [
    "df_ag = df.query(\n",
    "    \"r_nuc == 'A' and r_type == 'NON-WC' and likely_pair == 'AG' and m_token == '2x2'\"\n",
    ").copy()\n",
    "create_summary_table(df_ag, \"p5_res\")\n",
    "create_summary_table(df_ag, \"p3_res\")\n",
    "create_summary_table(df_ag, \"stack_type\")"
   ]
  },
  {
   "cell_type": "code",
   "execution_count": 66,
   "metadata": {},
   "outputs": [
    {
     "name": "stdout",
     "output_type": "stream",
     "text": [
      "Summary table for r_stack:\n",
      "| r_stack   | % Under -5.45   |   Count |\n",
      "|:----------|:----------------|--------:|\n",
      "| CA        | 39.63%          |    1181 |\n",
      "| AA        | 36.07%          |    1666 |\n",
      "| UC        | 32.78%          |     778 |\n",
      "| AU        | 31.79%          |     972 |\n",
      "| GA        | 28.17%          |    1349 |\n",
      "| AC        | 27.26%          |     675 |\n",
      "| CC        | 25.80%          |     690 |\n",
      "| UA        | 22.22%          |    1566 |\n",
      "| UU        | 20.93%          |     793 |\n",
      "| GU        | 7.10%           |     775 |\n",
      "| GC        | 4.71%           |     764 |\n",
      "| AG        | 4.11%           |     584 |\n",
      "| CU        | 2.74%           |     583 |\n",
      "| CG        | 0.00%           |     392 |\n",
      "| GG        | 0.00%           |     571 |\n",
      "| UG        | 0.00%           |     604 |\n"
     ]
    }
   ],
   "source": [
    "create_summary_table(df_ag, \"r_stack\")"
   ]
  },
  {
   "cell_type": "markdown",
   "metadata": {},
   "source": [
    "## C in C-A 2x2 \n",
    "\n",
    "\n"
   ]
  },
  {
   "cell_type": "code",
   "execution_count": 68,
   "metadata": {},
   "outputs": [
    {
     "name": "stdout",
     "output_type": "stream",
     "text": [
      "Summary table for p5_res:\n",
      "| p5_res   | % Under -5.45   |   Count |\n",
      "|:---------|:----------------|--------:|\n",
      "| C        | 15.68%          |    4311 |\n",
      "| A        | 0.66%           |    4555 |\n",
      "| G        | 0.35%           |    2293 |\n",
      "| U        | 0.19%           |    5334 |\n",
      "Summary table for p3_res:\n",
      "| p3_res   | % Under -5.45   |   Count |\n",
      "|:---------|:----------------|--------:|\n",
      "| U        | 11.31%          |    3589 |\n",
      "| A        | 3.20%           |    6840 |\n",
      "| C        | 2.98%           |    3286 |\n",
      "| G        | 0.04%           |    2778 |\n",
      "Summary table for stack_type:\n",
      "| stack_type      | % Under -5.45   |   Count |\n",
      "|:----------------|:----------------|--------:|\n",
      "| both_pyrimidine | 11.41%          |    4093 |\n",
      "| mixed           | 3.07%           |    8334 |\n",
      "| both_purine     | 0.02%           |    4066 |\n"
     ]
    }
   ],
   "source": [
    "df_ca = df.query(\n",
    "    \"r_nuc == 'C' and r_type == 'NON-WC' and likely_pair == 'CA' and m_token == '2x2'\"\n",
    ").copy()\n",
    "create_summary_table(df_ca, \"p5_res\")\n",
    "create_summary_table(df_ca, \"p3_res\")\n",
    "create_summary_table(df_ca, \"stack_type\")"
   ]
  },
  {
   "cell_type": "code",
   "execution_count": 69,
   "metadata": {},
   "outputs": [
    {
     "name": "stdout",
     "output_type": "stream",
     "text": [
      "Summary table for r_stack:\n",
      "| r_stack   | % Under -5.45   |   Count |\n",
      "|:----------|:----------------|--------:|\n",
      "| CU        | 38.82%          |     997 |\n",
      "| CA        | 12.05%          |    1792 |\n",
      "| CC        | 9.93%           |     725 |\n",
      "| AC        | 2.42%           |     991 |\n",
      "| GU        | 1.76%           |     398 |\n",
      "| AU        | 0.60%           |     992 |\n",
      "| UU        | 0.50%           |    1202 |\n",
      "| UC        | 0.17%           |    1169 |\n",
      "| CG        | 0.13%           |     797 |\n",
      "| UA        | 0.10%           |    1975 |\n",
      "| GA        | 0.08%           |    1297 |\n",
      "| UG        | 0.00%           |     988 |\n",
      "| GG        | 0.00%           |     197 |\n",
      "| AA        | 0.00%           |    1776 |\n",
      "| AG        | 0.00%           |     796 |\n",
      "| GC        | 0.00%           |     401 |\n"
     ]
    }
   ],
   "source": [
    "create_summary_table(df_ca, \"r_stack\")"
   ]
  },
  {
   "cell_type": "markdown",
   "metadata": {},
   "source": [
    "## C in C-C 2x2 "
   ]
  },
  {
   "cell_type": "code",
   "execution_count": 70,
   "metadata": {},
   "outputs": [
    {
     "name": "stdout",
     "output_type": "stream",
     "text": [
      "Summary table for p5_res:\n",
      "| p5_res   | % Under -5.45   |   Count |\n",
      "|:---------|:----------------|--------:|\n",
      "| C        | 21.07%          |    2800 |\n",
      "| A        | 0.91%           |    4062 |\n",
      "| U        | 0.91%           |    4846 |\n",
      "| G        | 0.18%           |    1666 |\n",
      "Summary table for p3_res:\n",
      "| p3_res   | % Under -5.45   |   Count |\n",
      "|:---------|:----------------|--------:|\n",
      "| U        | 8.07%           |    3360 |\n",
      "| C        | 6.73%           |    5972 |\n",
      "| A        | 0.04%           |    2586 |\n",
      "| G        | 0.00%           |    1456 |\n",
      "Summary table for stack_type:\n",
      "| stack_type      | % Under -5.45   |   Count |\n",
      "|:----------------|:----------------|--------:|\n",
      "| both_pyrimidine | 12.42%          |    5096 |\n",
      "| mixed           | 0.60%           |    6786 |\n",
      "| both_purine     | 0.00%           |    1492 |\n"
     ]
    }
   ],
   "source": [
    "df_cc = df.query(\n",
    "    \"r_nuc == 'C' and r_type == 'NON-WC' and likely_pair == 'CC' and m_token == '2x2'\"\n",
    ").copy()\n",
    "create_summary_table(df_cc, \"p5_res\")\n",
    "create_summary_table(df_cc, \"p3_res\")\n",
    "create_summary_table(df_cc, \"stack_type\")"
   ]
  },
  {
   "cell_type": "code",
   "execution_count": 71,
   "metadata": {},
   "outputs": [
    {
     "name": "stdout",
     "output_type": "stream",
     "text": [
      "Summary table for r_stack:\n",
      "| r_stack   | % Under -5.45   |   Count |\n",
      "|:----------|:----------------|--------:|\n",
      "| CC        | 30.88%          |    1143 |\n",
      "| CU        | 30.27%          |     783 |\n",
      "| UU        | 2.27%           |    1189 |\n",
      "| AC        | 1.79%           |    1785 |\n",
      "| UC        | 0.81%           |    1981 |\n",
      "| AU        | 0.51%           |     987 |\n",
      "| GU        | 0.50%           |     401 |\n",
      "| UA        | 0.10%           |     993 |\n",
      "| GC        | 0.09%           |    1063 |\n",
      "| AA        | 0.00%           |     798 |\n",
      "| GA        | 0.00%           |     202 |\n",
      "| AG        | 0.00%           |     492 |\n",
      "| CA        | 0.00%           |     593 |\n",
      "| CG        | 0.00%           |     281 |\n",
      "| UG        | 0.00%           |     683 |\n"
     ]
    }
   ],
   "source": [
    "create_summary_table(df_cc, \"r_stack\")"
   ]
  },
  {
   "cell_type": "markdown",
   "metadata": {},
   "source": [
    "## C in C-U 2x2 \n"
   ]
  },
  {
   "cell_type": "code",
   "execution_count": 72,
   "metadata": {},
   "outputs": [
    {
     "name": "stdout",
     "output_type": "stream",
     "text": [
      "Summary table for p5_res:\n",
      "| p5_res   | % Under -5.45   |   Count |\n",
      "|:---------|:----------------|--------:|\n",
      "| U        | 22.40%          |    4692 |\n",
      "| C        | 19.12%          |    5690 |\n",
      "| A        | 12.71%          |    5242 |\n",
      "| G        | 2.56%           |    3870 |\n",
      "Summary table for p3_res:\n",
      "| p3_res   | % Under -5.45   |   Count |\n",
      "|:---------|:----------------|--------:|\n",
      "| U        | 41.38%          |    6612 |\n",
      "| A        | 3.30%           |    3974 |\n",
      "| C        | 0.65%           |    5247 |\n",
      "| G        | 0.08%           |    3661 |\n",
      "Summary table for stack_type:\n",
      "| stack_type      | % Under -5.45   |   Count |\n",
      "|:----------------|:----------------|--------:|\n",
      "| both_pyrimidine | 32.60%          |    6190 |\n",
      "| mixed           | 8.85%           |    9861 |\n",
      "| both_purine     | 0.38%           |    3443 |\n"
     ]
    }
   ],
   "source": [
    "df_cu = df.query(\n",
    "    \"r_nuc == 'C' and r_type == 'NON-WC' and likely_pair == 'CU' and m_token == '2x2'\"\n",
    ").copy()\n",
    "create_summary_table(df_cu, \"p5_res\")\n",
    "create_summary_table(df_cu, \"p3_res\")\n",
    "create_summary_table(df_cu, \"stack_type\")"
   ]
  },
  {
   "cell_type": "code",
   "execution_count": 73,
   "metadata": {},
   "outputs": [
    {
     "name": "stdout",
     "output_type": "stream",
     "text": [
      "Summary table for r_stack:\n",
      "| r_stack   | % Under -5.45   |   Count |\n",
      "|:----------|:----------------|--------:|\n",
      "| UU        | 63.92%          |    1577 |\n",
      "| CU        | 50.94%          |    1961 |\n",
      "| AU        | 38.26%          |    1686 |\n",
      "| CA        | 6.34%           |    1261 |\n",
      "| GU        | 6.05%           |    1388 |\n",
      "| UA        | 4.63%           |     864 |\n",
      "| GC        | 0.93%           |    1182 |\n",
      "| AC        | 0.85%           |    1413 |\n",
      "| CC        | 0.62%           |    1293 |\n",
      "| AA        | 0.61%           |    1149 |\n",
      "| GA        | 0.57%           |     700 |\n",
      "| UC        | 0.22%           |    1359 |\n",
      "| AG        | 0.20%           |     994 |\n",
      "| CG        | 0.09%           |    1175 |\n",
      "| GG        | 0.00%           |     600 |\n",
      "| UG        | 0.00%           |     892 |\n"
     ]
    }
   ],
   "source": [
    "create_summary_table(df_cu, \"r_stack\")"
   ]
  },
  {
   "cell_type": "code",
   "execution_count": null,
   "metadata": {},
   "outputs": [],
   "source": []
  }
 ],
 "metadata": {
  "kernelspec": {
   "display_name": "py3",
   "language": "python",
   "name": "python3"
  },
  "language_info": {
   "codemirror_mode": {
    "name": "ipython",
    "version": 3
   },
   "file_extension": ".py",
   "mimetype": "text/x-python",
   "name": "python",
   "nbconvert_exporter": "python",
   "pygments_lexer": "ipython3",
   "version": "3.8.19"
  }
 },
 "nbformat": 4,
 "nbformat_minor": 2
}
