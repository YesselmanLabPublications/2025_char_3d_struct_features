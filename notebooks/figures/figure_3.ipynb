{
 "cells": [
  {
   "cell_type": "markdown",
   "metadata": {},
   "source": [
    "# Figure 3\n",
    "data is stored in ../../data"
   ]
  },
  {
   "cell_type": "markdown",
   "metadata": {},
   "source": [
    "## setup and load data"
   ]
  },
  {
   "cell_type": "code",
   "execution_count": 2,
   "metadata": {},
   "outputs": [],
   "source": [
    "import pandas as pd \n",
    "import numpy as np\n",
    "import matplotlib.pyplot as plt\n",
    "import seaborn as sns\n",
    "from scipy.stats import ks_2samp, pearsonr, linregress, zscore\n",
    "from sklearn.preprocessing import OneHotEncoder\n",
    "import statsmodels.api as sm\n",
    "\n",
    "from dms_3d_features.plotting import plot_pop_avg_from_row, publication_style_ax, plot_motif_boxplot_stripplot"
   ]
  },
  {
   "cell_type": "markdown",
   "metadata": {},
   "source": [
    "### extra functions"
   ]
  },
  {
   "cell_type": "code",
   "execution_count": 4,
   "metadata": {},
   "outputs": [],
   "source": [
    "def format_small_plot(ax):\n",
    "    publication_style_ax(ax, fsize=8, ytick_size=6, xtick_size=6)\n",
    "    plt.subplots_adjust(left=0.3, bottom=0.21, top=0.98)"
   ]
  },
  {
   "cell_type": "code",
   "execution_count": 5,
   "metadata": {},
   "outputs": [],
   "source": [
    "def plot_violinplot_w_percent(\n",
    "    df: pd.DataFrame,\n",
    "    x: str,\n",
    "    y: str,\n",
    "    cutoff=-5.65,\n",
    "    cutoff_color=\"tab:red\",\n",
    "    color=\"tab:blue\",\n",
    "    gt_lt=\"greater\",\n",
    "    text_pos=-7.75,\n",
    "    ax=None,\n",
    ") -> plt.Axes:\n",
    "    if ax is None:\n",
    "        fig, ax = plt.subplots(figsize=(6, 6))\n",
    "    sns.violinplot(x=x, y=y, data=df, color=color, density_norm=\"width\", ax=ax)\n",
    "    ax.axvline(cutoff, color=cutoff_color, linestyle=\"--\")\n",
    "    count = 0\n",
    "    for group_name, g in df.groupby(y):\n",
    "        if gt_lt == \"greater\":\n",
    "            percent = (g[x] > cutoff).sum() / len(g)\n",
    "        elif gt_lt == \"less\":\n",
    "            percent = (g[x] < cutoff).sum() / len(g)\n",
    "        percent *= 100\n",
    "        ax.text(\n",
    "            text_pos,\n",
    "            count + 0.020,\n",
    "            f\"{percent:.2f}%\",\n",
    "            va=\"center\",\n",
    "            ha=\"right\",\n",
    "            size=20,\n",
    "            name=\"Arial\",\n",
    "        )\n",
    "        print(group_name, percent)\n",
    "        count += 1\n",
    "    return ax\n"
   ]
  },
  {
   "cell_type": "markdown",
   "metadata": {},
   "source": [
    "### load data"
   ]
  },
  {
   "cell_type": "code",
   "execution_count": 8,
   "metadata": {},
   "outputs": [],
   "source": [
    "DATA_PATH = \"../../data/\""
   ]
  },
  {
   "cell_type": "code",
   "execution_count": 7,
   "metadata": {},
   "outputs": [
    {
     "name": "stderr",
     "output_type": "stream",
     "text": [
      "/opt/homebrew/Caskroom/miniconda/base/envs/py3/lib/python3.8/site-packages/pandas/core/arraylike.py:402: RuntimeWarning: divide by zero encountered in log\n",
      "  result = getattr(ufunc, method)(*inputs, **kwargs)\n"
     ]
    }
   ],
   "source": [
    "df_constructs = pd.read_json(f\"{DATA_PATH}/raw-jsons/constructs/pdb_library_1_combined.json\")\n",
    "df_constructs_nomod = pd.read_json(f\"{DATA_PATH}/raw-jsons/constructs/pdb_library_nomod.json\")\n",
    "df = pd.read_json(f\"{DATA_PATH}/raw-jsons/residues/pdb_library_1_residues.json\")\n",
    "df[\"ln_r_data\"] = np.log(df[\"r_data\"])\n",
    "df['ln_r_data'].replace(-np.inf, -9.8, inplace=True)\n",
    "\n",
    "df[\"z_score\"] = 0\n",
    "df[\"r_data_outlier\"] = False\n",
    "data = []\n",
    "for i, g in df.groupby([\"m_sequence\", \"r_loc_pos\"]):\n",
    "    g[\"z_score\"] = zscore(g[\"r_data\"])\n",
    "    g[\"r_data_outlier\"] = g[\"z_score\"].abs() > 3\n",
    "    data.append(g)\n",
    "df = pd.concat(data)\n",
    "df = df.query(\"r_data_outlier == False\").copy()\n",
    "\n",
    "df_residue_avg = pd.read_json(f\"{DATA_PATH}/raw-jsons/residues/pdb_library_1_residues_avg.json\")\n",
    "df_residue_avg = df_residue_avg.query(\"r_type == 'WC'\").copy()\n",
    "df_wc = df.query(\"r_type == 'WC'\").copy()"
   ]
  },
  {
   "cell_type": "markdown",
   "metadata": {},
   "source": [
    "## Plotting "
   ]
  },
  {
   "cell_type": "markdown",
   "metadata": {},
   "source": [
    "### Figure 3a: As are more reactive in flanking pairs"
   ]
  },
  {
   "cell_type": "code",
   "execution_count": 9,
   "metadata": {},
   "outputs": [
    {
     "data": {
      "image/png": "[encoded data removed]",
      "text/plain": [
       "<Figure size 400x300 with 1 Axes>"
      ]
     },
     "metadata": {},
     "output_type": "display_data"
    }
   ],
   "source": [
    "fig, ax = plt.subplots(figsize=(2.0, 1.5), dpi=200)\n",
    "ax = sns.violinplot(data=df_wc, x=\"ln_r_data\", y=\"r_nuc\", hue=\"r_nuc\", density_norm='width', palette=[\"tab:red\", \"tab:blue\"], legend=False, linewidth=0.5, ax=ax)\n",
    "ax.axvline(-5.45, color=\"black\", linestyle=\"--\", lw=0.5)\n",
    "ax.set_ylabel(\"Nucleotide\", labelpad=2)\n",
    "ax.set_xlabel(\"ln(Mutation Fraction)\", labelpad=2)\n",
    "ax.set_xticks([-10, -8, -6, -4])\n",
    "format_small_plot(ax)"
   ]
  },
  {
   "cell_type": "code",
   "execution_count": null,
   "metadata": {},
   "outputs": [],
   "source": []
  }
 ],
 "metadata": {
  "kernelspec": {
   "display_name": "py3",
   "language": "python",
   "name": "python3"
  },
  "language_info": {
   "codemirror_mode": {
    "name": "ipython",
    "version": 3
   },
   "file_extension": ".py",
   "mimetype": "text/x-python",
   "name": "python",
   "nbconvert_exporter": "python",
   "pygments_lexer": "ipython3",
   "version": "3.8.19"
  }
 },
 "nbformat": 4,
 "nbformat_minor": 2
}
