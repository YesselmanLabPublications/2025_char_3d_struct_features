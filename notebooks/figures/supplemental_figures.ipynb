{
 "cells": [
  {
   "cell_type": "markdown",
   "metadata": {},
   "source": [
    "# Supplemental Figures"
   ]
  },
  {
   "cell_type": "markdown",
   "metadata": {},
   "source": [
    "## Setup"
   ]
  },
  {
   "cell_type": "markdown",
   "metadata": {},
   "source": [
    "### imports"
   ]
  },
  {
   "cell_type": "code",
   "execution_count": 15,
   "metadata": {},
   "outputs": [],
   "source": [
    "import pandas as pd\n",
    "import numpy as np\n",
    "import matplotlib.pyplot as plt\n",
    "import seaborn as sns\n",
    "from scipy.stats import ks_2samp, pearsonr, linregress, zscore\n",
    "from sklearn.preprocessing import OneHotEncoder\n",
    "import statsmodels.api as sm\n",
    "\n",
    "from dms_3d_features.plotting import (\n",
    "    plot_pop_avg_from_row,\n",
    "    publication_style_ax,\n",
    "    plot_motif_boxplot_stripplot,\n",
    "    plot_scatter_w_best_fit_line,\n",
    ")"
   ]
  },
  {
   "cell_type": "code",
   "execution_count": 16,
   "metadata": {},
   "outputs": [],
   "source": [
    "DATA_PATH = \"../../data\""
   ]
  },
  {
   "cell_type": "code",
   "execution_count": 17,
   "metadata": {},
   "outputs": [],
   "source": [
    "df_construct = pd.read_json(\n",
    "    f\"{DATA_PATH}/raw-jsons/constructs/pdb_library_1_combined.json\"\n",
    ")\n",
    "df_construct_2 = pd.read_json(\n",
    "    f\"{DATA_PATH}/raw-jsons/constructs/pdb_library_2_combined.json\"\n",
    ")\n",
    "df_motif = pd.read_json(\n",
    "    f\"{DATA_PATH}/raw-jsons/motifs/pdb_library_1_motifs_standard.json\"\n",
    ")\n",
    "df = pd.read_json(f\"{DATA_PATH}/raw-jsons/residues/pdb_library_1_residues.json\")"
   ]
  },
  {
   "cell_type": "code",
   "execution_count": 18,
   "metadata": {},
   "outputs": [],
   "source": [
    "df[\"z_score\"] = 0\n",
    "df[\"r_data_outlier\"] = False\n",
    "data = []\n",
    "for i, g in df.groupby([\"m_sequence\", \"r_loc_pos\"]):\n",
    "    g[\"z_score\"] = zscore(g[\"r_data\"])\n",
    "    g[\"r_data_outlier\"] = g[\"z_score\"].abs() > 3\n",
    "    data.append(g)\n",
    "df = pd.concat(data)\n",
    "df = df.query(\"r_data_outlier == False\").copy()"
   ]
  },
  {
   "cell_type": "markdown",
   "metadata": {},
   "source": [
    "### extra functions"
   ]
  },
  {
   "cell_type": "markdown",
   "metadata": {},
   "source": [
    "## Plotting"
   ]
  },
  {
   "cell_type": "markdown",
   "metadata": {},
   "source": [
    "### Supplementary Figure XXX: reactivity vs standard dev"
   ]
  },
  {
   "cell_type": "code",
   "execution_count": 22,
   "metadata": {},
   "outputs": [
    {
     "data": {
      "image/png": "[encoded data removed]",
      "text/plain": [
       "<Figure size 300x250 with 1 Axes>"
      ]
     },
     "metadata": {},
     "output_type": "display_data"
    }
   ],
   "source": [
    "data = []\n",
    "for i, group in df.groupby([\"r_loc_pos\", \"m_sequence\"]):\n",
    "    std = group[\"r_data\"].std()\n",
    "    if std == 0:\n",
    "        continue\n",
    "    for _, row in group.iterrows():\n",
    "        if row[\"r_data\"] == 0:\n",
    "            continue\n",
    "        data.append([row[\"r_data\"], std])\n",
    "df_data = pd.DataFrame(data, columns=[\"r_data\", \"std\"])\n",
    "df_data[\"ln_r_data\"] = np.log(df_data[\"r_data\"])\n",
    "\n",
    "fig, ax = plt.subplots(figsize=(1.50, 1.25), dpi=200)\n",
    "plot_scatter_w_best_fit_line(np.log(df_data[\"r_data\"]), np.log(df_data[\"std\"]), ax=ax)\n",
    "format_small_plot(ax)"
   ]
  },
  {
   "cell_type": "markdown",
   "metadata": {},
   "source": [
    "### Supplemental Figure XXX: pdb flanking pairs still favor As"
   ]
  },
  {
   "cell_type": "code",
   "execution_count": null,
   "metadata": {},
   "outputs": [],
   "source": [
    "fig, ax = plt.subplots(2, 1, figsize=(2.5, 2.5))\n",
    "plt.subplots_adjust(\n",
    "    hspace=0.55\n",
    ")  # Increase hspace to add more vertical space between plots\n",
    "axs = ax.flatten()\n",
    "df_sub = df.query('m_sequence == \"CCC&GAG\"')\n",
    "plot_motif_boxplot_stripplot(df_sub, ax=ax[0])\n",
    "df_sub = df.query('m_sequence == \"GCG&CC\"')\n",
    "plot_motif_boxplot_stripplot(df_sub, ax=ax[1])\n",
    "axs[1].set_xlabel(\"Nucleotide\")\n",
    "for ax in axs:\n",
    "    ax.set_ylabel(\"\")\n",
    "    ax.set_ylim(0, 0.05)\n",
    "    publication_style_ax(ax)\n",
    "fig.text(\n",
    "    -0.15,\n",
    "    0.5,\n",
    "    \"Mutation Fraction\",\n",
    "    va=\"center\",\n",
    "    rotation=\"vertical\",\n",
    "    fontsize=14,\n",
    "    name=\"Arial\",\n",
    ")"
   ]
  }
 ],
 "metadata": {
  "kernelspec": {
   "display_name": "py3",
   "language": "python",
   "name": "python3"
  },
  "language_info": {
   "codemirror_mode": {
    "name": "ipython",
    "version": 3
   },
   "file_extension": ".py",
   "mimetype": "text/x-python",
   "name": "python",
   "nbconvert_exporter": "python",
   "pygments_lexer": "ipython3",
   "version": "3.8.19"
  }
 },
 "nbformat": 4,
 "nbformat_minor": 2
}
