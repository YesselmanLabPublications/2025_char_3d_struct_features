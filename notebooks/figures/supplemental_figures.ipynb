{
 "cells": [
  {
   "cell_type": "markdown",
   "metadata": {},
   "source": [
    "# Supplemental Figures"
   ]
  },
  {
   "cell_type": "markdown",
   "metadata": {},
   "source": [
    "## Setup"
   ]
  },
  {
   "cell_type": "markdown",
   "metadata": {},
   "source": [
    "### imports"
   ]
  },
  {
   "cell_type": "code",
   "execution_count": 64,
   "metadata": {},
   "outputs": [],
   "source": [
    "import glob\n",
    "import pandas as pd\n",
    "import numpy as np\n",
    "import matplotlib.pyplot as plt\n",
    "from matplotlib.ticker import FixedLocator, FixedFormatter\n",
    "import matplotlib.gridspec as gridspec\n",
    "import seaborn as sns\n",
    "from scipy.stats import ks_2samp, pearsonr, linregress, zscore\n",
    "from sklearn.preprocessing import OneHotEncoder\n",
    "from sklearn.linear_model import LinearRegression\n",
    "from sklearn.linear_model import LogisticRegression\n",
    "from sklearn.metrics import r2_score\n",
    "from tqdm import tqdm\n",
    "\n",
    "from dms_3d_features.plotting import *\n",
    "from tabulate import tabulate\n",
    "import re\n",
    "import os\n",
    "\n",
    "\n",
    "from rna_motif_library.dataframe_tools import (  # pyright: ignore[reportMissingImports]\n",
    "    add_motif_indentifier_columns,\n",
    ")"
   ]
  },
  {
   "cell_type": "markdown",
   "metadata": {},
   "source": [
    "## load data"
   ]
  },
  {
   "cell_type": "code",
   "execution_count": 65,
   "metadata": {},
   "outputs": [],
   "source": [
    "DATA_PATH = \"../../data\"\n",
    "REVISION_PATH = \"../../data/revisions\""
   ]
  },
  {
   "cell_type": "code",
   "execution_count": null,
   "metadata": {},
   "outputs": [
    {
     "name": "stderr",
     "output_type": "stream",
     "text": [
      "/opt/homebrew/Caskroom/miniconda/base/envs/py3/lib/python3.8/site-packages/pandas/core/arraylike.py:402: RuntimeWarning: divide by zero encountered in log\n",
      "  result = getattr(ufunc, method)(*inputs, **kwargs)\n"
     ]
    }
   ],
   "source": [
    "df_construct = pd.read_json(f\"{DATA_PATH}/raw-jsons/constructs/pdb_library_1.json\")\n",
    "df_construct_2 = pd.read_json(f\"{DATA_PATH}/raw-jsons/constructs/pdb_library_2.json\")\n",
    "df_contruct_nomod = pd.read_json(\n",
    "    f\"{DATA_PATH}/raw-jsons/constructs/pdb_library_nomod.json\"\n",
    ")\n",
    "df_motif = pd.read_json(\n",
    "    f\"{DATA_PATH}/raw-jsons/motifs/pdb_library_1_motifs_standard.json\"\n",
    ")\n",
    "df1 = pd.read_json(f\"{DATA_PATH}/raw-jsons/residues/pdb_library_1_residues.json\")\n",
    "df = df1.query(\"r_type != 'Flank-WC'\").copy()\n",
    "df_avg = pd.read_json(f\"{DATA_PATH}/raw-jsons/residues/pdb_library_1_residues_avg.json\")\n",
    "df_pdb = pd.read_json(f\"{DATA_PATH}/raw-jsons/residues/pdb_library_1_residues_pdb.json\")\n",
    "# generate natural log of DMS\n",
    "with np.errstate(divide=\"ignore\"):\n",
    "    df1[\"ln_r_data\"] = np.log(df1[\"r_data\"])\n",
    "df1[\"ln_r_data\"].replace(-np.inf, -9.8, inplace=True)\n",
    "# remove outliers\n",
    "df = df.query(\"r_data_outlier == False\").copy()\n",
    "\n",
    "df_bp_details = pd.read_csv(f\"{DATA_PATH}/csvs/wc_details.csv\")\n",
    "df_bp_details = df_bp_details.query(\"flanking_pairs == 'YES'\")\n",
    "df_bp_details[\"ln_r_data\"] = np.log(df_bp_details[\"r_data\"])\n",
    "df_bp_details[\"ln_r_data\"].replace(-np.inf, -9.8, inplace=True)\n",
    "\n",
    "df_pdb = df_pdb.query(\"r_data_outlier == False\").copy()\n",
    "df_sasa = pd.read_csv(f\"{DATA_PATH}/pdb-features/sasa.csv\")\n",
    "df_sasa[\"m_sequence\"] = df_sasa[\"m_sequence\"].apply(lambda x: x.replace(\"&\", \"_\"))\n",
    "\n",
    "# merge and remove extra pdb res\n",
    "df_sasa_merge = pd.merge(\n",
    "    df_pdb, df_sasa, on=[\"m_sequence\", \"r_nuc\", \"pdb_r_pos\", \"pdb_path\"]\n",
    ")\n",
    "df_sasa_merge = df_sasa_merge.query(\"not ln_r_data.isnull()\")\n",
    "\n",
    "df_dist = pd.read_csv(f\"{DATA_PATH}/pdb-features/non_canonical_atom_distances.csv\")\n",
    "df_ratio = pd.read_csv(\n",
    "    f\"{DATA_PATH}/pdb-features/non_canonical_atom_distances_with_ratio.csv\"\n",
    ")\n",
    "\n",
    "df_wc = df1.query(\"r_type == 'Flank-WC'\").copy()\n",
    "\n",
    "df_wc.sort_values(\"ln_r_data\", inplace=True, ascending=False)"
   ]
  },
  {
   "cell_type": "code",
   "execution_count": 67,
   "metadata": {},
   "outputs": [
    {
     "name": "stdout",
     "output_type": "stream",
     "text": [
      "Number of unique m_sequences (after removing HELIX): 536\n",
      "Unique m_tokens (after removing HELIX): ['1x1' '2x2']\n"
     ]
    }
   ],
   "source": [
    "# Filter rows where pdb_path is an empty list\n",
    "df_no_pdb = df1.query(\"has_pdbs == False\").copy()\n",
    "\n",
    "# Remove rows where m_token contains 'HELIX'\n",
    "df_no_pdb = df_no_pdb[~df_no_pdb[\"m_token\"].str.contains(\"HELIX\", na=False)]\n",
    "\n",
    "# Get unique values of m_sequence\n",
    "unique_m_sequences = df_no_pdb[\"m_sequence\"].unique()\n",
    "print(\"Number of unique m_sequences (after removing HELIX):\", len(unique_m_sequences))\n",
    "\n",
    "# Get unique values of m_token\n",
    "unique_m_tokens = df_no_pdb[\"m_token\"].unique()\n",
    "print(\"Unique m_tokens (after removing HELIX):\", unique_m_tokens)"
   ]
  },
  {
   "cell_type": "markdown",
   "metadata": {},
   "source": [
    "## Extra functions"
   ]
  },
  {
   "cell_type": "code",
   "execution_count": 69,
   "metadata": {},
   "outputs": [],
   "source": [
    "def assign_stack_type(row):\n",
    "    if row[\"both_pyrimidine\"]:\n",
    "        return \"both_pyrimidine\"\n",
    "    elif row[\"both_purine\"]:\n",
    "        return \"both_purine\"\n",
    "    else:\n",
    "        return \"mixed\""
   ]
  },
  {
   "cell_type": "code",
   "execution_count": 70,
   "metadata": {},
   "outputs": [],
   "source": [
    "def generate_replicate_df(df_construct: pd.DataFrame, df_construct_2) -> pd.DataFrame:\n",
    "    \"\"\"\n",
    "    Generates a replicate DataFrame by merging two input DataFrames based on the 'name' column.\n",
    "\n",
    "    Args:\n",
    "        df_construct (pandas.DataFrame): The first DataFrame containing the 'name' and 'data' columns.\n",
    "        df_construct_2 (pandas.DataFrame): The second DataFrame containing the 'name' and 'data' columns.\n",
    "\n",
    "    Returns:\n",
    "        pandas.DataFrame: A new DataFrame with columns 'data_1' and 'data_2', where\n",
    "            each row contains a pair of corresponding data values from the input DataFrames.\n",
    "\n",
    "    Raises:\n",
    "        None\n",
    "    \"\"\"\n",
    "    df_2_sub = df_construct_2[[\"name\", \"data\"]].copy()\n",
    "    df_2_sub.rename(columns={\"data\": \"data_2\"}, inplace=True)\n",
    "    df_merge = df_construct.merge(df_2_sub, on=\"name\").copy()\n",
    "    data = []\n",
    "    for i, row in df_merge.iterrows():\n",
    "        for d1, d2 in zip(row[\"data\"], row[\"data_2\"]):\n",
    "            data.append({\"data_1\": d1, \"data_2\": d2})\n",
    "    df_data = pd.DataFrame(data)\n",
    "    return df_data"
   ]
  },
  {
   "cell_type": "code",
   "execution_count": 72,
   "metadata": {},
   "outputs": [],
   "source": [
    "def calculate_sasa_percentages(df_non_wc_pair, sasa_thresholds=[2]):\n",
    "    results = []\n",
    "    for threshold in sasa_thresholds:\n",
    "        below_threshold = (\n",
    "            df_non_wc_pair[df_non_wc_pair[\"sasa_0_5\"] < threshold].groupby(\"cat\").size()\n",
    "        )\n",
    "        total = df_non_wc_pair.groupby(\"cat\").size()\n",
    "        percentage = (below_threshold / total * 100).round(2)\n",
    "\n",
    "        results.append(percentage.rename(f\"Percent_below_{threshold}\"))\n",
    "\n",
    "    result_df = pd.concat(results, axis=1).fillna(0)\n",
    "    result_df[\"Count\"] = df_non_wc_pair.groupby(\"cat\").size()\n",
    "\n",
    "    headers = [\"Category\"] + list(result_df.columns)\n",
    "    table_data = [[index] + row.tolist() for index, row in result_df.iterrows()]\n",
    "\n",
    "    return tabulate(table_data, headers=headers, tablefmt=\"pipe\", floatfmt=\".2f\")"
   ]
  },
  {
   "cell_type": "markdown",
   "metadata": {},
   "source": [
    "# Plotting"
   ]
  },
  {
   "cell_type": "markdown",
   "metadata": {},
   "source": [
    "## Suppplemental Table 3: Residues under 2 A for SASA"
   ]
  },
  {
   "cell_type": "code",
   "execution_count": null,
   "metadata": {},
   "outputs": [
    {
     "name": "stdout",
     "output_type": "stream",
     "text": [
      "| Category   |   Percent_below_2 |   Count |\n",
      "|:-----------|------------------:|--------:|\n",
      "| A in A-A   |             23.29 |  992.00 |\n",
      "| A in A-C   |             62.43 |  668.00 |\n",
      "| A in A-G   |             69.25 |  374.00 |\n",
      "| C in C-A   |             51.66 |  664.00 |\n",
      "| C in C-C   |             12.06 |  506.00 |\n",
      "| C in C-U   |              0.00 |  521.00 |\n"
     ]
    }
   ],
   "source": [
    "df_non_wc_pair = df_sasa_merge.query(\n",
    "    \"r_type == 'NON-WC' and (r_nuc == 'A' or r_nuc == 'C') and likely_pair != ''and m_token == '1x1'\"\n",
    ").copy()\n",
    "df_non_wc_pair[\"cat\"] = df_non_wc_pair.apply(\n",
    "    lambda row: f\"{row['r_nuc']} in {row['likely_pair'][0]}-{row['likely_pair'][1]}\",\n",
    "    axis=1,\n",
    ")\n",
    "\n",
    "print(calculate_sasa_percentages(df_non_wc_pair))"
   ]
  },
  {
   "cell_type": "markdown",
   "metadata": {},
   "source": [
    "## Supplemental Figure XXX: Correlation between DMS reactivity and nomod"
   ]
  },
  {
   "cell_type": "code",
   "execution_count": null,
   "metadata": {},
   "outputs": [
    {
     "data": {
      "image/png": "[encoded data removed]",
      "text/plain": [
       "<Figure size 300x250 with 1 Axes>"
      ]
     },
     "metadata": {},
     "output_type": "display_data"
    }
   ],
   "source": [
    "fig, ax = plt.subplots(figsize=(1.50, 1.25), dpi=200)\n",
    "df_data = generate_replicate_df(df_construct, df_contruct_nomod)\n",
    "plot_scatter_w_best_fit_line(df_data[\"data_1\"], df_data[\"data_2\"], ax=ax)\n",
    "ax.set_xlabel(\"Mut. Frac. DMS\", labelpad=2)\n",
    "ax.set_ylabel(\"Mut. Frac. Nomod\", labelpad=2)\n",
    "ax.set_xticks([0.00, 0.20, 0.40])\n",
    "ax.set_yticks([0.00, 0.20, 0.40])\n",
    "format_small_plot(ax)"
   ]
  }
 ],
 "metadata": {
  "kernelspec": {
   "display_name": "py3",
   "language": "python",
   "name": "python3"
  },
  "language_info": {
   "codemirror_mode": {
    "name": "ipython",
    "version": 3
   },
   "file_extension": ".py",
   "mimetype": "text/x-python",
   "name": "python",
   "nbconvert_exporter": "python",
   "pygments_lexer": "ipython3",
   "version": "3.8.19"
  }
 },
 "nbformat": 4,
 "nbformat_minor": 2
}
