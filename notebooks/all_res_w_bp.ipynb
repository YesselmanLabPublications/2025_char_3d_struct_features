{
 "cells": [
  {
   "cell_type": "code",
   "execution_count": 6,
   "metadata": {},
   "outputs": [],
   "source": [
    "import pandas as pd \n",
    "import numpy as np\n",
    "import matplotlib.pyplot as plt\n",
    "import seaborn as sns\n",
    "from scipy.stats import pearsonr"
   ]
  },
  {
   "cell_type": "code",
   "execution_count": 8,
   "metadata": {},
   "outputs": [],
   "source": [
    "df = pd.read_json(\"../data/jsons/pdb_library_1_with_basepairs.json\")\n"
   ]
  },
  {
   "cell_type": "code",
   "execution_count": 11,
   "metadata": {},
   "outputs": [],
   "source": [
    "df = df.query(\"has_pdbs == True\")"
   ]
  },
  {
   "cell_type": "code",
   "execution_count": 12,
   "metadata": {},
   "outputs": [
    {
     "data": {
      "text/plain": [
       "both_purine                    False\n",
       "both_pyrimidine                False\n",
       "constructs              construct809\n",
       "has_pdbs                        True\n",
       "likely_pair                       AU\n",
       "m_flank_bp_5p                     AU\n",
       "m_flank_bp_3p                     GC\n",
       "m_orientation                flipped\n",
       "m_pos                              5\n",
       "m_second_flank_bp_5p              AU\n",
       "m_second_flank_bp_3p              UA\n",
       "m_sequence                 AAAG&CGAU\n",
       "m_structure                (..(&)..)\n",
       "m_token                          2x2\n",
       "n_pdbs                             1\n",
       "pair_type                        NaN\n",
       "p5_res                          None\n",
       "p5_type                   PYRIMIDINE\n",
       "p3_res                             A\n",
       "p3_type                       PURINE\n",
       "r_data                       0.00241\n",
       "r_nuc                              A\n",
       "r_loc_pos                          0\n",
       "r_pos                             70\n",
       "r_type                            WC\n",
       "r_basepair_type                  cWW\n",
       "r_nuc_pair                       A-U\n",
       "Name: 9345, dtype: object"
      ]
     },
     "execution_count": 12,
     "metadata": {},
     "output_type": "execute_result"
    }
   ],
   "source": [
    "df.iloc[0]"
   ]
  },
  {
   "cell_type": "code",
   "execution_count": null,
   "metadata": {},
   "outputs": [],
   "source": []
  }
 ],
 "metadata": {
  "kernelspec": {
   "display_name": "py3",
   "language": "python",
   "name": "python3"
  },
  "language_info": {
   "codemirror_mode": {
    "name": "ipython",
    "version": 3
   },
   "file_extension": ".py",
   "mimetype": "text/x-python",
   "name": "python",
   "nbconvert_exporter": "python",
   "pygments_lexer": "ipython3",
   "version": "3.8.19"
  }
 },
 "nbformat": 4,
 "nbformat_minor": 2
}
