{
 "cells": [
  {
   "cell_type": "markdown",
   "id": "0ab1ca4d",
   "metadata": {},
   "source": [
    "# Supplemental Figure S8: Median CV ratio (WC/Non-WC) for different data groupings"
   ]
  },
  {
   "cell_type": "markdown",
   "id": "43d4a30b",
   "metadata": {},
   "source": [
    "# Setup"
   ]
  },
  {
   "cell_type": "markdown",
   "id": "742f1079",
   "metadata": {},
   "source": [
    "## imports"
   ]
  },
  {
   "cell_type": "code",
   "execution_count": 19,
   "id": "24cef5f5",
   "metadata": {},
   "outputs": [],
   "source": [
    "import pandas as pd\n",
    "import numpy as np\n",
    "import matplotlib.pyplot as plt\n",
    "from tqdm import tqdm\n",
    "\n",
    "from dms_3d_features.plotting import *"
   ]
  },
  {
   "cell_type": "markdown",
   "id": "9eadbb82",
   "metadata": {},
   "source": [
    "## extra functions"
   ]
  },
  {
   "cell_type": "code",
   "execution_count": 20,
   "id": "5d3b31f7",
   "metadata": {},
   "outputs": [],
   "source": [
    "def bootstrap_ratio(df, group_name, n_boot=5000):\n",
    "    wc = df.query(\"r_type == 'Flank-WC' and data_type == @group_name\")[\n",
    "        \"cv_r_data\"\n",
    "    ].values\n",
    "    non_wc = df.query(\"r_type == 'NON-WC' and data_type == @group_name\")[\n",
    "        \"cv_r_data\"\n",
    "    ].values\n",
    "\n",
    "    ratios = []\n",
    "    for _ in tqdm(range(n_boot)):\n",
    "        wc_sample = np.random.choice(wc, size=len(wc), replace=True)\n",
    "        non_wc_sample = np.random.choice(non_wc, size=len(non_wc), replace=True)\n",
    "        ratio = np.median(wc_sample) / np.median(non_wc_sample)\n",
    "        ratios.append(ratio)\n",
    "\n",
    "    return np.array(ratios)"
   ]
  },
  {
   "cell_type": "markdown",
   "id": "a8a3ad09",
   "metadata": {},
   "source": [
    "## load data"
   ]
  },
  {
   "cell_type": "code",
   "execution_count": 21,
   "id": "f5253ec6",
   "metadata": {},
   "outputs": [],
   "source": [
    "DATA_PATH = \"../../data\"\n",
    "REVISION_PATH = \"../../data/revisions\""
   ]
  },
  {
   "cell_type": "code",
   "execution_count": null,
   "id": "d32e2dc1",
   "metadata": {},
   "outputs": [],
   "source": []
  },
  {
   "cell_type": "markdown",
   "id": "062b56d8",
   "metadata": {},
   "source": [
    "# Plotting"
   ]
  },
  {
   "cell_type": "code",
   "execution_count": 33,
   "id": "893d979f",
   "metadata": {},
   "outputs": [],
   "source": [
    "# Group the data and calculate statistics\n",
    "df_fig_1 = pd.read_json(f\"{DATA_PATH}/raw-jsons/residues/pdb_library_1_residues.json\")\n",
    "df_fig_1 = df_fig_1.query(\"r_data_outlier == False\").copy()\n",
    "df_second_stack = (\n",
    "    df_fig_1.groupby(\n",
    "        [\"m_sequence\", \"r_loc_pos\", \"m_second_flank_bp_5p\", \"m_second_flank_bp_3p\"]\n",
    "    )\n",
    "    .agg(\n",
    "        m_token=(\"m_token\", \"first\"),\n",
    "        likely_pair=(\"likely_pair\", \"first\"),\n",
    "        m_flank_bp_5p=(\"m_flank_bp_5p\", \"first\"),\n",
    "        m_flank_bp_3p=(\"m_flank_bp_3p\", \"first\"),\n",
    "        p5_res=(\"p5_res\", \"first\"),\n",
    "        p3_res=(\"p3_res\", \"first\"),\n",
    "        r_stack=(\"r_stack\", \"first\"),\n",
    "        mean_ln_r_data=(\"ln_r_data\", \"mean\"),\n",
    "        std_ln_r_data=(\"ln_r_data\", \"std\"),\n",
    "        cv_r_data=(\"r_data\", lambda x: np.std(x) / np.mean(x)),\n",
    "        count=(\"ln_r_data\", \"count\"),\n",
    "        r_type=(\"r_type\", \"first\"),\n",
    "    )\n",
    "    .reset_index()\n",
    ")"
   ]
  },
  {
   "cell_type": "code",
   "execution_count": 34,
   "id": "27482c02",
   "metadata": {},
   "outputs": [],
   "source": [
    "df_sub = pd.read_csv(f\"{REVISION_PATH}/cv_csvs/randomized_cvs.csv\")"
   ]
  },
  {
   "cell_type": "code",
   "execution_count": 35,
   "id": "07db80b9",
   "metadata": {},
   "outputs": [],
   "source": [
    "df_cv = (\n",
    "    df_fig_1.groupby([\"m_sequence\", \"r_loc_pos\"])\n",
    "    .agg(\n",
    "        cv_r_data=(\"r_data\", lambda x: np.std(x) / np.mean(x)),\n",
    "        r_type=(\"r_type\", \"first\"),\n",
    "    )\n",
    "    .reset_index()\n",
    ")\n",
    "df_cv[\"data_type\"] = \"None\"\n",
    "df_second_stack_cv = df_second_stack.query(\"count >= 5\").copy()\n",
    "df_second_stack_cv[\"data_type\"] = \"Second Stack\"\n",
    "df_sub[\"data_type\"] = \"Random\"\n",
    "df_all = pd.concat([df_second_stack_cv, df_cv, df_sub]).reset_index(drop=True)"
   ]
  },
  {
   "cell_type": "code",
   "execution_count": 36,
   "id": "9da35017",
   "metadata": {},
   "outputs": [
    {
     "name": "stdout",
     "output_type": "stream",
     "text": [
      "     r_type     data_type  median_cv\n",
      "0  Flank-WC          None   0.412337\n",
      "1  Flank-WC        Random   0.360719\n",
      "2  Flank-WC  Second Stack   0.323507\n",
      "3    NON-WC          None   0.281566\n",
      "4    NON-WC        Random   0.252336\n",
      "5    NON-WC  Second Stack   0.208480\n",
      "6        WC          None   0.419006\n",
      "7        WC  Second Stack   0.389617\n"
     ]
    }
   ],
   "source": [
    "# Create median dataframe\n",
    "median_df = (\n",
    "    df_all.groupby([\"r_type\", \"data_type\"])[\"cv_r_data\"]\n",
    "    .median()\n",
    "    .reset_index()\n",
    "    .rename(columns={\"cv_r_data\": \"median_cv\"})\n",
    ")\n",
    "print(median_df)"
   ]
  },
  {
   "cell_type": "code",
   "execution_count": 37,
   "id": "a14a0943",
   "metadata": {},
   "outputs": [
    {
     "name": "stdout",
     "output_type": "stream",
     "text": [
      "Median CV ratios (WC / NON-WC):\n",
      "r_type     data_type  median_ratio_WC_vs_NON_WC\n",
      "0               None                   1.464442\n",
      "1             Random                   1.429521\n",
      "2       Second Stack                   1.551738\n"
     ]
    }
   ],
   "source": [
    "# Calculate WC / NON-WC median CV ratios for each data_type\n",
    "ratios = (\n",
    "    median_df.pivot(index=\"data_type\", columns=\"r_type\", values=\"median_cv\")\n",
    "    .reset_index()\n",
    "    .assign(median_ratio_WC_vs_NON_WC=lambda d: d[\"Flank-WC\"] / d[\"NON-WC\"])\n",
    ")\n",
    "print(\"Median CV ratios (WC / NON-WC):\")\n",
    "print(ratios[[\"data_type\", \"median_ratio_WC_vs_NON_WC\"]])"
   ]
  },
  {
   "cell_type": "code",
   "execution_count": 38,
   "id": "b4a188aa",
   "metadata": {},
   "outputs": [
    {
     "data": {
      "text/plain": [
       "array(['Second Stack', 'None', 'Random'], dtype=object)"
      ]
     },
     "execution_count": 38,
     "metadata": {},
     "output_type": "execute_result"
    }
   ],
   "source": [
    "df_all[\"data_type\"].unique()"
   ]
  },
  {
   "cell_type": "code",
   "execution_count": 39,
   "id": "70bd5cb8",
   "metadata": {},
   "outputs": [
    {
     "name": "stderr",
     "output_type": "stream",
     "text": [
      "  0%|          | 0/5000 [00:00<?, ?it/s]"
     ]
    },
    {
     "name": "stderr",
     "output_type": "stream",
     "text": [
      "100%|██████████| 5000/5000 [00:02<00:00, 1858.97it/s]\n",
      "100%|██████████| 5000/5000 [00:02<00:00, 1875.74it/s]\n",
      "100%|██████████| 5000/5000 [00:00<00:00, 8286.86it/s]"
     ]
    },
    {
     "name": "stdout",
     "output_type": "stream",
     "text": [
      "Random 99% CI: [1.40785462 1.45197693], contains baseline? False\n",
      "Second Stack 99% CI: [1.52474798 1.58052208], contains baseline? False\n"
     ]
    },
    {
     "name": "stderr",
     "output_type": "stream",
     "text": [
      "\n"
     ]
    }
   ],
   "source": [
    "# Bootstrap for Random and Second Stack\n",
    "ratios_random = bootstrap_ratio(df_all, \"Random\")\n",
    "ratios_stack = bootstrap_ratio(df_all, \"Second Stack\")\n",
    "ratios_none = bootstrap_ratio(df_all, \"None\")\n",
    "\n",
    "# Compare to the baseline value from \"None\"\n",
    "baseline_ratio = 1.464442\n",
    "\n",
    "# 95% confidence intervals\n",
    "ci_random = np.percentile(ratios_random, [0.5, 99.5])\n",
    "ci_stack = np.percentile(ratios_stack, [0.5, 99.5])\n",
    "\n",
    "print(\n",
    "    f\"Random 99% CI: {ci_random}, contains baseline? {ci_random[0] <= baseline_ratio <= ci_random[1]}\"\n",
    ")\n",
    "print(\n",
    "    f\"Second Stack 99% CI: {ci_stack}, contains baseline? {ci_stack[0] <= baseline_ratio <= ci_stack[1]}\"\n",
    ")"
   ]
  },
  {
   "cell_type": "code",
   "execution_count": 40,
   "id": "a1cf52ff",
   "metadata": {},
   "outputs": [
    {
     "data": {
      "image/png": "[encoded data removed]",
      "text/plain": [
       "<Figure size 495x495 with 1 Axes>"
      ]
     },
     "metadata": {},
     "output_type": "display_data"
    }
   ],
   "source": [
    "fig, ax = plt.subplots(figsize=(1.65, 1.65), dpi=300)\n",
    "\n",
    "ax.hist(\n",
    "    ratios_none,\n",
    "    bins=40,\n",
    "    alpha=0.7,\n",
    "    label=\"None\",\n",
    "    density=True,\n",
    "    color=\"tab:blue\",\n",
    ")\n",
    "ax.hist(\n",
    "    ratios_random, bins=40, alpha=0.7, label=\"Random\", density=True, color=\"tab:orange\"\n",
    ")\n",
    "ax.hist(\n",
    "    ratios_stack,\n",
    "    bins=40,\n",
    "    alpha=0.7,\n",
    "    label=\"Second Stack\",\n",
    "    density=True,\n",
    "    color=\"tab:green\",\n",
    ")\n",
    "\n",
    "ax.set_xlabel(\"Median CV ratio\")\n",
    "ax.set_ylabel(\"Count\")\n",
    "ax.set_xticks([1.40, 1.45, 1.50, 1.55, 1.60])\n",
    "add_legend(ax, [\"None\", \"Random\", \"Second Stack\"])\n",
    "\n",
    "publication_style_ax(ax)\n",
    "fig.savefig(\"../../figures/supplemental_figures/supplemental_figure_s8.png\", dpi=300, bbox_inches=\"tight\")"
   ]
  },
  {
   "cell_type": "code",
   "execution_count": null,
   "id": "c724724b",
   "metadata": {},
   "outputs": [],
   "source": []
  }
 ],
 "metadata": {
  "kernelspec": {
   "display_name": "py3",
   "language": "python",
   "name": "python3"
  },
  "language_info": {
   "codemirror_mode": {
    "name": "ipython",
    "version": 3
   },
   "file_extension": ".py",
   "mimetype": "text/x-python",
   "name": "python",
   "nbconvert_exporter": "python",
   "pygments_lexer": "ipython3",
   "version": "3.8.19"
  }
 },
 "nbformat": 4,
 "nbformat_minor": 5
}
