{
 "cells": [
  {
   "cell_type": "markdown",
   "id": "0ab1ca4d",
   "metadata": {},
   "source": [
    "# Supplemental Figure S4: histogram of number of reads per construct"
   ]
  },
  {
   "cell_type": "markdown",
   "id": "43d4a30b",
   "metadata": {},
   "source": [
    "# Setup"
   ]
  },
  {
   "cell_type": "markdown",
   "id": "742f1079",
   "metadata": {},
   "source": [
    "## imports"
   ]
  },
  {
   "cell_type": "code",
   "execution_count": 2,
   "id": "24cef5f5",
   "metadata": {},
   "outputs": [],
   "source": [
    "import pandas as pd\n",
    "import numpy as np\n",
    "import matplotlib.pyplot as plt\n",
    "\n",
    "from dms_3d_features.plotting import *"
   ]
  },
  {
   "cell_type": "markdown",
   "id": "9eadbb82",
   "metadata": {},
   "source": [
    "## extra functions"
   ]
  },
  {
   "cell_type": "code",
   "execution_count": null,
   "id": "5d3b31f7",
   "metadata": {},
   "outputs": [],
   "source": []
  },
  {
   "cell_type": "markdown",
   "id": "a8a3ad09",
   "metadata": {},
   "source": [
    "## load data"
   ]
  },
  {
   "cell_type": "code",
   "execution_count": 4,
   "id": "f5253ec6",
   "metadata": {},
   "outputs": [],
   "source": [
    "DATA_PATH = \"../../data\"\n",
    "REVISION_PATH = \"../../data/revisions\""
   ]
  },
  {
   "cell_type": "code",
   "execution_count": 5,
   "id": "d32e2dc1",
   "metadata": {},
   "outputs": [],
   "source": [
    "df_construct = pd.read_json(f\"{DATA_PATH}/raw-jsons/constructs/pdb_library_1.json\")"
   ]
  },
  {
   "cell_type": "markdown",
   "id": "062b56d8",
   "metadata": {},
   "source": [
    "# Plotting"
   ]
  },
  {
   "cell_type": "code",
   "execution_count": 6,
   "id": "893d979f",
   "metadata": {},
   "outputs": [
    {
     "data": {
      "image/png": "[encoded data removed]",
      "text/plain": [
       "<Figure size 330x330 with 1 Axes>"
      ]
     },
     "metadata": {},
     "output_type": "display_data"
    }
   ],
   "source": [
    "fig, ax = plt.subplots(figsize=(1.65, 1.65), dpi=200)\n",
    "ax.hist(df_construct[\"num_aligned\"], bins=100)\n",
    "ax.set_xlabel(\"Number of Reads\", labelpad=2)\n",
    "ax.set_ylabel(\"Count\", labelpad=2)\n",
    "ax.set_xlim([0, 200000])\n",
    "ax.set_xticks([0, 100000, 200000])\n",
    "ax.set_yticks(range(0, 1000, 200))\n",
    "publication_style_ax(ax)\n",
    "fig.savefig(\n",
    "    \"../../figures/supplemental_figures/supplemental_figure_s4.png\",\n",
    "    dpi=600,\n",
    "    bbox_inches=\"tight\",\n",
    ")"
   ]
  },
  {
   "cell_type": "code",
   "execution_count": null,
   "id": "1b7f2153",
   "metadata": {},
   "outputs": [],
   "source": []
  }
 ],
 "metadata": {
  "kernelspec": {
   "display_name": "py3",
   "language": "python",
   "name": "python3"
  },
  "language_info": {
   "codemirror_mode": {
    "name": "ipython",
    "version": 3
   },
   "file_extension": ".py",
   "mimetype": "text/x-python",
   "name": "python",
   "nbconvert_exporter": "python",
   "pygments_lexer": "ipython3",
   "version": "3.8.19"
  }
 },
 "nbformat": 4,
 "nbformat_minor": 5
}
