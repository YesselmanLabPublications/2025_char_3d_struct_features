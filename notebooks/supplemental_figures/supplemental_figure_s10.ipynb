{
 "cells": [
  {
   "cell_type": "markdown",
   "id": "0ab1ca4d",
   "metadata": {},
   "source": [
    "# Supplemental Figure S10 – The reactivity distribution for Flank-WC pairs and non-WC under denaturing conditions"
   ]
  },
  {
   "cell_type": "markdown",
   "id": "43d4a30b",
   "metadata": {},
   "source": [
    "# Setup"
   ]
  },
  {
   "cell_type": "markdown",
   "id": "742f1079",
   "metadata": {},
   "source": [
    "## imports"
   ]
  },
  {
   "cell_type": "code",
   "execution_count": 1,
   "id": "24cef5f5",
   "metadata": {},
   "outputs": [],
   "source": [
    "import pandas as pd\n",
    "import numpy as np\n",
    "import matplotlib.pyplot as plt\n",
    "\n",
    "from dms_3d_features.plotting import *"
   ]
  },
  {
   "cell_type": "markdown",
   "id": "9eadbb82",
   "metadata": {},
   "source": [
    "## extra functions"
   ]
  },
  {
   "cell_type": "code",
   "execution_count": null,
   "id": "5d3b31f7",
   "metadata": {},
   "outputs": [],
   "source": []
  },
  {
   "cell_type": "markdown",
   "id": "a8a3ad09",
   "metadata": {},
   "source": [
    "## load data"
   ]
  },
  {
   "cell_type": "code",
   "execution_count": 3,
   "id": "f5253ec6",
   "metadata": {},
   "outputs": [],
   "source": [
    "DATA_PATH = \"../../data\"\n",
    "REVISION_PATH = \"../../data/revisions\""
   ]
  },
  {
   "cell_type": "code",
   "execution_count": 4,
   "id": "d32e2dc1",
   "metadata": {},
   "outputs": [],
   "source": [
    "df_denature_res = pd.read_json(\n",
    "    f\"{REVISION_PATH}/dif_threshold/residues/pdb_library_denature_residues_2000.json\"\n",
    ")\n",
    "df_denature_res[\"ln_r_data\"] = df_denature_res[\"ln_r_data\"].replace(-np.inf, -9.8)"
   ]
  },
  {
   "cell_type": "markdown",
   "id": "062b56d8",
   "metadata": {},
   "source": [
    "# Plotting"
   ]
  },
  {
   "cell_type": "code",
   "execution_count": 5,
   "id": "893d979f",
   "metadata": {},
   "outputs": [
    {
     "data": {
      "image/png": "[encoded data removed]",
      "text/plain": [
       "<Figure size 330x330 with 1 Axes>"
      ]
     },
     "metadata": {},
     "output_type": "display_data"
    }
   ],
   "source": [
    "fig, ax = plt.subplots(figsize=(1.65, 1.65), dpi=200)\n",
    "\n",
    "ax.hist(\n",
    "    df_denature_res.query(\n",
    "        \"(r_type == 'WC' or r_type == 'Flank-WC') and ln_r_data > -9\"\n",
    "    )[\"ln_r_data\"],\n",
    "    bins=50,\n",
    "    alpha=0.7,\n",
    "    label=\"Flank-WC\",\n",
    ")\n",
    "ax.hist(\n",
    "    df_denature_res.query(\"r_type == 'NON-WC' and ln_r_data != -9.8\")[\"ln_r_data\"],\n",
    "    bins=50,\n",
    "    alpha=0.7,\n",
    "    label=\"NON-WC\",\n",
    ")\n",
    "ax.set_xlabel(\"ln(Mutation Fraction)\", labelpad=2)\n",
    "ax.set_ylabel(\"Count\", labelpad=2)\n",
    "ax.set_xlim(-10, -2)\n",
    "ax.set_xticks([-10, -8, -6, -4, -2])\n",
    "add_legend(ax, [\"WC\", \"Non-WC\"], loc=\"upper left\")\n",
    "publication_style_ax(ax)\n",
    "fig.savefig(\n",
    "    \"../../figures/supplemental_figures/supplemental_figure_s10.png\",\n",
    "    dpi=600,\n",
    "    bbox_inches=\"tight\",\n",
    ")"
   ]
  }
 ],
 "metadata": {
  "kernelspec": {
   "display_name": "py3",
   "language": "python",
   "name": "python3"
  },
  "language_info": {
   "codemirror_mode": {
    "name": "ipython",
    "version": 3
   },
   "file_extension": ".py",
   "mimetype": "text/x-python",
   "name": "python",
   "nbconvert_exporter": "python",
   "pygments_lexer": "ipython3",
   "version": "3.8.19"
  }
 },
 "nbformat": 4,
 "nbformat_minor": 5
}
