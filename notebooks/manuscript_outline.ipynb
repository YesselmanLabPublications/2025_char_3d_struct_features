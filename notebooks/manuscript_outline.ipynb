{
 "cells": [
  {
   "cell_type": "markdown",
   "metadata": {},
   "source": [
    "# outline of 'Revealing non-canonical RNA interactions in DMS chemical mapping'"
   ]
  },
  {
   "cell_type": "markdown",
   "metadata": {},
   "source": [
    "## Extra resources\n",
    "current draft: https://uofnelincoln-my.sharepoint.com/:w:/r/personal/jyesselman2_unl_edu/_layouts/15/Doc.aspx?sourcedoc=%7B2AAE1849-B2EB-44FC-8A5F-1ED79D0654BC%7D&file=draft_9.docx&action=default&mobileredirect=true"
   ]
  },
  {
   "cell_type": "markdown",
   "metadata": {},
   "source": [
    "# Notebook setup\n",
    "NOTE: all data is assumed to be in '../data' and this notebook will not work if the data is in another location!"
   ]
  },
  {
   "cell_type": "code",
   "execution_count": 41,
   "metadata": {},
   "outputs": [],
   "source": [
    "import pandas as pd\n",
    "import numpy as np\n",
    "import matplotlib.pyplot as plt\n",
    "import seaborn as sns\n",
    "from scipy.stats import ks_2samp, pearsonr, linregress\n",
    "from sklearn.linear_model import LogisticRegression\n",
    "from tabulate import tabulate\n",
    "import statsmodels.api as sm\n",
    "\n",
    "from dms_3d_features.plotting import (\n",
    "    plot_pop_avg_from_row,\n",
    "    publication_style_ax,\n",
    "    plot_motif_boxplot_stripplot,\n",
    "    plot_scatter_w_best_fit_line,\n",
    "    format_small_plot,\n",
    ")\n",
    "from dms_3d_features.format_tables import (\n",
    "    dataframe_column_table,\n",
    "    generate_threshold_summary,\n",
    ")"
   ]
  },
  {
   "cell_type": "markdown",
   "metadata": {},
   "source": [
    "## extra functions"
   ]
  },
  {
   "cell_type": "code",
   "execution_count": 42,
   "metadata": {},
   "outputs": [],
   "source": [
    "def r2(x, y):\n",
    "    return pearsonr(x, y)[0] ** 2"
   ]
  },
  {
   "cell_type": "code",
   "execution_count": 43,
   "metadata": {},
   "outputs": [],
   "source": [
    "def generate_replicate_df(df_construct: pd.DataFrame, df_construct_2) -> pd.DataFrame:\n",
    "    \"\"\"\n",
    "    Generates a replicate DataFrame by merging two input DataFrames based on the 'name' column.\n",
    "\n",
    "    Args:\n",
    "        df_construct (pandas.DataFrame): The first DataFrame containing the 'name' and 'data' columns.\n",
    "        df_construct_2 (pandas.DataFrame): The second DataFrame containing the 'name' and 'data' columns.\n",
    "\n",
    "    Returns:\n",
    "        pandas.DataFrame: A new DataFrame with columns 'data_1' and 'data_2', where\n",
    "            each row contains a pair of corresponding data values from the input DataFrames.\n",
    "\n",
    "    Raises:\n",
    "        None\n",
    "    \"\"\"\n",
    "    df_2_sub = df_construct_2[[\"name\", \"data\"]].copy()\n",
    "    df_2_sub.rename(columns={\"data\": \"data_2\"}, inplace=True)\n",
    "    df_merge = df_construct.merge(df_2_sub, on=\"name\").copy()\n",
    "    data = []\n",
    "    for i, row in df_merge.iterrows():\n",
    "        for d1, d2 in zip(row[\"data\"], row[\"data_2\"]):\n",
    "            data.append({\"data_1\": d1, \"data_2\": d2})\n",
    "    df_data = pd.DataFrame(data)\n",
    "    return df_data"
   ]
  },
  {
   "cell_type": "markdown",
   "metadata": {},
   "source": [
    "## load data"
   ]
  },
  {
   "cell_type": "code",
   "execution_count": 44,
   "metadata": {},
   "outputs": [],
   "source": [
    "DATA_PATH = \"../data\""
   ]
  },
  {
   "cell_type": "markdown",
   "metadata": {},
   "source": [
    "load all the data from the data folder<br>\n",
    "`df_construct` is all the data of constructs before any processing<br>\n",
    "`df_construct_2` is the replicate date to compare reproduceability<br>\n",
    "`df_motif` is processing all the constructs so that motifs are grouped together<br>\n",
    "`df` is processed data where all resiudes have their own row<br>"
   ]
  },
  {
   "cell_type": "code",
   "execution_count": 45,
   "metadata": {},
   "outputs": [],
   "source": [
    "df_construct = pd.read_json(f\"{DATA_PATH}/raw-jsons/constructs/pdb_library_1.json\")\n",
    "df_construct_2 = pd.read_json(f\"{DATA_PATH}/raw-jsons/constructs/pdb_library_2.json\")\n",
    "df_contruct_nomod = pd.read_json(\n",
    "    f\"{DATA_PATH}/raw-jsons/constructs/pdb_library_nomod.json\"\n",
    ")\n",
    "df_motif = pd.read_json(\n",
    "    f\"{DATA_PATH}/raw-jsons/motifs/pdb_library_1_motifs_standard.json\"\n",
    ")\n",
    "df = pd.read_json(f\"{DATA_PATH}/raw-jsons/residues/pdb_library_1_residues.json\")\n",
    "\n",
    "# generate natural log of DMS\n",
    "with np.errstate(divide=\"ignore\"):\n",
    "    df[\"ln_r_data\"] = np.log(df[\"r_data\"])\n",
    "df[\"ln_r_data\"].replace(-np.inf, -9.8, inplace=True)\n",
    "# remove outliers\n",
    "df = df.query(\"r_data_outlier == False\").copy()"
   ]
  },
  {
   "cell_type": "markdown",
   "metadata": {},
   "source": [
    "## data inspection"
   ]
  },
  {
   "cell_type": "code",
   "execution_count": 46,
   "metadata": {},
   "outputs": [
    {
     "name": "stdout",
     "output_type": "stream",
     "text": [
      "          0                    1                    2             3\n",
      "both_purine      both_pyrimidine           constructs      has_pdbs\n",
      "likely_pair        m_flank_bp_5p        m_flank_bp_3p m_orientation\n",
      "      m_pos m_second_flank_bp_5p m_second_flank_bp_3p    m_sequence\n",
      "m_structure              m_token               n_pdbs     pair_type\n",
      "     p5_res              p5_type               p3_res       p3_type\n",
      "     r_data                r_nuc            r_loc_pos         r_pos\n",
      "     r_type              r_stack             pdb_path     pdb_r_pos\n",
      "  ln_r_data              z_score       r_data_outlier           NaN\n"
     ]
    }
   ],
   "source": [
    "dataframe_column_table(df)"
   ]
  },
  {
   "cell_type": "code",
   "execution_count": 47,
   "metadata": {},
   "outputs": [
    {
     "name": "stdout",
     "output_type": "stream",
     "text": [
      "| Column               | Description                                        |\n",
      "|:---------------------|:---------------------------------------------------|\n",
      "| both_purine          | Boolean indicating if the 5' and 3' bases in a     |\n",
      "|                      | pair are purines                                   |\n",
      "| both_pyrimidine      | Boolean indicating if the 5' and 3' bases in a     |\n",
      "|                      | pair are pyrimidines                               |\n",
      "| constructs           | List of construct IDs associated with the motif    |\n",
      "| has_pdbs             | Boolean indicating if the motif has associated PDB |\n",
      "|                      | structures                                         |\n",
      "| likely_pair          | for symmetrical motifs if each nucleotide paired   |\n",
      "|                      | with its counterpart what pair would it be         |\n",
      "| m_flank_bp_5p        | Base pair information for the 5' flanking region   |\n",
      "|                      | of the motif                                       |\n",
      "| m_flank_bp_3p        | Base pair information for the 3' flanking region   |\n",
      "|                      | of the motif                                       |\n",
      "| m_orientation        | Orientation of the motif did it need to be flipped |\n",
      "| m_second_flank_bp_5p | Base pair information for the second 5' flanking   |\n",
      "|                      | region                                             |\n",
      "| m_second_flank_bp_3p | Base pair information for the second 3' flanking   |\n",
      "|                      | region                                             |\n",
      "| m_sequence           | Sequence of the motif                              |\n",
      "| m_structure          | Secondary structure of the motif in dot-bracket    |\n",
      "|                      | notation                                           |\n",
      "| m_token              | The topology of the motif e.g. 1x1 or 5x0          |\n",
      "| n_pdbs               | Number of PDB structures associated with the motif |\n",
      "| pair_type            | Type of base pair (e.g., Watson-Crick, wobble)     |\n",
      "| p5_res               | Residue identity of 5' residue (A, C, G, U)        |\n"
     ]
    }
   ],
   "source": [
    "# TODO give explanation of each feature\n",
    "# Create a dictionary to explain each column in df\n",
    "column_explanations = {\n",
    "    \"both_purine\": \"Boolean indicating if the 5' and 3' bases in a pair are purines\",\n",
    "    \"both_pyrimidine\": \"Boolean indicating if the 5' and 3' bases in a pair are pyrimidines\",\n",
    "    \"constructs\": \"List of construct IDs associated with the motif\",\n",
    "    \"has_pdbs\": \"Boolean indicating if the motif has associated PDB structures\",\n",
    "    \"likely_pair\": \"for symmetrical motifs if each nucleotide paired with its counterpart what pair would it be\",\n",
    "    \"m_flank_bp_5p\": \"Base pair information for the 5' flanking region of the motif\",\n",
    "    \"m_flank_bp_3p\": \"Base pair information for the 3' flanking region of the motif\",\n",
    "    \"m_orientation\": \"Orientation of the motif did it need to be flipped\",\n",
    "    \"m_second_flank_bp_5p\": \"Base pair information for the second 5' flanking region\",\n",
    "    \"m_second_flank_bp_3p\": \"Base pair information for the second 3' flanking region\",\n",
    "    \"m_sequence\": \"Sequence of the motif\",\n",
    "    \"m_structure\": \"Secondary structure of the motif in dot-bracket notation\",\n",
    "    \"m_token\": \"The topology of the motif e.g. 1x1 or 5x0\",\n",
    "    \"n_pdbs\": \"Number of PDB structures associated with the motif\",\n",
    "    \"pair_type\": \"Type of base pair (e.g., Watson-Crick, wobble)\",\n",
    "    \"p5_res\": \"Residue identity of 5' residue (A, C, G, U)\",\n",
    "}\n",
    "\n",
    "# Create a list of lists for tabulate\n",
    "table_data = [\n",
    "    [column, description] for column, description in column_explanations.items()\n",
    "]\n",
    "\n",
    "# Create and display the table with wrapped text\n",
    "table = tabulate(\n",
    "    table_data,\n",
    "    headers=[\"Column\", \"Description\"],\n",
    "    tablefmt=\"pipe\",\n",
    "    colalign=(\"left\", \"left\"),\n",
    "    maxcolwidths=[None, 50],\n",
    ")\n",
    "print(table)"
   ]
  },
  {
   "cell_type": "markdown",
   "metadata": {},
   "source": [
    "# Results"
   ]
  },
  {
   "cell_type": "markdown",
   "metadata": {},
   "source": [
    "## 1 - Designing a massive RNA library to investigate the relationship between DMS reactivity and non-canonical interactions.  "
   ]
  },
  {
   "cell_type": "markdown",
   "metadata": {},
   "source": [
    "### 1 - Outline\n",
    "1. Understanding how RNA structure relates to DMS reactivity requires probing a large set of RNA sequences with known 3d structures.<br><br>\n",
    "2. To optimize the investigation of RNAs with known 3d structures, we will break them up into motifs as motifs are isolatable.<br><br>\n",
    "3. Will focus on two-way junctions and which are the most common non-canonical motif and fit well into the design strategy of making long, stable hairpins<br><br>\n",
    "4. Will supplement the pdb structures with mutations as there aren’t enough pdbs yet<br><br>\n"
   ]
  },
  {
   "cell_type": "markdown",
   "metadata": {},
   "source": [
    "### 1 - Analysis\n"
   ]
  },
  {
   "cell_type": "markdown",
   "metadata": {},
   "source": [
    "#### 1a - how many motifs have pdbs"
   ]
  },
  {
   "cell_type": "code",
   "execution_count": 84,
   "metadata": {},
   "outputs": [
    {
     "name": "stdout",
     "output_type": "stream",
     "text": [
      "177\n"
     ]
    }
   ],
   "source": [
    "df_pdbs = df[df[\"has_pdbs\"] == True]\n",
    "print(df_pdbs[\"m_sequence\"].nunique())"
   ]
  },
  {
   "cell_type": "markdown",
   "metadata": {},
   "source": [
    "#### 1b - how many motifs are mutants"
   ]
  },
  {
   "cell_type": "code",
   "execution_count": 81,
   "metadata": {},
   "outputs": [
    {
     "data": {
      "text/plain": [
       "m_token\n",
       "1x1     35\n",
       "2x2    501\n",
       "Name: m_sequence, dtype: int64"
      ]
     },
     "execution_count": 81,
     "metadata": {},
     "output_type": "execute_result"
    }
   ],
   "source": [
    "df_no_pdb = df[df[\"has_pdbs\"] == False]\n",
    "df_no_pdb.groupby(\"m_token\")[\"m_sequence\"].nunique()"
   ]
  },
  {
   "cell_type": "markdown",
   "metadata": {},
   "source": [
    "## 2 - DMS reactivity is highly reproducible and spans five orders of magnitude. "
   ]
  },
  {
   "cell_type": "markdown",
   "metadata": {},
   "source": [
    "### 2 - Outline \n",
    "\n",
    "1. DMS spans four orders of magnitude and has 240,000 datapoints [figure 1C](#figure-1c-mutation-fractions-of-dms-reactivity-are-highly-reproducible)\n",
    "<br><br>\n",
    "    1a. [More reads than normal 38,000 read per construct on average](#1a---statistics-on-number-of-reads)<br>\n",
    "    1b. [DMS values span four orders of magnitude](#1b-find-highest-and-lowest-dms-values-and-number-of-data-points)<br>\n",
    "        min val:  6.0e-05<br>\n",
    "        max val:  0.50<br>\n",
    "        count:  237528<br>\n",
    "\n",
    "2. DMS reactivity is highly reproducible even at low mutation fraction (Figure 1D)<br><br>\n",
    "    [r2 = 0.99](#corelation-between-experimental-replicates)<br>\n",
    "\n",
    "3. <font color='green'>DMS reactivity is highly local compare to full structures **TODO**<br><br>\n",
    "    a. how many residues are the within the same range as the isolated motifs<br>\n",
    "    b. how many of the excluded motif had different reactivity<br>\n",
    "    c. correlation plot to compare?<br>\n",
    "    d. for ones that are differnt is there an explanation for why they are different<br></font>\n",
    "\n",
    "4. Motif DMS reactivity patterns are reproducible, and the amount of error is small suggesting DMS is a mostly influenced by local structure (Figure 1F)<br><br>\n",
    "\n"
   ]
  },
  {
   "cell_type": "markdown",
   "metadata": {},
   "source": [
    "### 2 - Analysis"
   ]
  },
  {
   "cell_type": "markdown",
   "metadata": {},
   "source": [
    "#### 1a - statistics on number of reads"
   ]
  },
  {
   "cell_type": "code",
   "execution_count": 48,
   "metadata": {},
   "outputs": [
    {
     "data": {
      "text/plain": [
       "count      7500.000000\n",
       "mean      37688.644133\n",
       "std       26941.748951\n",
       "min         369.000000\n",
       "25%       19796.750000\n",
       "50%       31129.000000\n",
       "75%       48240.500000\n",
       "max      421216.000000\n",
       "Name: num_aligned, dtype: float64"
      ]
     },
     "execution_count": 48,
     "metadata": {},
     "output_type": "execute_result"
    }
   ],
   "source": [
    "df_construct[\"num_aligned\"].describe()"
   ]
  },
  {
   "cell_type": "code",
   "execution_count": 49,
   "metadata": {},
   "outputs": [
    {
     "data": {
      "text/plain": [
       "count      7500.00000\n",
       "mean      35386.50640\n",
       "std       24232.18889\n",
       "min         293.00000\n",
       "25%       18548.00000\n",
       "50%       29640.50000\n",
       "75%       45878.00000\n",
       "max      231395.00000\n",
       "Name: num_aligned, dtype: float64"
      ]
     },
     "execution_count": 49,
     "metadata": {},
     "output_type": "execute_result"
    }
   ],
   "source": [
    "df_construct_2[\"num_aligned\"].describe()"
   ]
  },
  {
   "cell_type": "code",
   "execution_count": 50,
   "metadata": {},
   "outputs": [
    {
     "data": {
      "text/plain": [
       "count     7500.000000\n",
       "mean     11481.308533\n",
       "std       5729.797302\n",
       "min        128.000000\n",
       "25%       7492.000000\n",
       "50%      10608.500000\n",
       "75%      14431.250000\n",
       "max      49972.000000\n",
       "Name: num_aligned, dtype: float64"
      ]
     },
     "execution_count": 50,
     "metadata": {},
     "output_type": "execute_result"
    }
   ],
   "source": [
    "df_contruct_nomod[\"num_aligned\"].describe()"
   ]
  },
  {
   "cell_type": "markdown",
   "metadata": {},
   "source": [
    "#### 1b - find highest and lowest DMS values and number of data points\n"
   ]
  },
  {
   "cell_type": "code",
   "execution_count": 51,
   "metadata": {},
   "outputs": [
    {
     "name": "stdout",
     "output_type": "stream",
     "text": [
      "min val:  6.000000000000001e-05\n",
      "max val:  0.42598\n",
      "count:  235104\n"
     ]
    }
   ],
   "source": [
    "lowest_non_zero_value = df[df[\"r_data\"] != 0][\"r_data\"].min()\n",
    "print(\"min val: \", lowest_non_zero_value)\n",
    "print(\"max val: \", df[\"r_data\"].max())\n",
    "print(\"count: \", len(df))"
   ]
  },
  {
   "cell_type": "markdown",
   "metadata": {},
   "source": [
    "#### corelation between experimental replicates"
   ]
  },
  {
   "cell_type": "code",
   "execution_count": 52,
   "metadata": {},
   "outputs": [
    {
     "name": "stdout",
     "output_type": "stream",
     "text": [
      "r2:  0.9904858197439965\n"
     ]
    }
   ],
   "source": [
    "df_data = generate_replicate_df(df_construct, df_construct_2)\n",
    "print(\"r2: \", r2(df_data[\"data_1\"], df_data[\"data_2\"]))"
   ]
  },
  {
   "cell_type": "code",
   "execution_count": 53,
   "metadata": {},
   "outputs": [
    {
     "name": "stdout",
     "output_type": "stream",
     "text": [
      "r2:  0.3766508335480148\n"
     ]
    }
   ],
   "source": [
    "df_data = generate_replicate_df(df_construct, df_construct_2)\n",
    "df_data = df_data.query(\"data_1 < 0.001 and data_2 < 0.001\")\n",
    "print(\"r2: \", r2(df_data[\"data_1\"], df_data[\"data_2\"]))"
   ]
  },
  {
   "cell_type": "markdown",
   "metadata": {},
   "source": [
    "#### average coefficient of variation"
   ]
  },
  {
   "cell_type": "code",
   "execution_count": 54,
   "metadata": {},
   "outputs": [
    {
     "data": {
      "text/plain": [
       "0.35615136131426856"
      ]
     },
     "execution_count": 54,
     "metadata": {},
     "output_type": "execute_result"
    }
   ],
   "source": [
    "data = []\n",
    "for i, group in df.groupby([\"r_loc_pos\", \"m_sequence\"]):\n",
    "    data.append(group[\"r_data\"].std() / group[\"r_data\"].mean())\n",
    "np.mean(data)"
   ]
  },
  {
   "cell_type": "markdown",
   "metadata": {},
   "source": [
    "#### correlation between nomod and DMS"
   ]
  },
  {
   "cell_type": "code",
   "execution_count": 55,
   "metadata": {},
   "outputs": [
    {
     "name": "stdout",
     "output_type": "stream",
     "text": [
      "r2:  0.0004106096097065152\n"
     ]
    }
   ],
   "source": [
    "df_data = generate_replicate_df(df_construct, df_contruct_nomod)\n",
    "print(\"r2: \", r2(df_data[\"data_1\"], df_data[\"data_2\"]))"
   ]
  },
  {
   "cell_type": "code",
   "execution_count": 56,
   "metadata": {},
   "outputs": [
    {
     "name": "stdout",
     "output_type": "stream",
     "text": [
      "r2:  0.07868295755707296\n"
     ]
    }
   ],
   "source": [
    "df_data = generate_replicate_df(df_construct, df_contruct_nomod)\n",
    "df_data = df_data.query(\"data_1 < 0.0001 and data_2 < 0.0001\")\n",
    "print(\"r2: \", r2(df_data[\"data_1\"], df_data[\"data_2\"]))"
   ]
  },
  {
   "cell_type": "markdown",
   "metadata": {},
   "source": [
    "#### average nomod reads"
   ]
  },
  {
   "cell_type": "code",
   "execution_count": 57,
   "metadata": {},
   "outputs": [
    {
     "data": {
      "text/plain": [
       "11481.308533333333"
      ]
     },
     "execution_count": 57,
     "metadata": {},
     "output_type": "execute_result"
    }
   ],
   "source": [
    "df_contruct_nomod[\"num_aligned\"].mean()"
   ]
  },
  {
   "cell_type": "markdown",
   "metadata": {},
   "source": [
    "#### average nomod mutation fraction"
   ]
  },
  {
   "cell_type": "code",
   "execution_count": 58,
   "metadata": {},
   "outputs": [
    {
     "name": "stdout",
     "output_type": "stream",
     "text": [
      "0.0013926377001253591\n",
      "-6.57655570406773\n",
      "-9.721165995742174\n"
     ]
    }
   ],
   "source": [
    "average = 0\n",
    "total = 0\n",
    "for i, row in df_contruct_nomod.iterrows():\n",
    "    for d, n in zip(row[\"data\"], row[\"sequence\"]):\n",
    "        average += d\n",
    "        total += 1\n",
    "print(average / total)\n",
    "print(np.log(average / total))\n",
    "print(np.log(6.0e-05))"
   ]
  },
  {
   "cell_type": "markdown",
   "metadata": {},
   "source": [
    "### Figure 1"
   ]
  },
  {
   "cell_type": "markdown",
   "metadata": {},
   "source": [
    "#### Figure 1B: construct to highlight diversity of structures. Find one with the most different motifs"
   ]
  },
  {
   "cell_type": "code",
   "execution_count": 59,
   "metadata": {},
   "outputs": [],
   "source": [
    "def figure_1b(df_construct, ax):\n",
    "    row = df_construct.iloc[7000].to_dict()\n",
    "    row[\"sequence\"] = row[\"sequence\"][1:]\n",
    "    row[\"structure\"] = row[\"structure\"][1:]\n",
    "    row[\"data\"] = row[\"data\"][1:]\n",
    "    ax = plot_pop_avg_from_row(row, ax=ax)\n",
    "    ax.set_xlabel(\"Nucleotide\", labelpad=2)\n",
    "    ax.set_ylabel(\"Mutation Fraction\", labelpad=2)\n",
    "    ax.set_yticks([0, 0.01, 0.02, 0.03, 0.04, 0.05, 0.06])\n",
    "    ax.set_xlim(-1, 112)\n",
    "    ax.tick_params(axis=\"x\", which=\"both\", bottom=False, top=False, size=-1)\n",
    "    publication_style_ax(ax, fsize=8, ytick_size=6, xtick_size=4)"
   ]
  },
  {
   "cell_type": "code",
   "execution_count": 60,
   "metadata": {},
   "outputs": [
    {
     "data": {
      "image/png": "[encoded data removed]",
      "text/plain": [
       "<Figure size 800x250 with 1 Axes>"
      ]
     },
     "metadata": {},
     "output_type": "display_data"
    }
   ],
   "source": [
    "fig, ax = plt.subplots(figsize=(4.00, 1.25), dpi=200)\n",
    "figure_1b(df_construct, ax)"
   ]
  },
  {
   "cell_type": "markdown",
   "metadata": {},
   "source": [
    "#### Figure 1C: mutation fractions of DMS reactivity are highly reproducible"
   ]
  },
  {
   "cell_type": "code",
   "execution_count": 61,
   "metadata": {},
   "outputs": [],
   "source": [
    "def figure_1c(df_construct, df_construct_2, ax):\n",
    "    # prepare data for plot\n",
    "    df_data = generate_replicate_df(df_construct, df_construct_2)\n",
    "    # generate plot\n",
    "    plot_scatter_w_best_fit_line(df_data[\"data_1\"], df_data[\"data_2\"], ax=ax)\n",
    "    ax.set_xlabel(\"Mut. Frac. Run 1\", labelpad=2)\n",
    "    ax.set_ylabel(\"Mut. Frac. Run 2\", labelpad=2)\n",
    "    ax.set_xticks([0.00, 0.20, 0.40])\n",
    "    ax.set_yticks([0.00, 0.20, 0.40])\n",
    "    format_small_plot(ax)"
   ]
  },
  {
   "cell_type": "code",
   "execution_count": 62,
   "metadata": {},
   "outputs": [
    {
     "data": {
      "image/png": "[encoded data removed]",
      "text/plain": [
       "<Figure size 300x250 with 1 Axes>"
      ]
     },
     "metadata": {},
     "output_type": "display_data"
    }
   ],
   "source": [
    "fig, ax = plt.subplots(figsize=(1.50, 1.25), dpi=200)\n",
    "figure_1c(df_construct, df_construct_2, ax)"
   ]
  },
  {
   "cell_type": "markdown",
   "metadata": {},
   "source": [
    "#### Figure 1D: histogram of DMS reactivity in Ln space visualize the distribution over the five orders of magnitude"
   ]
  },
  {
   "cell_type": "code",
   "execution_count": 63,
   "metadata": {},
   "outputs": [],
   "source": [
    "# TODO add line for nomod average\n",
    "def figure_1d(df, ax):\n",
    "    ax.hist(df[\"ln_r_data\"], bins=25)\n",
    "    ax.set_yscale(\"log\")\n",
    "    ax.set_xlabel(\"ln(Mutation Fraction)\", labelpad=2)\n",
    "    ax.set_ylabel(\"Count\", labelpad=2)\n",
    "    ax.set_yticks([10, 100, 1000, 10000])\n",
    "    ax.set_xticks([-10, -8, -6, -4, -2, 0])\n",
    "    format_small_plot(ax)"
   ]
  },
  {
   "cell_type": "code",
   "execution_count": 64,
   "metadata": {},
   "outputs": [
    {
     "data": {
      "image/png": "[encoded data removed]",
      "text/plain": [
       "<Figure size 300x250 with 1 Axes>"
      ]
     },
     "metadata": {},
     "output_type": "display_data"
    }
   ],
   "source": [
    "fig, ax = plt.subplots(figsize=(1.50, 1.25), dpi=200)\n",
    "figure_1d(df, ax)"
   ]
  },
  {
   "cell_type": "markdown",
   "metadata": {},
   "source": [
    "#### Figure 1E: how often does each motif occur"
   ]
  },
  {
   "cell_type": "code",
   "execution_count": 65,
   "metadata": {},
   "outputs": [],
   "source": [
    "def figure_1e(df_motif, ax):\n",
    "    data = []\n",
    "    for i, group in df_motif.groupby(\"m_sequence\"):\n",
    "        data.append([i, len(group)])\n",
    "    df_counts = pd.DataFrame(data, columns=[\"m_sequence\", \"count\"])\n",
    "    ax.set_xlabel(\"Motif Count\", labelpad=2)\n",
    "    ax.set_ylabel(\"Count\", labelpad=2)\n",
    "    plt.hist(df_counts[\"count\"], bins=100)\n",
    "    format_small_plot(ax)"
   ]
  },
  {
   "cell_type": "code",
   "execution_count": 66,
   "metadata": {},
   "outputs": [
    {
     "data": {
      "image/png": "[encoded data removed]",
      "text/plain": [
       "<Figure size 300x250 with 1 Axes>"
      ]
     },
     "metadata": {},
     "output_type": "display_data"
    }
   ],
   "source": [
    "fig, ax = plt.subplots(figsize=(1.50, 1.25), dpi=200)\n",
    "figure_1e(df_motif, ax)"
   ]
  },
  {
   "cell_type": "markdown",
   "metadata": {},
   "source": [
    "#### Figure 1F: example motif's DMS reactivity over all constructs"
   ]
  },
  {
   "cell_type": "code",
   "execution_count": 67,
   "metadata": {},
   "outputs": [],
   "source": [
    "def figure_1f(df, ax):\n",
    "    df_motif_example = df[df[\"m_sequence\"] == \"GGGAAAG&UAACAC\"]\n",
    "    plot_motif_boxplot_stripplot(df_motif_example, ax=ax)\n",
    "    ax.set_xlabel(\"Residues\", labelpad=2)\n",
    "    ax.set_ylabel(\"Mutation Fraction\", labelpad=2)\n",
    "    # Add N = number of data instances in the top left corner\n",
    "    n_instances = len(df_motif_example.query(\"r_loc_pos == 4\"))\n",
    "    ax.text(\n",
    "        0.03,\n",
    "        0.97,\n",
    "        f\"N = {n_instances}\",\n",
    "        transform=ax.transAxes,\n",
    "        verticalalignment=\"top\",\n",
    "        fontsize=8,\n",
    "    )\n",
    "    format_small_plot(ax)"
   ]
  },
  {
   "cell_type": "code",
   "execution_count": 68,
   "metadata": {},
   "outputs": [
    {
     "data": {
      "image/png": "[encoded data removed]",
      "text/plain": [
       "<Figure size 300x250 with 1 Axes>"
      ]
     },
     "metadata": {},
     "output_type": "display_data"
    }
   ],
   "source": [
    "fig, ax = plt.subplots(figsize=(1.50, 1.25), dpi=200)\n",
    "figure_1f(df, ax)"
   ]
  },
  {
   "cell_type": "markdown",
   "metadata": {},
   "source": [
    "#### Figure 1G: reactivity avg vs std"
   ]
  },
  {
   "cell_type": "code",
   "execution_count": 69,
   "metadata": {},
   "outputs": [],
   "source": [
    "def figure_1g(df, ax):\n",
    "    data = []\n",
    "    for i, group in df.groupby([\"r_loc_pos\", \"m_sequence\"]):\n",
    "        data.append([group[\"r_data\"].mean(), group[\"r_data\"].std()])\n",
    "    df_data = pd.DataFrame(data, columns=[\"mean\", \"std\"])\n",
    "    plot_scatter_w_best_fit_line(np.log(df_data[\"mean\"]), np.log(df_data[\"std\"]), ax=ax)\n",
    "    ax.set_xlabel(\"ln(Avg. Mut. Frac.)\", labelpad=2)\n",
    "    ax.set_ylabel(\"ln(Std. Mut. Frac.)\", labelpad=2)\n",
    "    ax.set_yticks([-2, -4, -6, -8])\n",
    "    ax.set_xticks([-8, -6, -4, -2])\n",
    "    format_small_plot(ax)"
   ]
  },
  {
   "cell_type": "code",
   "execution_count": 70,
   "metadata": {},
   "outputs": [
    {
     "data": {
      "image/png": "[encoded data removed]",
      "text/plain": [
       "<Figure size 300x250 with 1 Axes>"
      ]
     },
     "metadata": {},
     "output_type": "display_data"
    }
   ],
   "source": [
    "fig, ax = plt.subplots(figsize=(1.50, 1.25), dpi=200)\n",
    "figure_1g(df, ax)"
   ]
  },
  {
   "cell_type": "markdown",
   "metadata": {},
   "source": [
    "#### Figure 1H: coefficient of variation"
   ]
  },
  {
   "cell_type": "code",
   "execution_count": 71,
   "metadata": {},
   "outputs": [],
   "source": [
    "def figure_1h(df, ax):\n",
    "    data = []\n",
    "    for i, group in df.groupby([\"r_loc_pos\", \"m_sequence\"]):\n",
    "        data.append(group[\"r_data\"].std() / group[\"r_data\"].mean())\n",
    "    plt.hist(data, bins=50)\n",
    "    format_small_plot(ax)\n",
    "    ax.set_xlabel(\"Coefficient of Variation\", labelpad=2)\n",
    "    ax.set_ylabel(\"Count\", labelpad=2)"
   ]
  },
  {
   "cell_type": "code",
   "execution_count": 72,
   "metadata": {},
   "outputs": [
    {
     "data": {
      "image/png": "[encoded data removed]",
      "text/plain": [
       "<Figure size 300x250 with 1 Axes>"
      ]
     },
     "metadata": {},
     "output_type": "display_data"
    }
   ],
   "source": [
    "fig, ax = plt.subplots(figsize=(1.50, 1.25), dpi=200)\n",
    "figure_1h(df, ax)"
   ]
  },
  {
   "cell_type": "markdown",
   "metadata": {},
   "source": [
    "### Supplemental Figures / Information"
   ]
  },
  {
   "cell_type": "markdown",
   "metadata": {},
   "source": [
    "#### Supplemental Figure 1: histogram of number of reads per construct"
   ]
  },
  {
   "cell_type": "code",
   "execution_count": 73,
   "metadata": {},
   "outputs": [
    {
     "data": {
      "image/png": "[encoded data removed]",
      "text/plain": [
       "<Figure size 300x250 with 1 Axes>"
      ]
     },
     "metadata": {},
     "output_type": "display_data"
    }
   ],
   "source": [
    "fig, ax = plt.subplots(figsize=(1.50, 1.25), dpi=200)\n",
    "plt.hist(df_construct[\"num_aligned\"], bins=100)\n",
    "ax.set_xlabel(\"Number of Reads\", labelpad=2)\n",
    "ax.set_ylabel(\"Count\", labelpad=2)\n",
    "ax.set_xlim([0, 200000])\n",
    "ax.set_xticks([0, 100000, 200000])\n",
    "ax.set_yticks(range(0, 1000, 200))\n",
    "format_small_plot(ax)"
   ]
  },
  {
   "cell_type": "markdown",
   "metadata": {},
   "source": [
    "#### Supplemental Figure 2: Correlation between DMS reactivity and nomod"
   ]
  },
  {
   "cell_type": "code",
   "execution_count": 74,
   "metadata": {},
   "outputs": [
    {
     "data": {
      "image/png": "[encoded data removed]",
      "text/plain": [
       "<Figure size 300x250 with 1 Axes>"
      ]
     },
     "metadata": {},
     "output_type": "display_data"
    }
   ],
   "source": [
    "fig, ax = plt.subplots(figsize=(1.50, 1.25), dpi=200)\n",
    "df_data = generate_replicate_df(df_construct, df_contruct_nomod)\n",
    "plot_scatter_w_best_fit_line(df_data[\"data_1\"], df_data[\"data_2\"], ax=ax)\n",
    "ax.set_xlabel(\"Mut. Frac. DMS\", labelpad=2)\n",
    "ax.set_ylabel(\"Mut. Frac. Nomod\", labelpad=2)\n",
    "ax.set_xticks([0.00, 0.20, 0.40])\n",
    "ax.set_yticks([0.00, 0.20, 0.40])\n",
    "format_small_plot(ax)"
   ]
  },
  {
   "cell_type": "markdown",
   "metadata": {},
   "source": [
    "#### Supplemental Figure XXX: what is the relationship between DMS reactivity and the standard deviation of DMS reactivity for a given residue"
   ]
  },
  {
   "cell_type": "code",
   "execution_count": 75,
   "metadata": {},
   "outputs": [
    {
     "data": {
      "image/png": "[encoded data removed]",
      "text/plain": [
       "<Figure size 300x250 with 1 Axes>"
      ]
     },
     "metadata": {},
     "output_type": "display_data"
    }
   ],
   "source": [
    "data = []\n",
    "for i, group in df.groupby([\"r_loc_pos\", \"m_sequence\"]):\n",
    "    std = group[\"r_data\"].std()\n",
    "    if std == 0:\n",
    "        continue\n",
    "    for _, row in group.iterrows():\n",
    "        if row[\"r_data\"] == 0:\n",
    "            continue\n",
    "        data.append([row[\"r_data\"], std])\n",
    "df_data = pd.DataFrame(data, columns=[\"r_data\", \"std\"])\n",
    "df_data[\"ln_r_data\"] = np.log(df_data[\"r_data\"])\n",
    "\n",
    "fig, ax = plt.subplots(figsize=(1.5, 1.25), dpi=200)\n",
    "plot_scatter_w_best_fit_line(np.log(df_data[\"r_data\"]), np.log(df_data[\"std\"]), ax=ax)\n",
    "ax.set_xlabel(\"ln(Mutation Fraction)\", labelpad=2)\n",
    "ax.set_ylabel(\"ln(Std. Mut. Frac.)\", labelpad=2)\n",
    "ax.set_xticks([-8, -6, -4, -2, 0])\n",
    "ax.set_yticks([-8, -6, -4, -2, 0])\n",
    "format_small_plot(ax)\n",
    "publication_style_ax(ax)"
   ]
  },
  {
   "cell_type": "markdown",
   "metadata": {},
   "source": []
  },
  {
   "cell_type": "markdown",
   "metadata": {},
   "source": [
    "## DMS reactivity values are continuous, and a significant overlap exists between Watson-Crick and non-canonical interactions."
   ]
  },
  {
   "cell_type": "markdown",
   "metadata": {},
   "source": [
    "### Outline"
   ]
  },
  {
   "cell_type": "markdown",
   "metadata": {},
   "source": [
    "### Analysis"
   ]
  },
  {
   "cell_type": "markdown",
   "metadata": {},
   "source": [
    "#### 2a - logistic regression to determine if DMS reactivity cutoff for WC vs non-WC\n"
   ]
  },
  {
   "cell_type": "code",
   "execution_count": 76,
   "metadata": {},
   "outputs": [
    {
     "data": {
      "text/html": [
       "<div>\n",
       "<style scoped>\n",
       "    .dataframe tbody tr th:only-of-type {\n",
       "        vertical-align: middle;\n",
       "    }\n",
       "\n",
       "    .dataframe tbody tr th {\n",
       "        vertical-align: top;\n",
       "    }\n",
       "\n",
       "    .dataframe thead th {\n",
       "        text-align: right;\n",
       "    }\n",
       "</style>\n",
       "<table border=\"1\" class=\"dataframe\">\n",
       "  <thead>\n",
       "    <tr style=\"text-align: right;\">\n",
       "      <th></th>\n",
       "      <th>ln_r_data</th>\n",
       "      <th>r_type</th>\n",
       "      <th>prob_WC</th>\n",
       "    </tr>\n",
       "  </thead>\n",
       "  <tbody>\n",
       "    <tr>\n",
       "      <th>161014</th>\n",
       "      <td>-9.800000</td>\n",
       "      <td>WC</td>\n",
       "      <td>0.999997</td>\n",
       "    </tr>\n",
       "    <tr>\n",
       "      <th>18117</th>\n",
       "      <td>-9.800000</td>\n",
       "      <td>WC</td>\n",
       "      <td>0.999997</td>\n",
       "    </tr>\n",
       "    <tr>\n",
       "      <th>34407</th>\n",
       "      <td>-9.800000</td>\n",
       "      <td>WC</td>\n",
       "      <td>0.999997</td>\n",
       "    </tr>\n",
       "    <tr>\n",
       "      <th>164206</th>\n",
       "      <td>-9.800000</td>\n",
       "      <td>WC</td>\n",
       "      <td>0.999997</td>\n",
       "    </tr>\n",
       "    <tr>\n",
       "      <th>88932</th>\n",
       "      <td>-9.800000</td>\n",
       "      <td>WC</td>\n",
       "      <td>0.999997</td>\n",
       "    </tr>\n",
       "    <tr>\n",
       "      <th>...</th>\n",
       "      <td>...</td>\n",
       "      <td>...</td>\n",
       "      <td>...</td>\n",
       "    </tr>\n",
       "    <tr>\n",
       "      <th>234172</th>\n",
       "      <td>-1.076254</td>\n",
       "      <td>NON-WC</td>\n",
       "      <td>0.000003</td>\n",
       "    </tr>\n",
       "    <tr>\n",
       "      <th>234215</th>\n",
       "      <td>-1.013022</td>\n",
       "      <td>NON-WC</td>\n",
       "      <td>0.000002</td>\n",
       "    </tr>\n",
       "    <tr>\n",
       "      <th>234191</th>\n",
       "      <td>-0.994414</td>\n",
       "      <td>NON-WC</td>\n",
       "      <td>0.000002</td>\n",
       "    </tr>\n",
       "    <tr>\n",
       "      <th>55879</th>\n",
       "      <td>-0.972755</td>\n",
       "      <td>NON-WC</td>\n",
       "      <td>0.000002</td>\n",
       "    </tr>\n",
       "    <tr>\n",
       "      <th>55885</th>\n",
       "      <td>-0.853363</td>\n",
       "      <td>NON-WC</td>\n",
       "      <td>0.000001</td>\n",
       "    </tr>\n",
       "  </tbody>\n",
       "</table>\n",
       "<p>235104 rows × 3 columns</p>\n",
       "</div>"
      ],
      "text/plain": [
       "        ln_r_data  r_type   prob_WC\n",
       "161014  -9.800000      WC  0.999997\n",
       "18117   -9.800000      WC  0.999997\n",
       "34407   -9.800000      WC  0.999997\n",
       "164206  -9.800000      WC  0.999997\n",
       "88932   -9.800000      WC  0.999997\n",
       "...           ...     ...       ...\n",
       "234172  -1.076254  NON-WC  0.000003\n",
       "234215  -1.013022  NON-WC  0.000002\n",
       "234191  -0.994414  NON-WC  0.000002\n",
       "55879   -0.972755  NON-WC  0.000002\n",
       "55885   -0.853363  NON-WC  0.000001\n",
       "\n",
       "[235104 rows x 3 columns]"
      ]
     },
     "execution_count": 76,
     "metadata": {},
     "output_type": "execute_result"
    }
   ],
   "source": [
    "# Convert 'r_type' to binary (1 for 'WC', 0 for 'NON-WC')\n",
    "df[\"r_type_binary\"] = df[\"r_type\"].apply(lambda x: 1 if x == \"WC\" else 0)\n",
    "# Fit the logistic regression model\n",
    "model = LogisticRegression()\n",
    "model.fit(df[[\"ln_r_data\"]], df[\"r_type_binary\"])\n",
    "# Compute probabilities for the original data\n",
    "df[\"prob_WC\"] = model.predict_proba(df[[\"ln_r_data\"]])[:, 1]\n",
    "# Display the probabilities\n",
    "df.sort_values(\"prob_WC\", ascending=False)[[\"ln_r_data\", \"r_type\", \"prob_WC\"]]"
   ]
  },
  {
   "cell_type": "markdown",
   "metadata": {},
   "source": [
    "#### 2b - 50% probability cutoff for WC vs non-WC"
   ]
  },
  {
   "cell_type": "code",
   "execution_count": 77,
   "metadata": {},
   "outputs": [
    {
     "name": "stdout",
     "output_type": "stream",
     "text": [
      "The row with the value in 'prob_WC' closest to 0.5 is:\n",
      "-5.47505454504809\n"
     ]
    }
   ],
   "source": [
    "# Calculate the absolute difference between each value in the column 'prob_WC' and 0.5\n",
    "df[\"abs_diff\"] = (df[\"prob_WC\"] - 0.50).abs()\n",
    "\n",
    "# Find the index of the minimum difference\n",
    "min_index = df[\"abs_diff\"].idxmin()\n",
    "\n",
    "# Retrieve the entire row that is closest to 0.5 in the 'prob_WC' column\n",
    "closest_row = df.loc[min_index]\n",
    "\n",
    "print(\"The row with the value in 'prob_WC' closest to 0.5 is:\")\n",
    "print(closest_row[\"ln_r_data\"])"
   ]
  },
  {
   "cell_type": "markdown",
   "metadata": {},
   "source": [
    "#### 2c - how many residues are within 0.5 probability cutoff"
   ]
  },
  {
   "cell_type": "code",
   "execution_count": 78,
   "metadata": {},
   "outputs": [
    {
     "name": "stdout",
     "output_type": "stream",
     "text": [
      "% of non-WC below 0.5 probability cutoff: 0.08929956920439515\n",
      "% of WC above 0.5 probability cutoff: 0.09870405821214157\n"
     ]
    }
   ],
   "source": [
    "percent_non_wc = len(df.query(\"ln_r_data < -5.45 and r_type == 'NON-WC'\")) / len(\n",
    "    df.query(\"r_type == 'NON-WC'\")\n",
    ")\n",
    "print(f\"% of non-WC below 0.5 probability cutoff: {percent_non_wc}\")\n",
    "percent_wc = len(df.query(\"ln_r_data > -5.45 and r_type == 'WC'\")) / len(\n",
    "    df.query(\"r_type == 'WC'\")\n",
    ")\n",
    "print(f\"% of WC above 0.5 probability cutoff: {percent_wc}\")"
   ]
  },
  {
   "cell_type": "markdown",
   "metadata": {},
   "source": [
    "### Figure 2"
   ]
  },
  {
   "cell_type": "markdown",
   "metadata": {},
   "source": []
  },
  {
   "cell_type": "markdown",
   "metadata": {},
   "source": [
    "### Supplemental Figures"
   ]
  },
  {
   "cell_type": "markdown",
   "metadata": {},
   "source": []
  }
 ],
 "metadata": {
  "kernelspec": {
   "display_name": "py3",
   "language": "python",
   "name": "python3"
  },
  "language_info": {
   "codemirror_mode": {
    "name": "ipython",
    "version": 3
   },
   "file_extension": ".py",
   "mimetype": "text/x-python",
   "name": "python",
   "nbconvert_exporter": "python",
   "pygments_lexer": "ipython3",
   "version": "3.8.19"
  }
 },
 "nbformat": 4,
 "nbformat_minor": 2
}
