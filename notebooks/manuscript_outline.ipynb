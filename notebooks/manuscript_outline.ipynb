{
 "cells": [
  {
   "cell_type": "markdown",
   "metadata": {},
   "source": [
    "# outline of 'Revealing non-canonical RNA interactions in DMS chemical mapping'"
   ]
  },
  {
   "cell_type": "markdown",
   "metadata": {},
   "source": [
    "## Extra resources\n",
    "current draft: https://uofnelincoln-my.sharepoint.com/:w:/r/personal/jyesselman2_unl_edu/_layouts/15/Doc.aspx?sourcedoc=%7B2AAE1849-B2EB-44FC-8A5F-1ED79D0654BC%7D&file=draft_9.docx&action=default&mobileredirect=true"
   ]
  },
  {
   "cell_type": "markdown",
   "metadata": {},
   "source": [
    "## Notebook setup\n",
    "NOTE: all data is assumed to be in '../data' and this notebook will not work if the data is in another location!"
   ]
  },
  {
   "cell_type": "code",
   "execution_count": 1,
   "metadata": {},
   "outputs": [],
   "source": [
    "import pandas as pd \n",
    "import numpy as np\n",
    "import matplotlib.pyplot as plt\n",
    "import seaborn as sns\n",
    "from scipy.stats import ks_2samp, pearsonr, linregress\n",
    "from sklearn.linear_model import LogisticRegression\n",
    "import statsmodels.api as sm\n",
    "\n",
    "from dms_3d_features.plotting import plot_pop_avg_from_row, publication_style_ax, plot_motif_boxplot_stripplot\n",
    "from dms_3d_features.pdb_features import compute_solvent_accessibility_all"
   ]
  },
  {
   "cell_type": "markdown",
   "metadata": {},
   "source": [
    "## Introduction"
   ]
  },
  {
   "cell_type": "markdown",
   "metadata": {},
   "source": [
    "### Why is chemical mapping important?\n",
    "\n",
    "Structured RNA is pivotal in fundamental biological processes such as protein translation, mRNA maturation, and telomere repair (1-3). To perform these processes, RNA must fold into complex base-paired secondary and tertiary structures. In recent years, there has been rapid growth in probing these structures using chemical mapping experiments (XXX cite rouskin, mustoe, lucks, qi zhang and our other papers XXX). These experiments utilize small molecule regents that can chemically modify the structure of nucleotides based on its local environment. Recently, these methods have been coupled to next-generation sequencing techniques that have exploded the amount that can be collected in single runs, that can span entire transcriptomes or probe hundreds of rationally designed RNAs. Given the ease of these methods they are often included in most study of RNA structure and function and are increasingly becoming part of the standard toolkit of studying RNA.  "
   ]
  },
  {
   "cell_type": "markdown",
   "metadata": {},
   "source": [
    "### Why DMS and why continue to improve methods using it?"
   ]
  },
  {
   "cell_type": "markdown",
   "metadata": {},
   "source": []
  },
  {
   "cell_type": "markdown",
   "metadata": {},
   "source": [
    "## Results"
   ]
  },
  {
   "cell_type": "markdown",
   "metadata": {},
   "source": [
    "### Designing a massive RNA library to investigate the relationship between DMS reactivity and non-canonical interactions.  "
   ]
  },
  {
   "cell_type": "markdown",
   "metadata": {},
   "source": []
  }
 ],
 "metadata": {
  "kernelspec": {
   "display_name": "py3",
   "language": "python",
   "name": "python3"
  },
  "language_info": {
   "codemirror_mode": {
    "name": "ipython",
    "version": 3
   },
   "file_extension": ".py",
   "mimetype": "text/x-python",
   "name": "python",
   "nbconvert_exporter": "python",
   "pygments_lexer": "ipython3",
   "version": "3.8.19"
  }
 },
 "nbformat": 4,
 "nbformat_minor": 2
}
