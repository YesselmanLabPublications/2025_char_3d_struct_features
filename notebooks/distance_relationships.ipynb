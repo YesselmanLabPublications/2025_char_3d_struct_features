{
 "cells": [
  {
   "cell_type": "markdown",
   "metadata": {},
   "source": [
    "# Relationships between distance and mutational fraction and mutation fraction ratios"
   ]
  },
  {
   "cell_type": "markdown",
   "metadata": {},
   "source": [
    "# Setup"
   ]
  },
  {
   "cell_type": "code",
   "execution_count": 163,
   "metadata": {},
   "outputs": [],
   "source": [
    "import pandas as pd\n",
    "import numpy as np\n",
    "import matplotlib.pyplot as plt\n",
    "import matplotlib.gridspec as gridspec\n",
    "import seaborn as sns\n",
    "from scipy.stats import ks_2samp, pearsonr, linregress\n",
    "from sklearn.linear_model import LogisticRegression\n",
    "from sklearn.linear_model import LinearRegression\n",
    "from sklearn.metrics import r2_score\n",
    "import statsmodels.api as sm\n",
    "from tabulate import tabulate\n",
    "import py3Dmol\n",
    "\n",
    "from dms_3d_features.plotting import (\n",
    "    plot_pop_avg_from_row,\n",
    "    plot_motif_boxplot_stripplot,\n",
    "    plot_violins_w_percent,\n",
    "    plot_violins_w_percent_groups,\n",
    "    format_small_plot,\n",
    "    plot_scatter_w_best_fit_line,\n",
    ")\n",
    "from dms_3d_features.format_tables import (\n",
    "    dataframe_column_table,\n",
    "    generate_threshold_summary,\n",
    ")"
   ]
  },
  {
   "cell_type": "code",
   "execution_count": 124,
   "metadata": {},
   "outputs": [],
   "source": [
    "# Function to create scatter plot with linear regression for distance vs reactivity analysis\n",
    "def create_scatter_plot_w_regression(df, ax, x_col, y_col, color_by_pdb_res=False):\n",
    "    # Prepare the data\n",
    "    X = df[x_col].values.reshape(-1, 1)\n",
    "    y = df[y_col].values\n",
    "\n",
    "    # Fit linear regression model\n",
    "    model = LinearRegression()\n",
    "    model.fit(X, y)\n",
    "\n",
    "    # Compute R-squared\n",
    "    r2 = r2_score(y, model.predict(X))\n",
    "\n",
    "    if color_by_pdb_res:\n",
    "        scatter = ax.scatter(X.flatten(), y, s=6, c=df[\"pdb_res\"], cmap=\"viridis\")\n",
    "        plt.colorbar(scatter, ax=ax, label=\"PDB Residue\")\n",
    "    else:\n",
    "        ax.scatter(X.flatten(), y, s=6)\n",
    "\n",
    "    # Add regression line\n",
    "    ax.plot(X, model.predict(X), color=\"black\", linewidth=1)\n",
    "\n",
    "    return r2"
   ]
  },
  {
   "cell_type": "markdown",
   "metadata": {},
   "source": [
    "\n",
    "## Load data\n"
   ]
  },
  {
   "cell_type": "code",
   "execution_count": 125,
   "metadata": {},
   "outputs": [],
   "source": [
    "DATA_PATH = \"../data\""
   ]
  },
  {
   "cell_type": "code",
   "execution_count": 126,
   "metadata": {},
   "outputs": [],
   "source": [
    "df_corr = pd.read_csv(\n",
    "    f\"{DATA_PATH}/pdb-features/non_canonical_atom_distances_reactivity_correlation.csv\"\n",
    ")\n",
    "df_corr_data = pd.read_csv(f\"{DATA_PATH}/pdb-features/non_canonical_atom_distances.csv\")\n",
    "df_ratio_corr = pd.read_csv(\n",
    "    f\"{DATA_PATH}/pdb-features/non_canonical_atom_distances_reactivity_ratio_correlation.csv\"\n",
    ")\n",
    "df_ratio_corr_data = pd.read_csv(\n",
    "    f\"{DATA_PATH}/pdb-features/non_canonical_atom_distances_with_ratio.csv\"\n",
    ")"
   ]
  },
  {
   "cell_type": "markdown",
   "metadata": {},
   "source": [
    "# Reactivity correlations"
   ]
  },
  {
   "cell_type": "markdown",
   "metadata": {},
   "source": [
    "## A-A correlations"
   ]
  },
  {
   "cell_type": "code",
   "execution_count": 127,
   "metadata": {},
   "outputs": [
    {
     "name": "stdout",
     "output_type": "stream",
     "text": [
      "Top 20 atom pairs for A-A:\n",
      "|     | Atom 1   | Atom 2   |     R2 |   Count |\n",
      "|----:|:---------|:---------|-------:|--------:|\n",
      "| 235 | N1       | O2'      | 0.1942 |      66 |\n",
      "| 187 | C6       | N3       | 0.1895 |      69 |\n",
      "| 191 | C6       | O2'      | 0.1890 |      66 |\n",
      "| 350 | O2'      | OP2      | 0.1795 |      66 |\n",
      "| 143 | C5       | N3       | 0.1773 |      69 |\n",
      "| 147 | C5       | O2'      | 0.1708 |      66 |\n",
      "| 103 | C4       | O2'      | 0.1688 |      66 |\n",
      "| 342 | O2'      | N6       | 0.1673 |      66 |\n",
      "| 100 | C4       | N6       | 0.1657 |      69 |\n",
      "|  99 | C4       | N3       | 0.1609 |      69 |\n",
      "| 343 | O2'      | N7       | 0.1602 |      66 |\n",
      "| 178 | C6       | C2'      | 0.1601 |      69 |\n",
      "| 279 | N6       | O2'      | 0.1589 |      66 |\n",
      "|  42 | C2       | OP2      | 0.1532 |      69 |\n",
      "| 133 | C5       | C2       | 0.1527 |      69 |\n",
      "| 222 | N1       | C2'      | 0.1517 |      69 |\n",
      "| 275 | N6       | N3       | 0.1499 |      69 |\n",
      "| 254 | N3       | N6       | 0.1482 |      69 |\n",
      "| 351 | O2'      | P        | 0.1478 |      66 |\n",
      "| 262 | N3       | OP2      | 0.1435 |      69 |\n"
     ]
    }
   ],
   "source": [
    "# Filter for A-A pair and sort by r2 in descending order\n",
    "df_aa = df_corr[df_corr[\"pair\"] == \"A-A\"].sort_values(by=\"r2\", ascending=False)\n",
    "# Select top 20 rows\n",
    "top_20_aa = df_aa.head(20)\n",
    "# Create a table using tabulate\n",
    "table = tabulate(\n",
    "    top_20_aa[[\"atom1\", \"atom2\", \"r2\", \"count\"]],\n",
    "    headers=[\"Atom 1\", \"Atom 2\", \"R2\", \"Count\"],\n",
    "    tablefmt=\"pipe\",\n",
    "    floatfmt=\".4f\",\n",
    ")\n",
    "print(\"Top 20 atom pairs for A-A:\")\n",
    "print(table)"
   ]
  },
  {
   "cell_type": "code",
   "execution_count": 128,
   "metadata": {},
   "outputs": [],
   "source": [
    "df_corr_data_aa = df_corr_data.query(\n",
    "    'pair == \"A-A\" and atom1 == \"N1\" and atom2 == \"O2\\'\"'\n",
    ").copy()\n",
    "df_corr_data_aa.sort_values(by=\"distance\", ascending=False, inplace=True)"
   ]
  },
  {
   "cell_type": "code",
   "execution_count": 129,
   "metadata": {},
   "outputs": [
    {
     "name": "stdout",
     "output_type": "stream",
     "text": [
      "Top 20 entries for A-A pair with N1 and O2' atoms:\n",
      "| PDB                                                                  |   Distance |   ln_r_data |   Res. Pos. | BP Type   |\n",
      "|:---------------------------------------------------------------------|-----------:|------------:|------------:|:----------|\n",
      "| data/pdbs_w_2bp/AAG_CAU/NWAY.3HOY.1-0-0-0.AAG-DA-DC-DT.0.pdb         |    11.9200 |     -4.4885 |          11 | cHW       |\n",
      "| data/pdbs_w_2bp/CAG_CAG/TWOWAY.4J50.1-1.CAG-CAG.1.pdb                |    11.7100 |     -4.3643 |          11 | cHW       |\n",
      "| data/pdbs_w_2bp/CAG_CAG/TWOWAY.4J50.1-1.CAG-CAG.2.pdb                |    11.7100 |     -4.5316 |           4 | cWH       |\n",
      "| data/pdbs_w_2bp/CGACGAAG_CAGAG/TWOWAY.4KQY.3-6.CAGAG-CGACGAAG.0.pdb  |    11.4900 |     -5.2598 |          16 | tSH       |\n",
      "| data/pdbs_w_2bp/UUAGUAC_GGAAUA/NWAY.1UN6.2-5-0.AAUA-UUAGUAC-GG.0.pdb |    10.6800 |     -5.4057 |           5 | tHH       |\n",
      "| data/pdbs_w_2bp/AAACG_CUAU/TWOWAY.1NJP.2-3.CUAU-AAACG.0.pdb          |    10.6400 |     -4.6566 |           4 | tSH       |\n",
      "| data/pdbs_w_2bp/GGAGAAG_CGUAAC/TWOWAY.5XYM.4-5.CGUAAC-GGAGAAG.0.pdb  |    10.6000 |     -4.8175 |           5 | tHH       |\n",
      "| data/pdbs_w_2bp/GAAAU_ACAC/TWOWAY.4YAZ.2-3.ACAC-GAAAU.1.pdb          |    10.5800 |     -3.2649 |          14 | cWH       |\n",
      "| data/pdbs_w_2bp/GAAGAAG_CGUAAC/TWOWAY.1NJP.4-5.CGUAAC-GAAGAAG.0.pdb  |    10.5700 |     -3.8694 |          17 | tHH       |\n",
      "| data/pdbs_w_2bp/GAUGAAA_UAACC/NWAY.5XTM.3-3-0.UGAAA-UAACC-GA.0.pdb   |    10.5400 |     -4.1241 |           7 | tHW       |\n",
      "| data/pdbs_w_2bp/GAAAU_ACAC/TWOWAY.4YAZ.2-3.ACAC-GAAAU.1.pdb          |    10.4800 |     -3.1083 |           6 | cHW       |\n",
      "| data/pdbs_w_2bp/UAUGUAG_UGAAA/TWOWAY.6YS3.5-3.UAUGUAG-UGAAA.0.pdb    |    10.4500 |     -5.6152 |           4 | tWW       |\n",
      "| data/pdbs_w_2bp/GACG_UAC/TWOWAY.4IOA.1-2.UAC-GACG.0.pdb              |    10.4000 |     -4.5060 |          12 | cWW       |\n",
      "| data/pdbs_w_2bp/CAA_UAG/TWOWAY.6N7R.1-1.UAG-CAA.0.pdb                |    10.2900 |     -4.2051 |          11 | cWW       |\n",
      "| data/pdbs_w_2bp/CAG_UAG/TWOWAY.5UNE.1-1.UAG-CAG.0.pdb                |    10.1700 |     -2.3965 |           4 | cWW       |\n",
      "| data/pdbs_w_2bp/UAAG_CAA/TWOWAY.6N7R.1-2.CAA-UAAG.0.pdb              |    10.1500 |     -4.2671 |           4 | tWW       |\n",
      "| data/pdbs_w_2bp/GGGAAAG_UAACAC/NWAY.2R8S.5-2-0.GGGAAAG-UAAC-AC.0.pdb |    10.0500 |     -4.6871 |          15 | tSH       |\n",
      "| data/pdbs_w_2bp/GAAGAAG_CGUAAC/TWOWAY.1NJP.4-5.CGUAAC-GAAGAAG.0.pdb  |    10.0400 |     -4.8202 |           4 | tSH       |\n",
      "| data/pdbs_w_2bp/GAC_GAC/TWOWAY.5H1K.1-1.GAC-GAC.0.pdb                |    10.0300 |     -4.2446 |           4 | cWW       |\n",
      "| data/pdbs_w_2bp/GAGAAC_GAC/TWOWAY.1NJP.4-1.GAGAAC-GAC.0.pdb          |    10.0200 |     -3.9353 |          14 | tSH       |\n",
      "| data/pdbs_w_2bp/GGAGAAG_CGUAAC/TWOWAY.6YS3.4-5.CGUAAC-GGAGAAG.0.pdb  |    10.0000 |     -4.8175 |           5 | tHH       |\n",
      "| data/pdbs_w_2bp/AAACG_CUAU/TWOWAY.4IOA.2-3.CUAU-AAACG.0.pdb          |     9.9700 |     -4.6566 |           4 | tSH       |\n",
      "| data/pdbs_w_2bp/CAG_CAG/TWOWAY.3NJ7.1-1.CAG-CAG.0.pdb                |     9.9600 |     -4.3643 |          11 | cWW       |\n",
      "| data/pdbs_w_2bp/GAAG_CAC/TWOWAY.6DME.1-2.CAC-GAAG.0.pdb              |     9.9000 |     -3.9505 |           4 | cWW       |\n",
      "| data/pdbs_w_2bp/GGGAAAG_UAACAC/NWAY.2R8S.5-2-0.GGGAAAG-UAAC-AC.0.pdb |     9.9000 |     -5.2578 |           6 | tSH       |\n",
      "| data/pdbs_w_2bp/GGAGAAG_CGUAAC/TWOWAY.6SPB.4-5.CGUAAC-GGAGAAG.0.pdb  |     9.7900 |     -4.8175 |           5 | tHH       |\n",
      "| data/pdbs_w_2bp/CAG_UAG/TWOWAY.5UNE.1-1.CAG-UAG.0.pdb                |     9.7900 |     -2.3965 |           4 | cWW       |\n",
      "| data/pdbs_w_2bp/UUAGUAC_GGAAUA/NWAY.1UN6.2-5-0.AAUA-UUAGUAC-GG.0.pdb |     9.7700 |     -4.1300 |          17 | tHH       |\n",
      "| data/pdbs_w_2bp/GUAAG_UAUC/TWOWAY.6SPB.3-2.GUAAG-UAUC.0.pdb          |     9.7600 |     -4.3271 |           5 | tWW       |\n",
      "| data/pdbs_w_2bp/AAAG_CGAU/TWOWAY.5O5J.2-2.AAAG-CGAU.0.pdb            |     9.7400 |     -4.9681 |           4 | tSH       |\n",
      "| data/pdbs_w_2bp/AAU_GAU/TWOWAY.6SWD.1-1.GAU-AAU.0.pdb                |     9.7200 |     -4.8575 |           4 | cWW       |\n",
      "| data/pdbs_w_2bp/UAA_UAG/TWOWAY.6NEQ.1-1.UAG-UAA.0.pdb                |     9.6900 |     -4.0742 |           4 | tSH       |\n",
      "| data/pdbs_w_2bp/UAUGUAG_UGAAA/TWOWAY.6YS3.5-3.UAUGUAG-UGAAA.0.pdb    |     9.6800 |     -4.8446 |          17 | tWW       |\n",
      "| data/pdbs_w_2bp/GGAGAAG_CGUAAC/TWOWAY.6SPB.4-5.CGUAAC-GGAGAAG.0.pdb  |     9.6500 |     -4.0598 |          17 | tHH       |\n",
      "| data/pdbs_w_2bp/GACG_UAC/TWOWAY.4IOA.1-2.UAC-GACG.0.pdb              |     9.6300 |     -4.3303 |           4 | cWW       |\n",
      "| data/pdbs_w_2bp/GGAGAAG_CGUAAC/TWOWAY.5XYM.4-5.CGUAAC-GGAGAAG.0.pdb  |     9.5900 |     -4.0598 |          17 | tHH       |\n",
      "| data/pdbs_w_2bp/UAAG_CAA/TWOWAY.6N7R.1-2.CAA-UAAG.0.pdb              |     9.5500 |     -3.7456 |          12 | tWW       |\n",
      "| data/pdbs_w_2bp/AAC_GAU/TWOWAY.7LMA.1-1.GAU-AAC.0.pdb                |     9.5400 |     -4.8297 |           4 | cWW       |\n",
      "| data/pdbs_w_2bp/GUAAG_UAUC/TWOWAY.6YS3.3-2.GUAAG-UAUC.0.pdb          |     9.4000 |     -4.3271 |           5 | tWW       |\n",
      "| data/pdbs_w_2bp/GAAGAAG_CGUAAC/TWOWAY.1NJP.4-5.CGUAAC-GAAGAAG.0.pdb  |     9.3600 |     -4.5198 |           5 | tHH       |\n",
      "| data/pdbs_w_2bp/GGAGAAG_CGUAAC/TWOWAY.6YS3.4-5.CGUAAC-GGAGAAG.0.pdb  |     9.3600 |     -4.0598 |          17 | tHH       |\n",
      "| data/pdbs_w_2bp/AGAAA_UAAU/TWOWAY.6QKL.2-3.UAAU-AGAAA.0.pdb          |     9.1800 |     -5.4030 |          13 | tSH       |\n",
      "| data/pdbs_w_2bp/GUAAG_UAUC/TWOWAY.6YS3.3-2.GUAAG-UAUC.0.pdb          |     9.0000 |     -3.5752 |          13 | tWW       |\n",
      "| data/pdbs_w_2bp/CAG_CAG/TWOWAY.4J50.1-1.CAG-CAG.0.pdb                |     8.8500 |     -4.3643 |          11 | cWW       |\n",
      "| data/pdbs_w_2bp/CAG_CAG/TWOWAY.4J50.1-1.CAG-CAG.0.pdb                |     8.8500 |     -4.5316 |           4 | cWW       |\n",
      "| data/pdbs_w_2bp/GUAAG_UAUC/TWOWAY.6SPB.3-2.GUAAG-UAUC.0.pdb          |     8.6100 |     -3.5752 |          13 | tWW       |\n",
      "| data/pdbs_w_2bp/CAG_CAG/TWOWAY.4J50.1-1.CAG-CAG.2.pdb                |     8.5300 |     -4.3643 |          11 | cHW       |\n",
      "| data/pdbs_w_2bp/CAG_CAG/TWOWAY.4J50.1-1.CAG-CAG.1.pdb                |     8.5300 |     -4.5316 |           4 | cWH       |\n",
      "| data/pdbs_w_2bp/CAG_UAG/TWOWAY.5UNE.1-1.CAG-UAG.0.pdb                |     8.4600 |     -3.7208 |          11 | cWW       |\n",
      "| data/pdbs_w_2bp/AAU_GAU/TWOWAY.6SWD.1-1.GAU-AAU.0.pdb                |     8.3400 |     -4.7842 |          11 | cWW       |\n",
      "| data/pdbs_w_2bp/AAC_GAU/TWOWAY.7LMA.1-1.GAU-AAC.0.pdb                |     8.1500 |     -4.4882 |          11 | cWW       |\n",
      "| data/pdbs_w_2bp/AGAAA_UAAU/TWOWAY.6QKL.2-3.UAAU-AGAAA.0.pdb          |     8.0500 |     -3.9378 |           5 | tHS       |\n",
      "| data/pdbs_w_2bp/GAAG_CAC/TWOWAY.6DME.1-2.CAC-GAAG.0.pdb              |     7.9500 |     -3.4113 |          12 | cWW       |\n",
      "| data/pdbs_w_2bp/CAG_CAG/TWOWAY.3NJ7.1-1.CAG-CAG.0.pdb                |     7.6700 |     -4.5316 |           4 | cWW       |\n",
      "| data/pdbs_w_2bp/GAC_GAC/TWOWAY.5H1K.1-1.GAC-GAC.0.pdb                |     7.4300 |     -4.1999 |          11 | cWW       |\n",
      "| data/pdbs_w_2bp/CAA_UAG/TWOWAY.6N7R.1-1.UAG-CAA.0.pdb                |     7.1700 |     -4.3759 |           4 | cWW       |\n",
      "| data/pdbs_w_2bp/CAG_UAG/TWOWAY.5UNE.1-1.UAG-CAG.0.pdb                |     6.7200 |     -3.7208 |          11 | cWW       |\n",
      "| data/pdbs_w_2bp/CGACGAAG_CAGAG/TWOWAY.4KQY.3-6.CAGAG-CGACGAAG.0.pdb  |     4.9000 |     -4.1827 |           9 | tHS       |\n",
      "| data/pdbs_w_2bp/GAAGAAG_CGUAAC/TWOWAY.1NJP.4-5.CGUAAC-GAAGAAG.0.pdb  |     4.7200 |     -4.0073 |          18 | tHS       |\n",
      "| data/pdbs_w_2bp/GGGAAAG_UAACAC/NWAY.2R8S.5-2-0.GGGAAAG-UAAC-AC.0.pdb |     4.6400 |     -4.1501 |           7 | tHS       |\n",
      "| data/pdbs_w_2bp/UAA_UAG/TWOWAY.6NEQ.1-1.UAG-UAA.0.pdb                |     4.4000 |     -2.8392 |          11 | tHS       |\n",
      "| data/pdbs_w_2bp/GAGAAC_GAC/TWOWAY.1NJP.4-1.GAGAAC-GAC.0.pdb          |     4.2800 |     -4.3345 |           7 | tHS       |\n",
      "| data/pdbs_w_2bp/AAACG_CUAU/TWOWAY.4IOA.2-3.CUAU-AAACG.0.pdb          |     4.2100 |     -2.8668 |          14 | tHS       |\n",
      "| data/pdbs_w_2bp/AAAG_CGAU/TWOWAY.5O5J.2-2.AAAG-CGAU.0.pdb            |     4.0300 |     -3.1526 |          13 | tHS       |\n",
      "| data/pdbs_w_2bp/GGGAAAG_UAACAC/NWAY.2R8S.5-2-0.GGGAAAG-UAAC-AC.0.pdb |     4.0300 |     -2.8106 |          16 | tHS       |\n",
      "| data/pdbs_w_2bp/AAACG_CUAU/TWOWAY.1NJP.2-3.CUAU-AAACG.0.pdb          |     3.9400 |     -2.8668 |          14 | tHS       |\n"
     ]
    }
   ],
   "source": [
    "# Create a table using tabulate for A-A pair with N1 and O2' atoms\n",
    "table_aa = tabulate(\n",
    "    df_corr_data_aa[\n",
    "        [\"pdb_name\", \"distance\", \"ln_r_data_mean\", \"pdb_r_pos\", \"pdb_r_bp_type\"]\n",
    "    ],\n",
    "    headers=[\"PDB\", \"Distance\", \"ln_r_data\", \"Res. Pos.\", \"BP Type\"],\n",
    "    tablefmt=\"pipe\",\n",
    "    floatfmt=\".4f\",\n",
    "    showindex=False,\n",
    ")\n",
    "print(\"Top 20 entries for A-A pair with N1 and O2' atoms:\")\n",
    "print(table_aa)"
   ]
  },
  {
   "cell_type": "markdown",
   "metadata": {},
   "source": [
    "## A-G correlations"
   ]
  },
  {
   "cell_type": "code",
   "execution_count": 130,
   "metadata": {},
   "outputs": [
    {
     "name": "stdout",
     "output_type": "stream",
     "text": [
      "Top 20 atom pairs for A-G:\n",
      "|     | Atom 1   | Atom 2   |     R2 |   Count |\n",
      "|----:|:---------|:---------|-------:|--------:|\n",
      "| 966 | OP2      | P        | 0.5186 |     122 |\n",
      "| 952 | OP2      | C6       | 0.5100 |     122 |\n",
      "| 975 | P        | C6       | 0.5076 |     122 |\n",
      "| 989 | P        | P        | 0.5069 |     122 |\n",
      "| 950 | OP2      | C5       | 0.5063 |     122 |\n",
      "| 929 | OP1      | C6       | 0.5058 |     122 |\n",
      "| 965 | OP2      | OP2      | 0.5056 |     122 |\n",
      "| 943 | OP1      | P        | 0.5042 |     122 |\n",
      "| 954 | OP2      | N1       | 0.5026 |     122 |\n",
      "| 962 | OP2      | O5'      | 0.5019 |     122 |\n",
      "| 942 | OP1      | OP2      | 0.5005 |     122 |\n",
      "| 973 | P        | C5       | 0.4992 |     122 |\n",
      "| 948 | OP2      | C4       | 0.4978 |     122 |\n",
      "| 988 | P        | OP2      | 0.4975 |     122 |\n",
      "| 964 | OP2      | OP1      | 0.4972 |     122 |\n",
      "| 927 | OP1      | C5       | 0.4971 |     122 |\n",
      "| 931 | OP1      | N1       | 0.4934 |     122 |\n",
      "| 977 | P        | N1       | 0.4925 |     122 |\n",
      "| 958 | OP2      | N9       | 0.4917 |     122 |\n",
      "| 939 | OP1      | O5'      | 0.4895 |     122 |\n"
     ]
    }
   ],
   "source": [
    "# Filter for A-G pair and sort by r2 in descending order\n",
    "df_aa = df_corr[df_corr[\"pair\"] == \"A-G\"].sort_values(by=\"r2\", ascending=False)\n",
    "# Select top 20 rows\n",
    "top_20_aa = df_aa.head(20)\n",
    "# Create a table using tabulate\n",
    "table = tabulate(\n",
    "    top_20_aa[[\"atom1\", \"atom2\", \"r2\", \"count\"]],\n",
    "    headers=[\"Atom 1\", \"Atom 2\", \"R2\", \"Count\"],\n",
    "    tablefmt=\"pipe\",\n",
    "    floatfmt=\".4f\",\n",
    ")\n",
    "print(\"Top 20 atom pairs for A-G:\")\n",
    "print(table)"
   ]
  },
  {
   "cell_type": "code",
   "execution_count": 131,
   "metadata": {},
   "outputs": [],
   "source": [
    "df_corr_data_ag = df_corr_data.query(\n",
    "    'pair == \"A-G\" and atom1 == \"P\" and atom2 == \"P\"'\n",
    ").copy()\n",
    "df_corr_data_ag.sort_values(by=\"distance\", ascending=False, inplace=True)"
   ]
  },
  {
   "cell_type": "code",
   "execution_count": 132,
   "metadata": {},
   "outputs": [
    {
     "data": {
      "text/plain": [
       "Index(['pdb_name', 'pdb_r_pos', 'pair_pdb_r_pos', 'pdb_r_bp_type', 'distance',\n",
       "       'average_b_factor', 'normalized_b_factor', 'pdb_res', 'ln_r_data_mean',\n",
       "       'ln_r_data_std', 'pair', 'atom1', 'atom2', 'r2'],\n",
       "      dtype='object')"
      ]
     },
     "execution_count": 132,
     "metadata": {},
     "output_type": "execute_result"
    }
   ],
   "source": [
    "df_corr_data_ag.columns"
   ]
  },
  {
   "cell_type": "code",
   "execution_count": 133,
   "metadata": {},
   "outputs": [
    {
     "name": "stdout",
     "output_type": "stream",
     "text": [
      "Top 20 entries for A-G pair with P and P atoms:\n",
      "| PDB                                                                       |   Distance |   ln_r_data |\n",
      "|:--------------------------------------------------------------------------|-----------:|------------:|\n",
      "| data/pdbs_w_2bp/GCAC_GGAU/TWOWAY.6ZVI.2-2.GGAU-GCAC.0.pdb                 |    21.3700 |     -4.7717 |\n",
      "| data/pdbs_w_2bp/GAGG_CAC/TWOWAY.1XJR.1-2.CAC-GAGG.0.pdb                   |    21.3500 |     -4.9871 |\n",
      "| data/pdbs_w_2bp/AAU_AGU/TWOWAY.5XYI.1-1.AGU-AAU.0.pdb                     |    21.0500 |     -5.9101 |\n",
      "| data/pdbs_w_2bp/GAUGG_CAC/TWOWAY.3MXH.1-3.CAC-GAUGG.0.pdb                 |    21.0400 |     -4.4944 |\n",
      "| data/pdbs_w_2bp/GGGA_UAAC/TWOWAY.5O5J.2-2.UAAC-GGGA.0.pdb                 |    20.8700 |     -5.5212 |\n",
      "| data/pdbs_w_2bp/GGAC_GGAC/TWOWAY.5LQO.2-2.GGAC-GGAC.0.pdb                 |    20.8100 |     -4.6242 |\n",
      "| data/pdbs_w_2bp/GGAC_GGAC/TWOWAY.5LQO.2-2.GGAC-GGAC.0.pdb                 |    20.5200 |     -4.7987 |\n",
      "| data/pdbs_w_2bp/GGGA_UAAC/TWOWAY.5O5J.2-2.UAAC-GGGA.0.pdb                 |    20.2900 |     -5.5333 |\n",
      "| data/pdbs_w_2bp/CAA_UGG/TWOWAY.7LYF.1-1.UGG-CAA.0.pdb                     |    20.2400 |     -5.2511 |\n",
      "| data/pdbs_w_2bp/GAAU_AGC/TWOWAY.6SPC.2-1.GAAU-AGC.0.pdb                   |    19.7700 |     -4.1819 |\n",
      "| data/pdbs_w_2bp/GAGAG_UGGU/TWOWAY.1KUQ.3-2.GAGAG-UGGU.0.pdb               |    19.7500 |     -4.0836 |\n",
      "| data/pdbs_w_2bp/AAU_AGU/TWOWAY.2H1M.1-1.AAU-AGU.0.pdb                     |    19.3400 |     -5.9101 |\n",
      "| data/pdbs_w_2bp/CAC_GGG/TWOWAY.3DIL.1-1.GGG-CAC.0.pdb                     |    19.3300 |     -5.6582 |\n",
      "| data/pdbs_w_2bp/CAG_UGG/TWOWAY.3CUL.1-1.UGG-CAG.0.pdb                     |    19.3200 |     -3.7272 |\n",
      "| data/pdbs_w_2bp/AAU_AGU/TWOWAY.2H1M.1-1.AGU-AAU.0.pdb                     |    19.2300 |     -5.9101 |\n",
      "| data/pdbs_w_2bp/GAC_GGC/TWOWAY.4M4O.1-1.GGC-GAC.0.pdb                     |    19.1900 |     -5.5776 |\n",
      "| data/pdbs_w_2bp/CAC_GGG/TWOWAY.3D0U.1-1.GGG-CAC.0.pdb                     |    19.1300 |     -5.6582 |\n",
      "| data/pdbs_w_2bp/GGAG_CAC/TWOWAY.5MSF.1-2.CAC-GGAG.0.pdb                   |    19.0900 |     -4.4015 |\n",
      "| data/pdbs_w_2bp/CGUUGAAA_UGGAG/TWOWAY.4IOA.3-6.UGGAG-CGUUGAAA.0.pdb       |    19.0500 |     -5.7353 |\n",
      "| data/pdbs_w_2bp/GGGAAAG_UAACAC/NWAY.2R8S.5-2-0.GGGAAAG-UAAC-AC.0.pdb      |    18.9900 |     -4.9444 |\n",
      "| data/pdbs_w_2bp/GGAC_GGAC/NWAY.3CJZ.1--1-0--1-0-1.M2G-G-AC-G-AC-M2G.0.pdb |    18.9300 |     -4.6242 |\n",
      "| data/pdbs_w_2bp/GCAGC_GAC/TWOWAY.4R4V.1-3.GAC-GCAGC.0.pdb                 |    18.7700 |     -3.8203 |\n",
      "| data/pdbs_w_2bp/CGCAAG_CGCAAG/TWOWAY.6O5F.4-4.CGCAAG-CGCAAG.0.pdb         |    18.7500 |     -3.0482 |\n",
      "| data/pdbs_w_2bp/UAUUGG_CAGG/TWOWAY.3CUL.2-4.CAGG-UAUUGG.1.pdb             |    18.6800 |     -4.4770 |\n",
      "| data/pdbs_w_2bp/AAU_AGU/TWOWAY.7LMA.1-1.AAU-AGU.0.pdb                     |    18.6200 |     -5.9101 |\n",
      "| data/pdbs_w_2bp/GGGU_GAC/TWOWAY.6N7R.1-2.GAC-GGGU.0.pdb                   |    18.5800 |     -4.6690 |\n",
      "| data/pdbs_w_2bp/UAUUGG_CAGG/TWOWAY.3CUL.2-4.CAGG-UAUUGG.0.pdb             |    18.5800 |     -4.4770 |\n",
      "| data/pdbs_w_2bp/CGAC_GAG/TWOWAY.7LYF.2-1.CGAC-GAG.0.pdb                   |    18.5100 |     -2.2184 |\n",
      "| data/pdbs_w_2bp/AAGGAA_UGU/NWAY.6E8U.0-1-2.AA-UGU-AAGG.0.pdb              |    18.5100 |     -4.0338 |\n",
      "| data/pdbs_w_2bp/AAGCAG_UCAGGU/TWOWAY.1LNT.4-4.UCAGGU-AAGCAG.0.pdb         |    18.5000 |     -5.9311 |\n",
      "| data/pdbs_w_2bp/GGAC_GGAC/NWAY.3CJZ.1--1-0--1-0-1.M2G-G-AC-G-AC-M2G.0.pdb |    18.4800 |     -4.7987 |\n",
      "| data/pdbs_w_2bp/CGCAAG_CGCAAG/TWOWAY.6O5F.4-4.CGCAAG-CGCAAG.0.pdb         |    18.2200 |     -2.9623 |\n",
      "| data/pdbs_w_2bp/CGU_GAG/TWOWAY.4AOB.1-1.GAG-CGU.0.pdb                     |    18.1900 |     -4.5892 |\n",
      "| data/pdbs_w_2bp/GGGAGC_GGGAGC/TWOWAY.1D4R.4-4.GGGAGC-GGGAGC.0.pdb         |    17.3500 |     -2.0558 |\n",
      "| data/pdbs_w_2bp/AGGACC_GAGAAU/TWOWAY.5XYM.4-4.AGGACC-GAGAAU.0.pdb         |    17.3400 |     -3.8911 |\n",
      "| data/pdbs_w_2bp/GGGAGC_GGGAGC/TWOWAY.1D4R.4-4.GGGAGC-GGGAGC.0.pdb         |    17.2400 |     -2.1762 |\n",
      "| data/pdbs_w_2bp/CGACCA_UCUUAG/TWOWAY.2OIU.4-4.CGACCA-UCUUAG.0.pdb         |    17.2200 |     -3.9454 |\n",
      "| data/pdbs_w_2bp/GACAAGA_UAC/TWOWAY.5NWQ.1-5.UAC-GACAAGA.0.pdb             |    16.9700 |     -4.5910 |\n",
      "| data/pdbs_w_2bp/GGGAAC_GGGAAC/TWOWAY.3FTF.4-4.GGGAAC-GGGAAC.0.pdb         |    16.8500 |     -3.6668 |\n",
      "| data/pdbs_w_2bp/GGGAAC_GGGAAC/TWOWAY.3FTE.4-4.GGGAAC-GGGAAC.0.pdb         |    16.5500 |     -3.8106 |\n",
      "| data/pdbs_w_2bp/UGGC_GAG/TWOWAY.5O5J.2-1.UGGC-GAG.0.pdb                   |    16.5300 |     -1.5428 |\n",
      "| data/pdbs_w_2bp/CGAAC_GGUAG/TWOWAY.6SWD.3-3.CGAAC-GGUAG.0.pdb             |    16.3000 |     -2.9077 |\n",
      "| data/pdbs_w_2bp/UGGG_CAA/TWOWAY.5XYM.1-2.CAA-UGGG.0.pdb                   |    16.2200 |     -3.7973 |\n",
      "| data/pdbs_w_2bp/GGAGAAG_CGUAAC/TWOWAY.5XYM.4-5.CGUAAC-GGAGAAG.0.pdb       |    16.1500 |     -3.4453 |\n",
      "| data/pdbs_w_2bp/CGAUGAAA_UGGAG/TWOWAY.3V7E.3-6.UGGAG-CGAUGAAA.1.pdb       |    16.1400 |     -4.1051 |\n",
      "| data/pdbs_w_2bp/CGAAG_UGGAG/TWOWAY.4UYK.3-3.UGGAG-CGAAG.0.pdb             |    16.1300 |     -3.4101 |\n",
      "| data/pdbs_w_2bp/CGUUGAAA_UGGAG/TWOWAY.4IOA.3-6.UGGAG-CGUUGAAA.0.pdb       |    16.1000 |     -4.3200 |\n",
      "| data/pdbs_w_2bp/GAAGAAG_CGUAAC/TWOWAY.1NJP.4-5.CGUAAC-GAAGAAG.0.pdb       |    16.0800 |     -3.0658 |\n",
      "| data/pdbs_w_2bp/CGACGAAG_CAGAG/TWOWAY.4KQY.3-6.CAGAG-CGACGAAG.0.pdb       |    16.0400 |     -4.1501 |\n",
      "| data/pdbs_w_2bp/GGGAAC_GGGAAC/TWOWAY.3FTE.4-4.GGGAAC-GGGAAC.0.pdb         |    16.0300 |     -3.6668 |\n",
      "| data/pdbs_w_2bp/CGUUC_GUAG/NWAY.5XPA.2-6--1.DADG-DGDTGUUC-C.0.pdb         |    15.9000 |     -3.5303 |\n",
      "| data/pdbs_w_2bp/CGAG_CGAG/TWOWAY.1SAQ.2-2.CGAG-CGAG.1.pdb                 |    15.8500 |     -2.7492 |\n",
      "| data/pdbs_w_2bp/GGAGAAG_CGUAAC/TWOWAY.6SPB.4-5.CGUAAC-GGAGAAG.0.pdb       |    15.8300 |     -3.4453 |\n",
      "| data/pdbs_w_2bp/CGAUGAAA_UGGAG/TWOWAY.3V7E.3-6.UGGAG-CGAUGAAA.1.pdb       |    15.8000 |     -5.7791 |\n",
      "| data/pdbs_w_2bp/GGAGAAG_CGUAAC/TWOWAY.6YS3.4-5.CGUAAC-GGAGAAG.0.pdb       |    15.7000 |     -3.4453 |\n",
      "| data/pdbs_w_2bp/AGAAG_CGGAU/TWOWAY.7JQC.3-3.CGGAU-AGAAG.0.pdb             |    15.6900 |     -3.3973 |\n",
      "| data/pdbs_w_2bp/CCAAG_UGCAG/TWOWAY.2R8S.3-3.CCAAG-UGCAG.0.pdb             |    15.6800 |     -2.4226 |\n",
      "| data/pdbs_w_2bp/UUAGUAC_GGAAUA/NWAY.1UN6.2-5-0.AAUA-UUAGUAC-GG.0.pdb      |    15.6100 |     -4.0909 |\n",
      "| data/pdbs_w_2bp/CGAUGAAA_UGGAG/TWOWAY.3V7E.3-6.UGGAG-CGAUGAAA.0.pdb       |    15.5700 |     -5.7791 |\n",
      "| data/pdbs_w_2bp/GGAGAAG_CGUAAC/TWOWAY.6SPB.4-5.CGUAAC-GGAGAAG.0.pdb       |    15.5500 |     -3.3923 |\n",
      "| data/pdbs_w_2bp/CGAUGAAA_UGGAG/TWOWAY.3V7E.3-6.UGGAG-CGAUGAAA.0.pdb       |    15.5100 |     -4.1051 |\n",
      "| data/pdbs_w_2bp/GGAGAAG_CGUAAC/TWOWAY.5XYM.4-5.CGUAAC-GGAGAAG.0.pdb       |    15.5000 |     -3.3923 |\n",
      "| data/pdbs_w_2bp/UAUGUAG_UGAAA/TWOWAY.6YS3.5-3.UAUGUAG-UGAAA.0.pdb         |    15.4800 |     -3.5225 |\n",
      "| data/pdbs_w_2bp/CGAG_CGAG/TWOWAY.1SA9.2-2.CGAG-CGAG.0.pdb                 |    15.4600 |     -2.9106 |\n",
      "| data/pdbs_w_2bp/GCUAAC_GGACCC/NWAY.4QLM.0-4-2.AC-GGACCC-GCUA.0.pdb        |    15.4300 |     -3.3008 |\n",
      "| data/pdbs_w_2bp/CGAAC_GGUAG/TWOWAY.6SWD.3-3.CGAAC-GGUAG.0.pdb             |    15.4300 |     -3.1584 |\n",
      "| data/pdbs_w_2bp/CUAAC_GGACG/TWOWAY.3IGI.3-3.GGACG-CUAAC.0.pdb             |    15.4300 |     -3.0047 |\n",
      "| data/pdbs_w_2bp/CGUAAG_UGAAG/TWOWAY.6SPB.3-4.UGAAG-CGUAAG.0.pdb           |    15.4200 |     -2.5422 |\n",
      "| data/pdbs_w_2bp/GCUAAC_GGACCC/NWAY.4QK9.2-4-0.UAAC-GGACCC-GC.0.pdb        |    15.4100 |     -3.3008 |\n",
      "| data/pdbs_w_2bp/GGGAAC_GGGAAC/TWOWAY.3FTF.4-4.GGGAAC-GGGAAC.0.pdb         |    15.3900 |     -2.5887 |\n",
      "| data/pdbs_w_2bp/AGAAA_UAAU/TWOWAY.6QKL.2-3.UAAU-AGAAA.0.pdb               |    15.3700 |     -3.2669 |\n",
      "| data/pdbs_w_2bp/CUGAC_GGAUG/TWOWAY.7JQC.3-3.CUGAC-GGAUG.0.pdb             |    15.3300 |     -2.4658 |\n",
      "| data/pdbs_w_2bp/CGAG_CGAG/TWOWAY.1SAQ.2-2.CGAG-CGAG.0.pdb                 |    15.3300 |     -2.9106 |\n",
      "| data/pdbs_w_2bp/GGGAAC_GGGAAC/TWOWAY.3FTF.4-4.GGGAAC-GGGAAC.0.pdb         |    15.3000 |     -3.8106 |\n",
      "| data/pdbs_w_2bp/AGAAG_CGGAU/TWOWAY.7JQC.3-3.CGGAU-AGAAG.0.pdb             |    15.2800 |     -3.5348 |\n",
      "| data/pdbs_w_2bp/UGAGG_UGGAG/TWOWAY.6YS3.3-3.UGAGG-UGGAG.0.pdb             |    15.2700 |     -2.9556 |\n",
      "| data/pdbs_w_2bp/CGAG_CGAG/TWOWAY.1SA9.2-2.CGAG-CGAG.1.pdb                 |    15.2700 |     -2.7492 |\n",
      "| data/pdbs_w_2bp/GCUAAC_GGACCC/TWOWAY.4W90.4-4.GCUAAC-GGACCC.0.pdb         |    15.2400 |     -3.3008 |\n",
      "| data/pdbs_w_2bp/CGAG_CGAG/TWOWAY.1SA9.2-2.CGAG-CGAG.1.pdb                 |    15.1900 |     -2.9106 |\n",
      "| data/pdbs_w_2bp/GGAGAAG_CGUAAC/TWOWAY.6YS3.4-5.CGUAAC-GGAGAAG.0.pdb       |    15.1300 |     -3.3923 |\n",
      "| data/pdbs_w_2bp/GGAG_UGAC/TWOWAY.4KHP.2-2.GGAG-UGAC.0.pdb                 |    15.1200 |     -3.0715 |\n",
      "| data/pdbs_w_2bp/GGAG_UGAC/TWOWAY.1HNW.2-2.GGAG-UGAC.0.pdb                 |    15.1000 |     -2.7089 |\n",
      "| data/pdbs_w_2bp/CGAG_CGAG/TWOWAY.1SAQ.2-2.CGAG-CGAG.1.pdb                 |    15.0900 |     -2.9106 |\n",
      "| data/pdbs_w_2bp/GGAG_UGAC/TWOWAY.1HNW.2-2.GGAG-UGAC.0.pdb                 |    15.0500 |     -3.0715 |\n",
      "| data/pdbs_w_2bp/GGAG_UGAC/TWOWAY.4KHP.2-2.GGAG-UGAC.0.pdb                 |    15.0300 |     -2.7089 |\n",
      "| data/pdbs_w_2bp/GGAG_UGAC/TWOWAY.1XNR.2-2.GGAG-UGAC.0.pdb                 |    14.9500 |     -2.7089 |\n",
      "| data/pdbs_w_2bp/GGAG_UGAC/TWOWAY.1N32.2-2.GGAG-UGAC.0.pdb                 |    14.9100 |     -3.0715 |\n",
      "| data/pdbs_w_2bp/GGAG_UGAC/TWOWAY.4JV5.2-2.GGAG-UGAC.0.pdb                 |    14.8900 |     -2.7089 |\n",
      "| data/pdbs_w_2bp/GGAG_UGAC/TWOWAY.2UXC.2-2.GGAG-UGAC.0.pdb                 |    14.8900 |     -2.7089 |\n",
      "| data/pdbs_w_2bp/GGAG_UGAC/TWOWAY.1N32.2-2.GGAG-UGAC.0.pdb                 |    14.8800 |     -2.7089 |\n",
      "| data/pdbs_w_2bp/CGAG_CGAG/TWOWAY.1SAQ.2-2.CGAG-CGAG.0.pdb                 |    14.8700 |     -2.7492 |\n",
      "| data/pdbs_w_2bp/GGAG_UGAC/TWOWAY.1XNQ.2-2.GGAG-UGAC.0.pdb                 |    14.8400 |     -2.7089 |\n",
      "| data/pdbs_w_2bp/UGGG_UAG/TWOWAY.6SPB.1-2.UAG-UGGG.0.pdb                   |    14.8200 |     -2.6604 |\n",
      "| data/pdbs_w_2bp/GGAG_UGAC/TWOWAY.1FJG.2-2.GGAG-UGAC.0.pdb                 |    14.8000 |     -2.7089 |\n",
      "| data/pdbs_w_2bp/GGAG_UGAC/NWAY.4XWF.-1-2-1.C-GGAG-UGA.0.pdb               |    14.8000 |     -2.7089 |\n",
      "| data/pdbs_w_2bp/GGAG_UGAC/TWOWAY.4JV5.2-2.GGAG-UGAC.0.pdb                 |    14.7900 |     -3.0715 |\n",
      "| data/pdbs_w_2bp/GGAG_UGAC/TWOWAY.1FJG.2-2.GGAG-UGAC.0.pdb                 |    14.7900 |     -3.0715 |\n",
      "| data/pdbs_w_2bp/GGAG_UGAC/TWOWAY.2UXC.2-2.GGAG-UGAC.0.pdb                 |    14.7900 |     -3.0715 |\n",
      "| data/pdbs_w_2bp/GGAG_UGAC/TWOWAY.2UXD.2-2.GGAG-UGAC.0.pdb                 |    14.7700 |     -3.0715 |\n",
      "| data/pdbs_w_2bp/AGGACC_GAGAAU/TWOWAY.5XYM.4-4.AGGACC-GAGAAU.0.pdb         |    14.7700 |     -2.5465 |\n",
      "| data/pdbs_w_2bp/CGAAG_CAAG/TWOWAY.4R4V.3-2.CGAAG-CAAG.0.pdb               |    14.7700 |     -2.4043 |\n",
      "| data/pdbs_w_2bp/UGGG_UAG/TWOWAY.6QKL.1-2.UAG-UGGG.0.pdb                   |    14.7400 |     -2.6604 |\n",
      "| data/pdbs_w_2bp/GGAG_UGAC/NWAY.4XWF.-1-2-1.C-GGAG-UGA.0.pdb               |    14.7100 |     -3.0715 |\n",
      "| data/pdbs_w_2bp/UGGGAUU_ACGAAG/TWOWAY.6JXM.4-5.ACGAAG-UGGGAUU.0.pdb       |    14.6700 |     -3.1303 |\n",
      "| data/pdbs_w_2bp/GGAG_UGAC/TWOWAY.1XNQ.2-2.GGAG-UGAC.0.pdb                 |    14.6500 |     -3.0715 |\n",
      "| data/pdbs_w_2bp/UGGG_UAG/TWOWAY.6YS3.1-2.UAG-UGGG.0.pdb                   |    14.6200 |     -2.6604 |\n",
      "| data/pdbs_w_2bp/GGAG_UGAC/TWOWAY.6SPC.2-2.GGAG-UGAC.0.pdb                 |    14.5600 |     -3.0715 |\n",
      "| data/pdbs_w_2bp/GGAG_UGAC/TWOWAY.2UXD.2-2.GGAG-UGAC.0.pdb                 |    14.5600 |     -2.7089 |\n",
      "| data/pdbs_w_2bp/CGAG_CGAG/TWOWAY.1SA9.2-2.CGAG-CGAG.0.pdb                 |    14.5000 |     -2.7492 |\n",
      "| data/pdbs_w_2bp/CUGAC_GGAUG/TWOWAY.7JQC.3-3.CUGAC-GGAUG.0.pdb             |    14.4800 |     -3.9829 |\n",
      "| data/pdbs_w_2bp/GGAG_UGAC/TWOWAY.1XNR.2-2.GGAG-UGAC.0.pdb                 |    14.4400 |     -3.0715 |\n",
      "| data/pdbs_w_2bp/CGAAG_UGGAG/TWOWAY.4UYK.3-3.UGGAG-CGAAG.0.pdb             |    14.4200 |     -2.7609 |\n",
      "| data/pdbs_w_2bp/CGACGAAG_CAGAG/TWOWAY.4KQY.3-6.CAGAG-CGACGAAG.0.pdb       |    14.3300 |     -4.0873 |\n",
      "| data/pdbs_w_2bp/AAAG_CGAU/TWOWAY.5O5J.2-2.AAAG-CGAU.0.pdb                 |    14.3000 |     -2.7259 |\n",
      "| data/pdbs_w_2bp/GGAG_UGAC/TWOWAY.6SPC.2-2.GGAG-UGAC.0.pdb                 |    14.0900 |     -2.7089 |\n",
      "| data/pdbs_w_2bp/CGAAG_UGGAG/TWOWAY.4UYK.3-3.UGGAG-CGAAG.0.pdb             |    14.0000 |     -2.4046 |\n",
      "| data/pdbs_w_2bp/GGGAAC_GGGAAC/TWOWAY.3FTE.4-4.GGGAAC-GGGAAC.0.pdb         |    13.7600 |     -2.5887 |\n",
      "| data/pdbs_w_2bp/AGAAG_CGGAU/TWOWAY.7JQC.3-3.CGGAU-AGAAG.0.pdb             |    13.6300 |     -2.3473 |\n",
      "| data/pdbs_w_2bp/GGGAAC_GGGAAC/TWOWAY.3FTE.4-4.GGGAAC-GGGAAC.0.pdb         |    13.5300 |     -2.8488 |\n",
      "| data/pdbs_w_2bp/GGGAAC_GGGAAC/TWOWAY.3FTF.4-4.GGGAAC-GGGAAC.0.pdb         |    12.8300 |     -2.8488 |\n",
      "| data/pdbs_w_2bp/UGAGG_UGGAG/TWOWAY.6YS3.3-3.UGAGG-UGGAG.0.pdb             |    12.8200 |     -1.8802 |\n",
      "| data/pdbs_w_2bp/CGAUGAAA_UGGAG/TWOWAY.3V7E.3-6.UGGAG-CGAUGAAA.0.pdb       |    12.4000 |     -3.7624 |\n"
     ]
    }
   ],
   "source": [
    "# Create a table using tabulate for A-A pair with N1 and O2' atoms\n",
    "table_ag = tabulate(\n",
    "    df_corr_data_ag[[\"pdb_name\", \"distance\", \"ln_r_data_mean\"]],\n",
    "    headers=[\"PDB\", \"Distance\", \"ln_r_data\"],\n",
    "    tablefmt=\"pipe\",\n",
    "    floatfmt=\".4f\",\n",
    "    showindex=False,\n",
    ")\n",
    "print(\"Top 20 entries for A-G pair with P and P atoms:\")\n",
    "print(table_ag)"
   ]
  },
  {
   "cell_type": "markdown",
   "metadata": {},
   "source": [
    "data/pdbs_w_2bp/UGAGG_UGGAG/TWOWAY.6YS3.3-3.UGAGG-UGGAG.0.pdb<br>\n",
    "data/pdbs_w_2bp/GGGAGC_GGGAGC/TWOWAY.1D4R.4-4.GGGAGC-GGGAGC.0.pdb<br>\n",
    "data/pdbs_w_2bp/GCAC_GGAU/TWOWAY.6ZVI.2-2.GGAU-GCAC.0.pdb<br>"
   ]
  },
  {
   "cell_type": "code",
   "execution_count": 134,
   "metadata": {},
   "outputs": [
    {
     "name": "stdout",
     "output_type": "stream",
     "text": [
      "0.5068710179916276\n"
     ]
    },
    {
     "data": {
      "image/png": "[encoded data removed]",
      "text/plain": [
       "<Figure size 400x300 with 1 Axes>"
      ]
     },
     "metadata": {},
     "output_type": "display_data"
    }
   ],
   "source": [
    "# Create scatter plot\n",
    "fig, ax = plt.subplots(figsize=(2, 1.5), dpi=200)\n",
    "\n",
    "# Call the function with the dataframe\n",
    "r2 = create_scatter_plot_w_regression(df_corr_data_ag, ax, \"distance\", \"ln_r_data_mean\")\n",
    "\n",
    "ax.set_xlabel(\"A-G P-P Distance\")\n",
    "ax.set_ylabel(\"Ln(Avg. Mut. Frac.)\")\n",
    "ax.set_xticks([12, 14, 16, 18, 20, 22])\n",
    "format_small_plot(ax)\n",
    "print(r2)"
   ]
  },
  {
   "cell_type": "markdown",
   "metadata": {},
   "source": [
    "## C-A correlations"
   ]
  },
  {
   "cell_type": "code",
   "execution_count": 135,
   "metadata": {},
   "outputs": [
    {
     "name": "stdout",
     "output_type": "stream",
     "text": [
      "Top 20 atom pairs for C-A:\n",
      "|      | Atom 1   | Atom 2   |     R2 |   Count |\n",
      "|-----:|:---------|:---------|-------:|--------:|\n",
      "| 1300 | O3'      | C2'      | 0.5139 |      48 |\n",
      "| 1058 | C3'      | C2'      | 0.4964 |      48 |\n",
      "| 1298 | O3'      | C1'      | 0.4913 |      48 |\n",
      "| 1309 | O3'      | N3       | 0.4768 |      48 |\n",
      "| 1034 | C2'      | C1'      | 0.4645 |      48 |\n",
      "| 1036 | C2'      | C2'      | 0.4624 |      48 |\n",
      "| 1313 | O3'      | O2'      | 0.4584 |      48 |\n",
      "| 1056 | C3'      | C1'      | 0.4529 |      48 |\n",
      "| 1067 | C3'      | N3       | 0.4265 |      48 |\n",
      "| 1314 | O3'      | O3'      | 0.4183 |      48 |\n",
      "| 1299 | O3'      | C2       | 0.4166 |      48 |\n",
      "| 1102 | C4'      | C2'      | 0.4074 |      48 |\n",
      "| 1060 | C3'      | C4       | 0.4065 |      48 |\n",
      "| 1278 | O2'      | C2'      | 0.4022 |      48 |\n",
      "| 1302 | O3'      | C4       | 0.4017 |      48 |\n",
      "| 1276 | O2'      | C1'      | 0.3992 |      48 |\n",
      "| 1050 | C2'      | O3'      | 0.3955 |      48 |\n",
      "| 1291 | O2'      | O2'      | 0.3955 |      48 |\n",
      "| 1071 | C3'      | O2'      | 0.3878 |      48 |\n",
      "| 1045 | C2'      | N3       | 0.3849 |      48 |\n"
     ]
    }
   ],
   "source": [
    "df_ca = df_corr[df_corr[\"pair\"] == \"C-A\"].sort_values(by=\"r2\", ascending=False)\n",
    "# Select top 20 rows\n",
    "top_20_ca = df_ca.head(20)\n",
    "# Create a table using tabulate\n",
    "table = tabulate(\n",
    "    top_20_ca[[\"atom1\", \"atom2\", \"r2\", \"count\"]],\n",
    "    headers=[\"Atom 1\", \"Atom 2\", \"R2\", \"Count\"],\n",
    "    tablefmt=\"pipe\",\n",
    "    floatfmt=\".4f\",\n",
    ")\n",
    "print(\"Top 20 atom pairs for C-A:\")\n",
    "print(table)"
   ]
  },
  {
   "cell_type": "code",
   "execution_count": 136,
   "metadata": {},
   "outputs": [],
   "source": [
    "df_corr_data_ca = df_corr_data.query(\n",
    "    'pair == \"C-A\" and atom1 == \"O3\\'\" and atom2 == \"C2\\'\"'\n",
    ").copy()\n",
    "df_corr_data_ca.sort_values(by=\"distance\", ascending=False, inplace=True)"
   ]
  },
  {
   "cell_type": "code",
   "execution_count": 137,
   "metadata": {},
   "outputs": [
    {
     "name": "stdout",
     "output_type": "stream",
     "text": [
      "Top 20 entries for C-A pair with C and C atoms:\n",
      "| PDB                                                                |   Distance |   ln_r_data |   Res. Pos. | BP Type   |\n",
      "|:-------------------------------------------------------------------|-----------:|------------:|------------:|:----------|\n",
      "| data/pdbs_w_2bp/GCAC_GGAU/TWOWAY.6ZVI.2-2.GGAU-GCAC.0.pdb          |    15.2900 |     -2.4071 |           4 | cWW       |\n",
      "| data/pdbs_w_2bp/UCACAG_UCACAG/TWOWAY.1KD5.4-4.UCACAG-UCACAG.0.pdb  |    15.0700 |     -3.1384 |          16 | cWH       |\n",
      "| data/pdbs_w_2bp/UCACAG_UCACAG/TWOWAY.1KD5.4-4.UCACAG-UCACAG.0.pdb  |    15.0100 |     -3.2741 |           6 | cWH       |\n",
      "| data/pdbs_w_2bp/UCACAG_UCACAG/TWOWAY.1KD4.4-4.UCACAG-UCACAG.0.pdb  |    14.5600 |     -3.1384 |          16 | cWH       |\n",
      "| data/pdbs_w_2bp/UCACAG_UCACAG/TWOWAY.1KD4.4-4.UCACAG-UCACAG.0.pdb  |    14.3900 |     -3.2741 |           6 | cWH       |\n",
      "| data/pdbs_w_2bp/ACG_CAU/TWOWAY.4M4O.1-1.ACG-CAU.0.pdb              |    14.1900 |     -4.4093 |           4 | cWW       |\n",
      "| data/pdbs_w_2bp/AGGACC_GAGAAU/TWOWAY.5XYM.4-4.AGGACC-GAGAAU.0.pdb  |    14.0800 |     -4.8495 |           7 | cWW       |\n",
      "| data/pdbs_w_2bp/GACC_GACC/TWOWAY.1L9A.2-2.GACC-GACC.0.pdb          |    14.0500 |     -5.3046 |           5 | cWW       |\n",
      "| data/pdbs_w_2bp/AAGCAG_UCAGGU/TWOWAY.1LNT.4-4.UCAGGU-AAGCAG.0.pdb  |    14.0300 |     -6.0945 |           6 | tWH       |\n",
      "| data/pdbs_w_2bp/GUAAC_GCCC/TWOWAY.3LOA.2-3.GCCC-GUAAC.0.pdb        |    13.9500 |     -3.3546 |          13 | cWW       |\n",
      "| data/pdbs_w_2bp/CAC_GCG/TWOWAY.6AGB.1-1.CAC-GCG.0.pdb              |    13.8600 |     -4.7749 |          11 | cWW_p     |\n",
      "| data/pdbs_w_2bp/GAUGAAA_UAACC/NWAY.5XTM.3-3-0.UGAAA-UAACC-GA.0.pdb |    13.8400 |     -4.3266 |          17 | cWW       |\n",
      "| data/pdbs_w_2bp/GACC_GACC/TWOWAY.1L9A.2-2.GACC-GACC.0.pdb          |    13.8400 |     -5.2479 |          13 | cWW       |\n",
      "| data/pdbs_w_2bp/CAC_GCG/TWOWAY.6AH3.1-1.CAC-GCG.0.pdb              |    13.7500 |     -4.7749 |          11 | cWW_p     |\n",
      "| data/pdbs_w_2bp/ACGAAU_ACUAU/TWOWAY.6YSI.4-3.ACGAAU-ACUAU.0.pdb    |    13.7100 |     -4.4069 |           4 | cWW       |\n",
      "| data/pdbs_w_2bp/GAA_UCC/TWOWAY.4P95.1-1.GAA-UCC.0.pdb              |    13.6800 |     -5.5778 |          11 | cWW       |\n",
      "| data/pdbs_w_2bp/UAG_UCA/TWOWAY.5XXU.1-1.UAG-UCA.0.pdb              |    13.6700 |     -5.0308 |          11 | cWW       |\n",
      "| data/pdbs_w_2bp/AAC_GCU/TWOWAY.5XXU.1-1.GCU-AAC.0.pdb              |    13.5000 |     -5.1316 |          11 | cWW       |\n",
      "| data/pdbs_w_2bp/GCCG_CAC/TWOWAY.1U6B.2-1.GCCG-CAC.0.pdb            |    13.4600 |     -3.7469 |           4 | cWW       |\n",
      "| data/pdbs_w_2bp/AAC_GCU/TWOWAY.7JQC.1-1.AAC-GCU.0.pdb              |    13.4200 |     -5.1316 |          11 | cWW       |\n",
      "| data/pdbs_w_2bp/CGCAAG_CGCAAG/TWOWAY.6O5F.4-4.CGCAAG-CGCAAG.0.pdb  |    13.4200 |     -4.0650 |           5 | cWW_p     |\n",
      "| data/pdbs_w_2bp/UCACAG_UCACAG/TWOWAY.1KD4.4-4.UCACAG-UCACAG.0.pdb  |    13.4000 |     -5.0869 |           4 | tSH       |\n",
      "| data/pdbs_w_2bp/UCACAG_UCACAG/TWOWAY.1KD4.4-4.UCACAG-UCACAG.0.pdb  |    13.3800 |     -4.9474 |          14 | tSH       |\n",
      "| data/pdbs_w_2bp/AAAC_GCU/TWOWAY.6NY2.1-2.GCU-AAAC.0.pdb            |    13.3300 |     -4.1237 |          12 | cWW_p     |\n",
      "| data/pdbs_w_2bp/AAU_ACU/TWOWAY.5D0B.1-1.ACU-AAU.0.pdb              |    13.2100 |     -4.7295 |          11 | cWW       |\n",
      "| data/pdbs_w_2bp/GAC_GCC/TWOWAY.6OL3.1-1.GAC-GCC.0.pdb              |    13.0900 |     -5.9910 |          11 | cWW       |\n",
      "| data/pdbs_w_2bp/ACCC_GACU/TWOWAY.3WBM.2-2.GACU-ACCC.0.pdb          |    13.0600 |     -4.5663 |           5 | cWW       |\n",
      "| data/pdbs_w_2bp/GACC_GACC/TWOWAY.1JID.2-2.GACC-GACC.0.pdb          |    13.0500 |     -5.3046 |           5 | cWW       |\n",
      "| data/pdbs_w_2bp/GACC_GACC/TWOWAY.1D4R.2-2.GACC-GACC.1.pdb          |    13.0300 |     -5.2479 |          13 | cWW       |\n",
      "| data/pdbs_w_2bp/AAU_ACU/TWOWAY.5CCB.1-1.ACU-AAU.0.pdb              |    13.0300 |     -4.7295 |          11 | cWW       |\n",
      "| data/pdbs_w_2bp/GAA_UCC/TWOWAY.5XYI.1-1.GAA-UCC.0.pdb              |    12.9600 |     -5.5778 |          11 | cWW       |\n",
      "| data/pdbs_w_2bp/GACC_GACC/TWOWAY.1MFQ.2-2.GACC-GACC.0.pdb          |    12.9500 |     -5.3046 |           5 | cWW_p     |\n",
      "| data/pdbs_w_2bp/CGCAAG_CGCAAG/TWOWAY.6O5F.4-4.CGCAAG-CGCAAG.0.pdb  |    12.9300 |     -3.9152 |          15 | cWW_p     |\n",
      "| data/pdbs_w_2bp/ACCC_GACU/NWAY.3WBM.6.ACCCGACU.0.pdb               |    12.9100 |     -4.5663 |           5 | cWW       |\n",
      "| data/pdbs_w_2bp/AAU_ACU/TWOWAY.1Z7F.1-1.ACU-AAU.0.pdb              |    12.8900 |     -4.7295 |          11 | cWW       |\n",
      "| data/pdbs_w_2bp/UCACAG_UCACAG/TWOWAY.1KD5.4-4.UCACAG-UCACAG.0.pdb  |    12.8300 |     -5.0869 |           4 | tSH       |\n",
      "| data/pdbs_w_2bp/GACC_GACC/TWOWAY.1D4R.2-2.GACC-GACC.1.pdb          |    12.7900 |     -5.3046 |           5 | cWW       |\n",
      "| data/pdbs_w_2bp/GACC_GACC/TWOWAY.1MFQ.2-2.GACC-GACC.0.pdb          |    12.7700 |     -5.2479 |          13 | cWW_p     |\n",
      "| data/pdbs_w_2bp/UCACAG_UCACAG/TWOWAY.1KD5.4-4.UCACAG-UCACAG.0.pdb  |    12.7700 |     -4.9474 |          14 | tSH       |\n",
      "| data/pdbs_w_2bp/CCG_UAG/TWOWAY.5ZTM.1-1.UAG-CCG.0.pdb              |    12.7100 |     -5.9853 |           4 | cSW       |\n",
      "| data/pdbs_w_2bp/GACC_GACC/TWOWAY.1JID.2-2.GACC-GACC.0.pdb          |    12.6500 |     -5.2479 |          13 | cWW       |\n",
      "| data/pdbs_w_2bp/GACC_GACC/TWOWAY.1D4R.2-2.GACC-GACC.0.pdb          |    12.6000 |     -5.3046 |           5 | cWW       |\n",
      "| data/pdbs_w_2bp/AAU_ACU/TWOWAY.1Z7F.1-1.AAU-ACU.0.pdb              |    12.6000 |     -4.7295 |          11 | cWW       |\n",
      "| data/pdbs_w_2bp/GACC_GACC/TWOWAY.1D4R.2-2.GACC-GACC.0.pdb          |    12.5900 |     -5.2479 |          13 | cWW       |\n",
      "| data/pdbs_w_2bp/CCC_GAG/TWOWAY.6IA2.1-1.CCC-GAG.0.pdb              |    12.4300 |     -6.1909 |           4 | cWW       |\n",
      "| data/pdbs_w_2bp/ACC_GAU/TWOWAY.1TFW.1-1.ACC-GAU.0.pdb              |    12.2600 |     -5.5639 |           4 | cWW       |\n",
      "| data/pdbs_w_2bp/CCAAG_UGCAG/TWOWAY.2R8S.3-3.CCAAG-UGCAG.0.pdb      |    11.7100 |     -6.1113 |           4 | tSH       |\n",
      "| data/pdbs_w_2bp/AAGCAG_UCAGGU/TWOWAY.1LNT.4-4.UCAGGU-AAGCAG.0.pdb  |    11.4900 |     -6.1912 |          14 | tSH       |\n"
     ]
    }
   ],
   "source": [
    "# Create a table using tabulate for A-A pair with N1 and O2' atoms\n",
    "table_ca = tabulate(\n",
    "    df_corr_data_ca[\n",
    "        [\"pdb_name\", \"distance\", \"ln_r_data_mean\", \"pdb_r_pos\", \"pdb_r_bp_type\"]\n",
    "    ],\n",
    "    headers=[\"PDB\", \"Distance\", \"ln_r_data\", \"Res. Pos.\", \"BP Type\"],\n",
    "    tablefmt=\"pipe\",\n",
    "    floatfmt=\".4f\",\n",
    "    showindex=False,\n",
    ")\n",
    "print(\"Top 20 entries for C-A pair with C and C atoms:\")\n",
    "print(table_ca)"
   ]
  },
  {
   "cell_type": "markdown",
   "metadata": {},
   "source": [
    "plot examples<br>\n",
    "data/pdbs_w_2bp/GCAC_GGAU/TWOWAY.6ZVI.2-2.GGAU-GCAC.0.pdb<br>\n",
    "data/pdbs_w_2bp/AAC_GCU/TWOWAY.7JQC.1-1.AAC-GCU.0.pdb<br>\n",
    "data/pdbs_w_2bp/AAGCAG_UCAGGU/TWOWAY.1LNT.4-4.UCAGGU-AAGCAG.0.pdb<br>"
   ]
  },
  {
   "cell_type": "code",
   "execution_count": 138,
   "metadata": {},
   "outputs": [
    {
     "name": "stdout",
     "output_type": "stream",
     "text": [
      "0.5139449403790017\n"
     ]
    },
    {
     "data": {
      "image/png": "[encoded data removed]",
      "text/plain": [
       "<Figure size 400x300 with 1 Axes>"
      ]
     },
     "metadata": {},
     "output_type": "display_data"
    }
   ],
   "source": [
    "# Create scatter plot\n",
    "fig, ax = plt.subplots(figsize=(2, 1.5), dpi=200)\n",
    "\n",
    "# Call the function with the dataframe\n",
    "r2 = create_scatter_plot_w_regression(df_corr_data_ca, ax, \"distance\", \"ln_r_data_mean\")\n",
    "\n",
    "ax.set_xlabel(\"C-A O3'-C2' Distance\")\n",
    "ax.set_ylabel(\"Ln(Avg. Mut. Frac.)\")\n",
    "format_small_plot(ax)\n",
    "print(r2)"
   ]
  },
  {
   "cell_type": "markdown",
   "metadata": {},
   "source": [
    "## C-C correlations"
   ]
  },
  {
   "cell_type": "code",
   "execution_count": 139,
   "metadata": {},
   "outputs": [
    {
     "name": "stdout",
     "output_type": "stream",
     "text": [
      "Top 20 atom pairs for C-C:\n",
      "|      | Atom 1   | Atom 2   |     R2 |   Count |\n",
      "|-----:|:---------|:---------|-------:|--------:|\n",
      "| 1728 | O3'      | OP2      | 0.6366 |      35 |\n",
      "| 1488 | C2'      | OP2      | 0.6237 |      35 |\n",
      "| 1508 | C3'      | OP2      | 0.6182 |      35 |\n",
      "| 1708 | O2'      | OP2      | 0.6057 |      35 |\n",
      "| 1729 | O3'      | P        | 0.6001 |      35 |\n",
      "| 1489 | C2'      | P        | 0.5907 |      35 |\n",
      "| 1448 | C1'      | OP2      | 0.5878 |      35 |\n",
      "| 1548 | C4'      | OP2      | 0.5834 |      35 |\n",
      "| 1509 | C3'      | P        | 0.5771 |      35 |\n",
      "| 1709 | O2'      | P        | 0.5754 |      35 |\n",
      "| 1748 | O4'      | OP2      | 0.5673 |      35 |\n",
      "| 1628 | N1       | OP2      | 0.5606 |      35 |\n",
      "| 1449 | C1'      | P        | 0.5535 |      35 |\n",
      "| 1468 | C2       | OP2      | 0.5523 |      35 |\n",
      "| 1549 | C4'      | P        | 0.5452 |      35 |\n",
      "| 1727 | O3'      | OP1      | 0.5449 |      35 |\n",
      "| 1487 | C2'      | OP1      | 0.5401 |      35 |\n",
      "| 1688 | O2       | OP2      | 0.5351 |      35 |\n",
      "| 1707 | O2'      | OP1      | 0.5309 |      35 |\n",
      "| 1749 | O4'      | P        | 0.5283 |      35 |\n"
     ]
    }
   ],
   "source": [
    "# Filter for C-C pair and sort by r2 in descending order\n",
    "df_cc = df_corr[df_corr[\"pair\"] == \"C-C\"].sort_values(by=\"r2\", ascending=False)\n",
    "# Select top 20 rows\n",
    "top_20_cc = df_cc.head(20)\n",
    "# Create a table using tabulate\n",
    "table = tabulate(\n",
    "    top_20_cc[[\"atom1\", \"atom2\", \"r2\", \"count\"]],\n",
    "    headers=[\"Atom 1\", \"Atom 2\", \"R2\", \"Count\"],\n",
    "    tablefmt=\"pipe\",\n",
    "    floatfmt=\".4f\",\n",
    ")\n",
    "print(\"Top 20 atom pairs for C-C:\")\n",
    "print(table)"
   ]
  },
  {
   "cell_type": "code",
   "execution_count": 140,
   "metadata": {},
   "outputs": [],
   "source": [
    "df_corr_data_cc = df_corr_data.query(\n",
    "    'pair == \"C-C\" and atom1 == \"O3\\'\" and atom2 == \"OP2\"'\n",
    ").copy()\n",
    "df_corr_data_cc.sort_values(by=\"distance\", ascending=False, inplace=True)"
   ]
  },
  {
   "cell_type": "code",
   "execution_count": 141,
   "metadata": {},
   "outputs": [
    {
     "data": {
      "text/plain": [
       "Index(['pdb_name', 'pdb_r_pos', 'pair_pdb_r_pos', 'pdb_r_bp_type', 'distance',\n",
       "       'average_b_factor', 'normalized_b_factor', 'pdb_res', 'ln_r_data_mean',\n",
       "       'ln_r_data_std', 'pair', 'atom1', 'atom2', 'r2'],\n",
       "      dtype='object')"
      ]
     },
     "execution_count": 141,
     "metadata": {},
     "output_type": "execute_result"
    }
   ],
   "source": [
    "df_corr_data_cc.columns"
   ]
  },
  {
   "cell_type": "code",
   "execution_count": 142,
   "metadata": {},
   "outputs": [
    {
     "name": "stdout",
     "output_type": "stream",
     "text": [
      "Top 20 entries for C-C pair with O3' and OP2 atoms:\n",
      "| PDB                                                                |   Distance |   ln_r_data |   pdb_r_pos |\n",
      "|:-------------------------------------------------------------------|-----------:|------------:|------------:|\n",
      "| data/pdbs_w_2bp/ACCC_GACU/TWOWAY.3WBM.2-2.GACU-ACCC.0.pdb          |    17.7600 |     -3.7344 |          13 |\n",
      "| data/pdbs_w_2bp/CCCG_CCCG/NWAY.5EW4.2-0-0.CCCG-CG-CC.0.pdb         |    17.4400 |     -3.3721 |           5 |\n",
      "| data/pdbs_w_2bp/CCG_CCG/TWOWAY.1NJP.1-1.CCG-CCG.0.pdb              |    17.4100 |     -3.4441 |           4 |\n",
      "| data/pdbs_w_2bp/CCG_CCG/TWOWAY.4E59.1-1.CCG-CCG.0.pdb              |    17.4000 |     -3.3567 |          11 |\n",
      "| data/pdbs_w_2bp/CCG_CCG/TWOWAY.4IOA.1-1.CCG-CCG.0.pdb              |    17.3700 |     -3.4441 |           4 |\n",
      "| data/pdbs_w_2bp/ACG_CCU/TWOWAY.7JQC.1-1.CCU-ACG.0.pdb              |    17.3100 |     -3.1133 |           4 |\n",
      "| data/pdbs_w_2bp/CCG_CCG/TWOWAY.1NJP.1-1.CCG-CCG.0.pdb              |    17.2700 |     -3.3567 |          11 |\n",
      "| data/pdbs_w_2bp/CCG_UCG/TWOWAY.4IOA.1-1.UCG-CCG.0.pdb              |    17.1700 |     -2.2183 |          11 |\n",
      "| data/pdbs_w_2bp/CCG_CCG/TWOWAY.4E59.1-1.CCG-CCG.0.pdb              |    17.1500 |     -3.4441 |           4 |\n",
      "| data/pdbs_w_2bp/CCCG_CCCG/NWAY.5EW4.0-0-2.CG-CC-CCCG.0.pdb         |    17.1400 |     -3.3721 |           5 |\n",
      "| data/pdbs_w_2bp/CCCG_CCCG/NWAY.5EW4.2-0-0.CCCG-CG-CC.0.pdb         |    17.0800 |     -3.2194 |          13 |\n",
      "| data/pdbs_w_2bp/ACU_ACU/TWOWAY.1YZ9.1-1.ACU-ACU.0.pdb              |    16.9800 |     -4.4004 |           4 |\n",
      "| data/pdbs_w_2bp/GCUAAC_GGACCC/NWAY.4QLM.0-4-2.AC-GGACCC-GCUA.0.pdb |    16.9400 |     -3.5692 |          17 |\n",
      "| data/pdbs_w_2bp/CCG_CCG/TWOWAY.4IOA.1-1.CCG-CCG.0.pdb              |    16.9400 |     -3.3567 |          11 |\n",
      "| data/pdbs_w_2bp/CGACCA_UCUUAG/TWOWAY.2OIU.4-4.CGACCA-UCUUAG.0.pdb  |    16.8500 |     -3.2823 |           7 |\n",
      "| data/pdbs_w_2bp/ACG_CCU/TWOWAY.4YHW.1-1.ACG-CCU.0.pdb              |    16.8400 |     -5.0581 |          11 |\n",
      "| data/pdbs_w_2bp/GCUAAC_GGACCC/TWOWAY.4W90.4-4.GCUAAC-GGACCC.0.pdb  |    16.7900 |     -3.5692 |          17 |\n",
      "| data/pdbs_w_2bp/GCUAAC_GGACCC/NWAY.4QK9.2-4-0.UAAC-GGACCC-GC.0.pdb |    16.7600 |     -3.5692 |          17 |\n",
      "| data/pdbs_w_2bp/ACG_CCU/TWOWAY.4YHW.1-1.ACG-CCU.0.pdb              |    16.7100 |     -3.1133 |           4 |\n",
      "| data/pdbs_w_2bp/CCCG_CCCG/NWAY.5EW4.2-0-0.CCCG-CG-CC.0.pdb         |    16.6200 |     -5.8902 |           4 |\n",
      "| data/pdbs_w_2bp/ACU_ACU/NWAY.5AY2.-1-0-1.U-AC-ACU.0.pdb            |    16.6100 |     -4.1909 |          11 |\n",
      "| data/pdbs_w_2bp/ACU_ACU/NWAY.5AY2.-1-0-1.U-AC-ACU.0.pdb            |    16.5500 |     -4.4004 |           4 |\n",
      "| data/pdbs_w_2bp/ACCC_GACU/TWOWAY.3WBM.2-2.GACU-ACCC.0.pdb          |    16.5300 |     -3.7878 |           4 |\n",
      "| data/pdbs_w_2bp/CCCG_CCCG/NWAY.5EW4.0-0-2.CG-CC-CCCG.0.pdb         |    16.3500 |     -3.2194 |          13 |\n",
      "| data/pdbs_w_2bp/ACU_ACU/TWOWAY.1YZ9.1-1.ACU-ACU.0.pdb              |    16.0900 |     -4.1909 |          11 |\n",
      "| data/pdbs_w_2bp/CCCG_CCCG/NWAY.5EW4.2-0-0.CCCG-CG-CC.0.pdb         |    16.0300 |     -5.7487 |          12 |\n",
      "| data/pdbs_w_2bp/ACG_CCU/TWOWAY.7JQC.1-1.CCU-ACG.0.pdb              |    15.7000 |     -5.0581 |          11 |\n",
      "| data/pdbs_w_2bp/UUCUA_UUCUA/TWOWAY.5BTM.3-3.UUCUA-UUCUA.0.pdb      |    15.2900 |     -6.0363 |           5 |\n",
      "| data/pdbs_w_2bp/GCUAAC_GGACCC/NWAY.4QK9.2-4-0.UAAC-GGACCC-GC.0.pdb |    14.9500 |     -6.1862 |           4 |\n",
      "| data/pdbs_w_2bp/GCUAAC_GGACCC/TWOWAY.4W90.4-4.GCUAAC-GGACCC.0.pdb  |    14.8300 |     -6.1862 |           4 |\n",
      "| data/pdbs_w_2bp/CCG_UCG/TWOWAY.4IOA.1-1.UCG-CCG.0.pdb              |    14.8100 |     -4.0263 |           4 |\n",
      "| data/pdbs_w_2bp/CCCG_CCCG/NWAY.5EW4.0-0-2.CG-CC-CCCG.0.pdb         |    14.8100 |     -5.8902 |           4 |\n",
      "| data/pdbs_w_2bp/GCUAAC_GGACCC/NWAY.4QLM.0-4-2.AC-GGACCC-GCUA.0.pdb |    14.7000 |     -6.1862 |           4 |\n",
      "| data/pdbs_w_2bp/UUCUA_UUCUA/TWOWAY.5BTM.3-3.UUCUA-UUCUA.0.pdb      |    14.3900 |     -5.8903 |          14 |\n",
      "| data/pdbs_w_2bp/CCCG_CCCG/NWAY.5EW4.0-0-2.CG-CC-CCCG.0.pdb         |    14.3300 |     -5.7487 |          12 |\n"
     ]
    }
   ],
   "source": [
    "# Create a table using tabulate for A-A pair with N1 and O2' atoms\n",
    "table_cc = tabulate(\n",
    "    df_corr_data_cc[[\"pdb_name\", \"distance\", \"ln_r_data_mean\", \"pdb_r_pos\"]],\n",
    "    headers=[\"PDB\", \"Distance\", \"ln_r_data\", \"pdb_r_pos\"],\n",
    "    tablefmt=\"pipe\",\n",
    "    floatfmt=\".4f\",\n",
    "    showindex=False,\n",
    ")\n",
    "print(\"Top 20 entries for C-C pair with O3' and OP2 atoms:\")\n",
    "print(table_cc)"
   ]
  },
  {
   "cell_type": "markdown",
   "metadata": {},
   "source": [
    "data/pdbs_w_2bp/ACCC_GACU/TWOWAY.3WBM.2-2.GACU-ACCC.0.pdb<br>\n",
    "data/pdbs_w_2bp/ACU_ACU/NWAY.5AY2.-1-0-1.U-AC-ACU.0.pdb<br>\n",
    "data/pdbs_w_2bp/CCCG_CCCG/NWAY.5EW4.0-0-2.CG-CC-CCCG.0.pdb<br>"
   ]
  },
  {
   "cell_type": "code",
   "execution_count": 143,
   "metadata": {},
   "outputs": [
    {
     "name": "stdout",
     "output_type": "stream",
     "text": [
      "0.6365635588287754\n"
     ]
    },
    {
     "data": {
      "image/png": "[encoded data removed]",
      "text/plain": [
       "<Figure size 400x300 with 1 Axes>"
      ]
     },
     "metadata": {},
     "output_type": "display_data"
    }
   ],
   "source": [
    "# Create scatter plot\n",
    "fig, ax = plt.subplots(figsize=(2, 1.5), dpi=200)\n",
    "\n",
    "# Call the function with the dataframe\n",
    "r2 = create_scatter_plot_w_regression(df_corr_data_cc, ax, \"distance\", \"ln_r_data_mean\")\n",
    "\n",
    "ax.set_xlabel(\"C-C O3'-OP2' Distance\")\n",
    "ax.set_ylabel(\"Ln(Avg. Mut. Frac.)\")\n",
    "format_small_plot(ax)\n",
    "print(r2)"
   ]
  },
  {
   "cell_type": "markdown",
   "metadata": {},
   "source": [
    "## C-U correlations"
   ]
  },
  {
   "cell_type": "code",
   "execution_count": 144,
   "metadata": {},
   "outputs": [
    {
     "name": "stdout",
     "output_type": "stream",
     "text": [
      "Top 20 atom pairs for C-C:\n",
      "|      | Atom 1   | Atom 2   |     R2 |   Count |\n",
      "|-----:|:---------|:---------|-------:|--------:|\n",
      "| 2060 | N4       | N3       | 0.3998 |      37 |\n",
      "| 2207 | OP2      | OP1      | 0.3494 |      37 |\n",
      "| 2209 | OP2      | P        | 0.3332 |      37 |\n",
      "| 2208 | OP2      | OP2      | 0.3251 |      37 |\n",
      "| 2227 | P        | OP1      | 0.3238 |      37 |\n",
      "| 2228 | P        | OP2      | 0.3158 |      37 |\n",
      "| 1920 | C4       | N3       | 0.3145 |      37 |\n",
      "| 2188 | OP1      | OP2      | 0.3123 |      37 |\n",
      "| 2229 | P        | P        | 0.3066 |      37 |\n",
      "| 2187 | OP1      | OP1      | 0.2952 |      37 |\n",
      "| 2189 | OP1      | P        | 0.2815 |      37 |\n",
      "| 2040 | N3       | N3       | 0.2744 |      37 |\n",
      "| 2031 | N3       | C2       | 0.2560 |      37 |\n",
      "| 2196 | OP2      | C5       | 0.2551 |      37 |\n",
      "| 2071 | O2       | C2       | 0.2501 |      37 |\n",
      "| 2081 | O2       | O2       | 0.2429 |      37 |\n",
      "| 2079 | O2       | N1       | 0.2326 |      37 |\n",
      "| 2038 | N3       | C6       | 0.2312 |      37 |\n",
      "| 1851 | C2       | C2       | 0.2295 |      37 |\n",
      "| 1860 | C2       | N3       | 0.2283 |      37 |\n"
     ]
    }
   ],
   "source": [
    "# Filter for C-C pair and sort by r2 in descending order\n",
    "df_cu = df_corr[df_corr[\"pair\"] == \"C-U\"].sort_values(by=\"r2\", ascending=False)\n",
    "# Select top 20 rows\n",
    "top_20_cu = df_cu.head(20)\n",
    "# Create a table using tabulate\n",
    "table = tabulate(\n",
    "    top_20_cu[[\"atom1\", \"atom2\", \"r2\", \"count\"]],\n",
    "    headers=[\"Atom 1\", \"Atom 2\", \"R2\", \"Count\"],\n",
    "    tablefmt=\"pipe\",\n",
    "    floatfmt=\".4f\",\n",
    ")\n",
    "print(\"Top 20 atom pairs for C-C:\")\n",
    "print(table)"
   ]
  },
  {
   "cell_type": "code",
   "execution_count": 145,
   "metadata": {},
   "outputs": [],
   "source": [
    "df_corr_data_cu = df_corr_data.query(\n",
    "    'pair == \"C-U\" and atom1 == \"N4\" and atom2 == \"N3\"'\n",
    ").copy()\n",
    "df_corr_data_cu.sort_values(by=\"distance\", ascending=False, inplace=True)"
   ]
  },
  {
   "cell_type": "code",
   "execution_count": 146,
   "metadata": {},
   "outputs": [
    {
     "name": "stdout",
     "output_type": "stream",
     "text": [
      "Top 20 entries for C-C pair with O3' and OP2 atoms:\n",
      "| PDB                                                                 |   Distance |   ln_r_data |   pdb_r_pos |\n",
      "|:--------------------------------------------------------------------|-----------:|------------:|------------:|\n",
      "| data/pdbs_w_2bp/CUAAC_GGACG/TWOWAY.3IGI.3-3.GGACG-CUAAC.0.pdb       |     5.1800 |     -3.1334 |          15 |\n",
      "| data/pdbs_w_2bp/UUCG_UUCG/NWAY.4ERD.0-0-0-0.UU-CG-UU-CG.0.pdb       |     4.8300 |     -4.1104 |          13 |\n",
      "| data/pdbs_w_2bp/GUA_UCC/TWOWAY.6SPB.1-1.UCC-GUA.0.pdb               |     4.8100 |     -5.0877 |          11 |\n",
      "| data/pdbs_w_2bp/UUCG_UUCG/NWAY.1QBP.-1-1-2.G-UUC-UUCG.0.pdb         |     4.8100 |     -4.2509 |           5 |\n",
      "| data/pdbs_w_2bp/UUCG_UUCG/TWOWAY.1QBP.2-2.UUCG-UUCG.1.pdb           |     4.8000 |     -4.1104 |          13 |\n",
      "| data/pdbs_w_2bp/UUCG_UUCG/NWAY.4ERD.0-0-0-0.UU-CG-UU-CG.0.pdb       |     4.8000 |     -4.2509 |           5 |\n",
      "| data/pdbs_w_2bp/CCC_GUG/NWAY.4BXX.1-0-0-0.CCC-DG-DG-DT.0.pdb        |     4.7500 |     -5.1670 |           4 |\n",
      "| data/pdbs_w_2bp/UUCG_UUCG/NWAY.422D.-1-1-2.G-UUC-UUCG.0.pdb         |     4.7200 |     -4.1104 |          13 |\n",
      "| data/pdbs_w_2bp/UUCG_UUCG/NWAY.1QBP.-1-1-2.G-UUC-UUCG.0.pdb         |     4.7000 |     -4.1104 |          13 |\n",
      "| data/pdbs_w_2bp/ACA_UUU/TWOWAY.5XYI.1-1.ACA-UUU.0.pdb               |     4.6900 |     -4.9300 |           4 |\n",
      "| data/pdbs_w_2bp/ACU_AUU/TWOWAY.6QKL.1-1.AUU-ACU.0.pdb               |     4.5800 |     -4.7448 |           4 |\n",
      "| data/pdbs_w_2bp/UUCG_UUCG/NWAY.422D.-1-1-2.G-UUC-UUCG.0.pdb         |     4.5300 |     -4.2509 |           5 |\n",
      "| data/pdbs_w_2bp/UUCG_UUCG/TWOWAY.1QBP.2-2.UUCG-UUCG.0.pdb           |     4.4900 |     -4.2509 |           5 |\n",
      "| data/pdbs_w_2bp/UUCG_UUCG/TWOWAY.1QBP.2-2.UUCG-UUCG.0.pdb           |     4.4800 |     -4.1104 |          13 |\n",
      "| data/pdbs_w_2bp/CCC_GUG/TWOWAY.4JYA.1-1.CCC-GUG.0.pdb               |     4.4700 |     -5.1670 |           4 |\n",
      "| data/pdbs_w_2bp/CCUG_CCUG/NWAY.4K27.-1--1--1-1-0.C-C-C-CUG-UG.0.pdb |     4.4600 |     -5.6385 |          12 |\n",
      "| data/pdbs_w_2bp/UUCG_UUCG/TWOWAY.1ICG.2-2.UUCG-UUCG.0.pdb           |     4.4600 |     -4.2509 |           5 |\n",
      "| data/pdbs_w_2bp/UUCG_UUCG/TWOWAY.1ICG.2-2.UUCG-UUCG.0.pdb           |     4.4200 |     -4.1104 |          13 |\n",
      "| data/pdbs_w_2bp/CCG_UUG/TWOWAY.6OKK.1-1.UUG-CCG.0.pdb               |     4.3900 |     -5.0097 |           4 |\n",
      "| data/pdbs_w_2bp/CCG_UUG/TWOWAY.3J7A.1-1.UUG-CCG.0.pdb               |     4.3900 |     -5.0097 |           4 |\n",
      "| data/pdbs_w_2bp/CCG_CUG/TWOWAY.3RW6.1-1.CCG-CUG.1.pdb               |     4.3700 |     -4.5444 |           4 |\n",
      "| data/pdbs_w_2bp/AUG_CCU/TWOWAY.6OKK.1-1.AUG-CCU.1.pdb               |     4.3400 |     -5.3324 |          11 |\n",
      "| data/pdbs_w_2bp/AUG_CCU/TWOWAY.3J7A.1-1.AUG-CCU.1.pdb               |     4.3400 |     -5.3324 |          11 |\n",
      "| data/pdbs_w_2bp/UUCG_UUCG/TWOWAY.1QBP.2-2.UUCG-UUCG.1.pdb           |     4.3400 |     -4.2509 |           5 |\n",
      "| data/pdbs_w_2bp/CCC_GUG/NWAY.3PO2.1-0-0-0.CCC-DG-DG-DT.0.pdb        |     4.3200 |     -5.1670 |           4 |\n",
      "| data/pdbs_w_2bp/GCC_GUC/TWOWAY.6YSI.1-1.GUC-GCC.0.pdb               |     4.3100 |     -4.8309 |           4 |\n",
      "| data/pdbs_w_2bp/ACCGAA_UGUU/TWOWAY.5XXU.2-4.UGUU-ACCGAA.0.pdb       |     4.1700 |     -3.8625 |           4 |\n",
      "| data/pdbs_w_2bp/GUAAC_GCCC/TWOWAY.3LOA.2-3.GCCC-GUAAC.0.pdb         |     4.1400 |     -3.8309 |          14 |\n",
      "| data/pdbs_w_2bp/GAUG_CCC/TWOWAY.4N0T.1-2.CCC-GAUG.0.pdb             |     4.0600 |     -3.9216 |          12 |\n",
      "| data/pdbs_w_2bp/CCUG_CCUG/NWAY.4K27.0-2-0.UG-CCUG-CC.0.pdb          |     4.0600 |     -5.6385 |          12 |\n",
      "| data/pdbs_w_2bp/CCUG_CCUG/NWAY.4K27.-1--1--1-1-0.C-C-C-CUG-UG.0.pdb |     3.9800 |     -5.8175 |           4 |\n",
      "| data/pdbs_w_2bp/CCUG_CCUG/TWOWAY.4K27.2-2.CCUG-CCUG.0.pdb           |     3.8000 |     -5.6385 |          12 |\n",
      "| data/pdbs_w_2bp/CCUG_CCUG/TWOWAY.4K27.2-2.CCUG-CCUG.0.pdb           |     3.7800 |     -5.8175 |           4 |\n",
      "| data/pdbs_w_2bp/AUG_CCU/TWOWAY.3J7A.1-1.AUG-CCU.0.pdb               |     3.7500 |     -5.3324 |          11 |\n",
      "| data/pdbs_w_2bp/AUG_CCU/TWOWAY.6OKK.1-1.AUG-CCU.0.pdb               |     3.7500 |     -5.3324 |          11 |\n",
      "| data/pdbs_w_2bp/AUCU_AUUU/TWOWAY.6FF4.2-2.AUCU-AUUU.0.pdb           |     3.6500 |     -5.9549 |           5 |\n",
      "| data/pdbs_w_2bp/CCUG_CCUG/NWAY.4K27.0-2-0.UG-CCUG-CC.0.pdb          |     3.4700 |     -5.8175 |           4 |\n"
     ]
    }
   ],
   "source": [
    "# Create a table using tabulate for A-A pair with N1 and O2' atoms\n",
    "table_cu = tabulate(\n",
    "    df_corr_data_cu[[\"pdb_name\", \"distance\", \"ln_r_data_mean\", \"pdb_r_pos\"]],\n",
    "    headers=[\"PDB\", \"Distance\", \"ln_r_data\", \"pdb_r_pos\"],\n",
    "    tablefmt=\"pipe\",\n",
    "    floatfmt=\".4f\",\n",
    "    showindex=False,\n",
    ")\n",
    "print(\"Top 20 entries for C-C pair with O3' and OP2 atoms:\")\n",
    "print(table_cu)"
   ]
  },
  {
   "cell_type": "code",
   "execution_count": 147,
   "metadata": {},
   "outputs": [
    {
     "name": "stdout",
     "output_type": "stream",
     "text": [
      "0.39977757040950834\n"
     ]
    },
    {
     "data": {
      "image/png": "[encoded data removed]",
      "text/plain": [
       "<Figure size 400x300 with 1 Axes>"
      ]
     },
     "metadata": {},
     "output_type": "display_data"
    }
   ],
   "source": [
    "# Create scatter plot\n",
    "fig, ax = plt.subplots(figsize=(2, 1.5), dpi=200)\n",
    "\n",
    "# Call the function with the dataframe\n",
    "r2 = create_scatter_plot_w_regression(df_corr_data_cu, ax, \"distance\", \"ln_r_data_mean\")\n",
    "\n",
    "ax.set_xlabel(\"C-U N4-N3 Distance\")\n",
    "ax.set_ylabel(\"Ln(Avg. Mut. Frac.)\")\n",
    "format_small_plot(ax)\n",
    "print(r2)"
   ]
  },
  {
   "cell_type": "markdown",
   "metadata": {},
   "source": [
    "# Reactivity ratio vs distance"
   ]
  },
  {
   "cell_type": "markdown",
   "metadata": {},
   "source": [
    "## A-A"
   ]
  },
  {
   "cell_type": "code",
   "execution_count": 148,
   "metadata": {},
   "outputs": [
    {
     "name": "stdout",
     "output_type": "stream",
     "text": [
      "Top 20 atom pairs for A-A:\n",
      "|     | Atom 1   | Atom 2   |     R2 |   Count |\n",
      "|----:|:---------|:---------|-------:|--------:|\n",
      "| 338 | O2'      | C6       | 0.3415 |      66 |\n",
      "| 342 | O2'      | N6       | 0.3330 |      66 |\n",
      "| 336 | O2'      | C5       | 0.3262 |      66 |\n",
      "| 343 | O2'      | N7       | 0.2817 |      66 |\n",
      "| 350 | O2'      | OP2      | 0.2793 |      66 |\n",
      "|  56 | C2'      | N6       | 0.2778 |      69 |\n",
      "|  52 | C2'      | C6       | 0.2777 |      69 |\n",
      "|  92 | C4       | C4       | 0.2698 |      35 |\n",
      "| 340 | O2'      | N1       | 0.2687 |      66 |\n",
      "| 248 | N3       | C5       | 0.2682 |      69 |\n",
      "|  42 | C2       | OP2      | 0.2620 |      69 |\n",
      "| 275 | N6       | N3       | 0.2620 |      69 |\n",
      "| 334 | O2'      | C4       | 0.2567 |      66 |\n",
      "| 254 | N3       | N6       | 0.2564 |      69 |\n",
      "| 279 | N6       | O2'      | 0.2549 |      66 |\n",
      "| 339 | O2'      | C8       | 0.2548 |      66 |\n",
      "| 262 | N3       | OP2      | 0.2517 |      69 |\n",
      "| 322 | N9       | N9       | 0.2476 |      35 |\n",
      "| 250 | N3       | C6       | 0.2471 |      69 |\n",
      "| 115 | C4'      | C4'      | 0.2434 |      35 |\n"
     ]
    }
   ],
   "source": [
    "# Filter for A-A pair and sort by r2 in descending order\n",
    "df_aa = df_ratio_corr[df_ratio_corr[\"pair\"] == \"A-A\"].sort_values(\n",
    "    by=\"r2\", ascending=False\n",
    ")\n",
    "# Select top 20 rows\n",
    "top_20_aa = df_aa.head(20)\n",
    "# Create a table using tabulate\n",
    "table = tabulate(\n",
    "    top_20_aa[[\"atom1\", \"atom2\", \"r2\", \"count\"]],\n",
    "    headers=[\"Atom 1\", \"Atom 2\", \"R2\", \"Count\"],\n",
    "    tablefmt=\"pipe\",\n",
    "    floatfmt=\".4f\",\n",
    ")\n",
    "print(\"Top 20 atom pairs for A-A:\")\n",
    "print(table)"
   ]
  },
  {
   "cell_type": "code",
   "execution_count": 149,
   "metadata": {},
   "outputs": [],
   "source": [
    "df_ratio_corr_data_aa = df_ratio_corr_data.query(\n",
    "    'pair == \"A-A\" and atom1 == \"O2\\'\" and atom2 == \"C6\"'\n",
    ").copy()\n",
    "df_ratio_corr_data_aa.sort_values(by=\"distance\", ascending=False, inplace=True)"
   ]
  },
  {
   "cell_type": "code",
   "execution_count": 150,
   "metadata": {},
   "outputs": [
    {
     "name": "stdout",
     "output_type": "stream",
     "text": [
      "| PDB                                                                  |   Distance |   ratio |   pdb_r_pos |\n",
      "|:---------------------------------------------------------------------|-----------:|--------:|------------:|\n",
      "| data/pdbs_w_2bp/CGACGAAG_CAGAG/TWOWAY.4KQY.3-6.CAGAG-CGACGAAG.0.pdb  |    12.7100 |  0.7952 |           9 |\n",
      "| data/pdbs_w_2bp/GAAAU_ACAC/TWOWAY.4YAZ.2-3.ACAC-GAAAU.1.pdb          |    11.8900 |  0.9520 |           6 |\n",
      "| data/pdbs_w_2bp/AAACG_CUAU/TWOWAY.1NJP.2-3.CUAU-AAACG.0.pdb          |    11.8800 |  0.6156 |          14 |\n",
      "| data/pdbs_w_2bp/CAA_UAG/TWOWAY.6N7R.1-1.UAG-CAA.0.pdb                |    11.6300 |  1.0406 |           4 |\n",
      "| data/pdbs_w_2bp/CAG_UAG/TWOWAY.5UNE.1-1.UAG-CAG.0.pdb                |    11.5200 |  1.5526 |          11 |\n",
      "| data/pdbs_w_2bp/GAAGAAG_CGUAAC/TWOWAY.1NJP.4-5.CGUAAC-GAAGAAG.0.pdb  |    11.3600 |  0.8313 |          18 |\n",
      "| data/pdbs_w_2bp/GGGAAAG_UAACAC/NWAY.2R8S.5-2-0.GGGAAAG-UAAC-AC.0.pdb |    11.3400 |  0.8854 |           7 |\n",
      "| data/pdbs_w_2bp/GAGAAC_GAC/TWOWAY.1NJP.4-1.GAGAAC-GAC.0.pdb          |    11.3100 |  1.1014 |           7 |\n",
      "| data/pdbs_w_2bp/GAC_GAC/TWOWAY.5H1K.1-1.GAC-GAC.0.pdb                |    11.2800 |  0.9895 |          11 |\n",
      "| data/pdbs_w_2bp/AAACG_CUAU/TWOWAY.4IOA.2-3.CUAU-AAACG.0.pdb          |    11.2600 |  0.6156 |          14 |\n",
      "| data/pdbs_w_2bp/GAAG_CAC/TWOWAY.6DME.1-2.CAC-GAAG.0.pdb              |    11.2200 |  0.8635 |          12 |\n",
      "| data/pdbs_w_2bp/CAG_CAG/TWOWAY.3NJ7.1-1.CAG-CAG.0.pdb                |    11.2200 |  1.0383 |           4 |\n",
      "| data/pdbs_w_2bp/GGGAAAG_UAACAC/NWAY.2R8S.5-2-0.GGGAAAG-UAAC-AC.0.pdb |    11.1800 |  0.5345 |          16 |\n",
      "| data/pdbs_w_2bp/AAU_GAU/TWOWAY.6SWD.1-1.GAU-AAU.0.pdb                |    11.0500 |  0.9849 |          11 |\n",
      "| data/pdbs_w_2bp/AAAG_CGAU/TWOWAY.5O5J.2-2.AAAG-CGAU.0.pdb            |    10.9700 |  0.6346 |          13 |\n",
      "| data/pdbs_w_2bp/UAA_UAG/TWOWAY.6NEQ.1-1.UAG-UAA.0.pdb                |    10.9700 |  0.6969 |          11 |\n",
      "| data/pdbs_w_2bp/CAG_UAG/TWOWAY.5UNE.1-1.CAG-UAG.0.pdb                |    10.9600 |  1.5526 |          11 |\n",
      "| data/pdbs_w_2bp/GACG_UAC/TWOWAY.4IOA.1-2.UAC-GACG.0.pdb              |    10.8800 |  0.9610 |           4 |\n",
      "| data/pdbs_w_2bp/AAC_GAU/TWOWAY.7LMA.1-1.GAU-AAC.0.pdb                |    10.8800 |  0.9293 |          11 |\n",
      "| data/pdbs_w_2bp/AAG_CAU/NWAY.3HOY.1-0-0-0.AAG-DA-DC-DT.0.pdb         |    10.5800 |  1.0300 |           4 |\n",
      "| data/pdbs_w_2bp/AGAAA_UAAU/TWOWAY.6QKL.2-3.UAAU-AGAAA.0.pdb          |    10.5200 |  0.7288 |           5 |\n",
      "| data/pdbs_w_2bp/UAUGUAG_UGAAA/TWOWAY.6YS3.5-3.UAUGUAG-UGAAA.0.pdb    |    10.4300 |  0.8628 |          17 |\n",
      "| data/pdbs_w_2bp/GACG_UAC/TWOWAY.4IOA.1-2.UAC-GACG.0.pdb              |    10.4200 |  1.0406 |          12 |\n",
      "| data/pdbs_w_2bp/CAG_CAG/TWOWAY.4J50.1-1.CAG-CAG.1.pdb                |    10.3700 |  1.0383 |           4 |\n",
      "| data/pdbs_w_2bp/CAG_CAG/TWOWAY.4J50.1-1.CAG-CAG.2.pdb                |    10.3700 |  0.9631 |          11 |\n",
      "| data/pdbs_w_2bp/GUAAG_UAUC/TWOWAY.6SPB.3-2.GUAAG-UAUC.0.pdb          |    10.2700 |  0.8262 |          13 |\n",
      "| data/pdbs_w_2bp/CAG_CAG/TWOWAY.4J50.1-1.CAG-CAG.0.pdb                |    10.2100 |  1.0383 |           4 |\n",
      "| data/pdbs_w_2bp/CAG_CAG/TWOWAY.4J50.1-1.CAG-CAG.0.pdb                |    10.2100 |  0.9631 |          11 |\n",
      "| data/pdbs_w_2bp/GUAAG_UAUC/TWOWAY.6YS3.3-2.GUAAG-UAUC.0.pdb          |    10.1200 |  1.2103 |           5 |\n",
      "| data/pdbs_w_2bp/UAAG_CAA/TWOWAY.6N7R.1-2.CAA-UAAG.0.pdb              |    10.1000 |  0.8778 |          12 |\n",
      "| data/pdbs_w_2bp/UAAG_CAA/TWOWAY.6N7R.1-2.CAA-UAAG.0.pdb              |    10.0600 |  1.1393 |           4 |\n",
      "| data/pdbs_w_2bp/GUAAG_UAUC/TWOWAY.6YS3.3-2.GUAAG-UAUC.0.pdb          |    10.0400 |  0.8262 |          13 |\n",
      "| data/pdbs_w_2bp/CAG_CAG/TWOWAY.4J50.1-1.CAG-CAG.1.pdb                |     9.8700 |  0.9631 |          11 |\n",
      "| data/pdbs_w_2bp/CAG_CAG/TWOWAY.4J50.1-1.CAG-CAG.2.pdb                |     9.8700 |  1.0383 |           4 |\n",
      "| data/pdbs_w_2bp/UUAGUAC_GGAAUA/NWAY.1UN6.2-5-0.AAUA-UUAGUAC-GG.0.pdb |     9.6500 |  0.7640 |          17 |\n",
      "| data/pdbs_w_2bp/GAUGAAA_UAACC/NWAY.5XTM.3-3-0.UGAAA-UAACC-GA.0.pdb   |     9.6500 |  1.0259 |           7 |\n",
      "| data/pdbs_w_2bp/UAUGUAG_UGAAA/TWOWAY.6YS3.5-3.UAUGUAG-UGAAA.0.pdb    |     9.6400 |  1.1591 |           4 |\n",
      "| data/pdbs_w_2bp/GAAGAAG_CGUAAC/TWOWAY.1NJP.4-5.CGUAAC-GAAGAAG.0.pdb  |     9.5900 |  1.1681 |           5 |\n",
      "| data/pdbs_w_2bp/AAU_GAU/TWOWAY.6SWD.1-1.GAU-AAU.0.pdb                |     9.5900 |  1.0153 |           4 |\n",
      "| data/pdbs_w_2bp/GGAGAAG_CGUAAC/TWOWAY.5XYM.4-5.CGUAAC-GGAGAAG.0.pdb  |     9.5800 |  0.8427 |          17 |\n",
      "| data/pdbs_w_2bp/GUAAG_UAUC/TWOWAY.6SPB.3-2.GUAAG-UAUC.0.pdb          |     9.5100 |  1.2103 |           5 |\n",
      "| data/pdbs_w_2bp/AAC_GAU/TWOWAY.7LMA.1-1.GAU-AAC.0.pdb                |     9.3900 |  1.0761 |           4 |\n",
      "| data/pdbs_w_2bp/CAG_UAG/TWOWAY.5UNE.1-1.CAG-UAG.0.pdb                |     9.3300 |  0.6441 |           4 |\n",
      "| data/pdbs_w_2bp/GAAAU_ACAC/TWOWAY.4YAZ.2-3.ACAC-GAAAU.1.pdb          |     9.1600 |  1.0504 |          14 |\n",
      "| data/pdbs_w_2bp/GAAGAAG_CGUAAC/TWOWAY.1NJP.4-5.CGUAAC-GAAGAAG.0.pdb  |     9.1200 |  0.8561 |          17 |\n",
      "| data/pdbs_w_2bp/GGAGAAG_CGUAAC/TWOWAY.6YS3.4-5.CGUAAC-GGAGAAG.0.pdb  |     9.0500 |  0.8427 |          17 |\n",
      "| data/pdbs_w_2bp/CAG_CAG/TWOWAY.3NJ7.1-1.CAG-CAG.0.pdb                |     9.0100 |  0.9631 |          11 |\n",
      "| data/pdbs_w_2bp/GGAGAAG_CGUAAC/TWOWAY.6SPB.4-5.CGUAAC-GGAGAAG.0.pdb  |     8.9700 |  0.8427 |          17 |\n",
      "| data/pdbs_w_2bp/GAAG_CAC/TWOWAY.6DME.1-2.CAC-GAAG.0.pdb              |     8.9700 |  1.1581 |           4 |\n",
      "| data/pdbs_w_2bp/GAC_GAC/TWOWAY.5H1K.1-1.GAC-GAC.0.pdb                |     8.7800 |  1.0106 |           4 |\n",
      "| data/pdbs_w_2bp/UUAGUAC_GGAAUA/NWAY.1UN6.2-5-0.AAUA-UUAGUAC-GG.0.pdb |     8.7600 |  1.3089 |           5 |\n",
      "| data/pdbs_w_2bp/GGAGAAG_CGUAAC/TWOWAY.6SPB.4-5.CGUAAC-GGAGAAG.0.pdb  |     8.6600 |  1.1866 |           5 |\n",
      "| data/pdbs_w_2bp/GGAGAAG_CGUAAC/TWOWAY.5XYM.4-5.CGUAAC-GGAGAAG.0.pdb  |     8.6000 |  1.1866 |           5 |\n",
      "| data/pdbs_w_2bp/GGAGAAG_CGUAAC/TWOWAY.6YS3.4-5.CGUAAC-GGAGAAG.0.pdb  |     8.3700 |  1.1866 |           5 |\n",
      "| data/pdbs_w_2bp/CAA_UAG/TWOWAY.6N7R.1-1.UAG-CAA.0.pdb                |     8.3300 |  0.9610 |          11 |\n",
      "| data/pdbs_w_2bp/CAG_UAG/TWOWAY.5UNE.1-1.UAG-CAG.0.pdb                |     7.9000 |  0.6441 |           4 |\n",
      "| data/pdbs_w_2bp/AGAAA_UAAU/TWOWAY.6QKL.2-3.UAAU-AGAAA.0.pdb          |     7.2400 |  1.3721 |          13 |\n",
      "| data/pdbs_w_2bp/CGACGAAG_CAGAG/TWOWAY.4KQY.3-6.CAGAG-CGACGAAG.0.pdb  |     5.3500 |  1.2575 |          16 |\n",
      "| data/pdbs_w_2bp/GAAGAAG_CGUAAC/TWOWAY.1NJP.4-5.CGUAAC-GAAGAAG.0.pdb  |     4.6500 |  1.2029 |           4 |\n",
      "| data/pdbs_w_2bp/GGGAAAG_UAACAC/NWAY.2R8S.5-2-0.GGGAAAG-UAAC-AC.0.pdb |     4.3100 |  1.1294 |          15 |\n",
      "| data/pdbs_w_2bp/GAGAAC_GAC/TWOWAY.1NJP.4-1.GAGAAC-GAC.0.pdb          |     4.1500 |  0.9079 |          14 |\n",
      "| data/pdbs_w_2bp/AAACG_CUAU/TWOWAY.4IOA.2-3.CUAU-AAACG.0.pdb          |     4.0600 |  1.6243 |           4 |\n",
      "| data/pdbs_w_2bp/UAA_UAG/TWOWAY.6NEQ.1-1.UAG-UAA.0.pdb                |     3.8500 |  1.4350 |           4 |\n",
      "| data/pdbs_w_2bp/GGGAAAG_UAACAC/NWAY.2R8S.5-2-0.GGGAAAG-UAAC-AC.0.pdb |     3.8500 |  1.8707 |           6 |\n",
      "| data/pdbs_w_2bp/AAAG_CGAU/TWOWAY.5O5J.2-2.AAAG-CGAU.0.pdb            |     3.8000 |  1.5759 |           4 |\n",
      "| data/pdbs_w_2bp/AAACG_CUAU/TWOWAY.1NJP.2-3.CUAU-AAACG.0.pdb          |     3.6900 |  1.6243 |           4 |\n"
     ]
    }
   ],
   "source": [
    "# Create a table using tabulate for A-A pair with N1 and O2' atoms\n",
    "table_aa = tabulate(\n",
    "    df_ratio_corr_data_aa[[\"pdb_name\", \"distance\", \"ratio\", \"pdb_r_pos\"]],\n",
    "    headers=[\"PDB\", \"Distance\", \"ratio\", \"pdb_r_pos\"],\n",
    "    tablefmt=\"pipe\",\n",
    "    floatfmt=\".4f\",\n",
    "    showindex=False,\n",
    ")\n",
    "print(table_aa)"
   ]
  },
  {
   "cell_type": "markdown",
   "metadata": {},
   "source": [
    "data/pdbs_w_2bp/AAACG_CUAU/TWOWAY.1NJP.2-3.CUAU-AAACG.0.pdb<br>\n",
    "data/pdbs_w_2bp/UUAGUAC_GGAAUA/NWAY.1UN6.2-5-0.AAUA-UUAGUAC-GG.0.pdb<br>\n",
    "data/pdbs_w_2bp/CGACGAAG_CAGAG/TWOWAY.4KQY.3-6.CAGAG-CGACGAAG.0.pdb\n"
   ]
  },
  {
   "cell_type": "code",
   "execution_count": 151,
   "metadata": {},
   "outputs": [
    {
     "name": "stdout",
     "output_type": "stream",
     "text": [
      "0.34150858983630217\n",
      "66\n"
     ]
    },
    {
     "data": {
      "image/png": "[encoded data removed]",
      "text/plain": [
       "<Figure size 400x300 with 1 Axes>"
      ]
     },
     "metadata": {},
     "output_type": "display_data"
    }
   ],
   "source": [
    "# Create scatter plot\n",
    "fig, ax = plt.subplots(figsize=(2, 1.5), dpi=200)\n",
    "\n",
    "# Call the function with the dataframe\n",
    "r2 = create_scatter_plot_w_regression(df_ratio_corr_data_aa, ax, \"distance\", \"ratio\")\n",
    "\n",
    "ax.set_xlabel(\"A-A O3'-N6 Distance\")\n",
    "ax.set_ylabel(\"Reactivity Ratio\")\n",
    "format_small_plot(ax)\n",
    "print(r2)\n",
    "print(len(df_ratio_corr_data_aa))"
   ]
  },
  {
   "cell_type": "markdown",
   "metadata": {},
   "source": [
    "## A-C"
   ]
  },
  {
   "cell_type": "code",
   "execution_count": 152,
   "metadata": {},
   "outputs": [
    {
     "name": "stdout",
     "output_type": "stream",
     "text": [
      "Top 20 atom pairs for A-C:\n",
      "|     | Atom 1   | Atom 2   |     R2 |   Count |\n",
      "|----:|:---------|:---------|-------:|--------:|\n",
      "| 790 | O2'      | OP2      | 0.6532 |      48 |\n",
      "| 548 | C2'      | OP2      | 0.6452 |      48 |\n",
      "| 768 | O2       | OP2      | 0.6301 |      48 |\n",
      "| 791 | O2'      | P        | 0.6266 |      48 |\n",
      "| 812 | O3'      | OP2      | 0.6107 |      48 |\n",
      "| 526 | C2       | OP2      | 0.6072 |      48 |\n",
      "| 504 | C1'      | OP2      | 0.5995 |      48 |\n",
      "| 789 | O2'      | OP1      | 0.5958 |      48 |\n",
      "| 769 | O2       | P        | 0.5936 |      48 |\n",
      "| 549 | C2'      | P        | 0.5916 |      48 |\n",
      "| 570 | C3'      | OP2      | 0.5715 |      48 |\n",
      "| 547 | C2'      | OP1      | 0.5569 |      48 |\n",
      "| 767 | O2       | OP1      | 0.5500 |      48 |\n",
      "| 702 | N1       | OP2      | 0.5459 |      48 |\n",
      "| 813 | O3'      | P        | 0.5407 |      48 |\n",
      "| 614 | C4'      | OP2      | 0.5328 |      48 |\n",
      "| 505 | C1'      | P        | 0.5299 |      48 |\n",
      "| 834 | O4'      | OP2      | 0.5293 |      48 |\n",
      "| 724 | N3       | OP2      | 0.5284 |      48 |\n",
      "| 788 | O2'      | O5'      | 0.5269 |      48 |\n"
     ]
    }
   ],
   "source": [
    "# Filter for A-A pair and sort by r2 in descending order\n",
    "df_ac = df_ratio_corr[df_ratio_corr[\"pair\"] == \"C-A\"].sort_values(\n",
    "    by=\"r2\", ascending=False\n",
    ")\n",
    "# Select top 20 rows\n",
    "top_20_ac = df_ac.head(20)\n",
    "# Create a table using tabulate\n",
    "table = tabulate(\n",
    "    top_20_ac[[\"atom1\", \"atom2\", \"r2\", \"count\"]],\n",
    "    headers=[\"Atom 1\", \"Atom 2\", \"R2\", \"Count\"],\n",
    "    tablefmt=\"pipe\",\n",
    "    floatfmt=\".4f\",\n",
    ")\n",
    "print(\"Top 20 atom pairs for A-C:\")\n",
    "print(table)"
   ]
  },
  {
   "cell_type": "code",
   "execution_count": 153,
   "metadata": {},
   "outputs": [],
   "source": [
    "df_ratio_corr_data_ac = df_ratio_corr_data.query(\n",
    "    'pair == \"C-A\" and atom1 == \"O2\\'\" and atom2 == \"OP2\"'\n",
    ").copy()\n",
    "df_ratio_corr_data_ac.sort_values(by=\"distance\", ascending=False, inplace=True)"
   ]
  },
  {
   "cell_type": "code",
   "execution_count": 154,
   "metadata": {},
   "outputs": [
    {
     "name": "stdout",
     "output_type": "stream",
     "text": [
      "| PDB                                                                |   Distance |   ratio |   pdb_r_pos |\n",
      "|:-------------------------------------------------------------------|-----------:|--------:|------------:|\n",
      "| data/pdbs_w_2bp/GCAC_GGAU/TWOWAY.6ZVI.2-2.GGAU-GCAC.0.pdb          |    18.6300 |  0.4220 |           4 |\n",
      "| data/pdbs_w_2bp/AGGACC_GAGAAU/TWOWAY.5XYM.4-4.AGGACC-GAGAAU.0.pdb  |    17.9000 |  0.7982 |           7 |\n",
      "| data/pdbs_w_2bp/GAUGAAA_UAACC/NWAY.5XTM.3-3-0.UGAAA-UAACC-GA.0.pdb |    17.3700 |  0.9344 |          17 |\n",
      "| data/pdbs_w_2bp/UAG_UCA/TWOWAY.5XXU.1-1.UAG-UCA.0.pdb              |    17.3400 |  1.1878 |          11 |\n",
      "| data/pdbs_w_2bp/GACC_GACC/TWOWAY.1L9A.2-2.GACC-GACC.0.pdb          |    17.1800 |  1.0714 |          13 |\n",
      "| data/pdbs_w_2bp/ACG_CAU/TWOWAY.4M4O.1-1.ACG-CAU.0.pdb              |    17.1600 |  0.9590 |           4 |\n",
      "| data/pdbs_w_2bp/GAA_UCC/TWOWAY.4P95.1-1.GAA-UCC.0.pdb              |    16.5500 |  1.1059 |          11 |\n",
      "| data/pdbs_w_2bp/AAU_ACU/TWOWAY.5D0B.1-1.ACU-AAU.0.pdb              |    16.4000 |  0.8735 |          11 |\n",
      "| data/pdbs_w_2bp/CAC_GCG/TWOWAY.6AGB.1-1.CAC-GCG.0.pdb              |    16.2600 |  0.9205 |          11 |\n",
      "| data/pdbs_w_2bp/CAC_GCG/TWOWAY.6AH3.1-1.CAC-GCG.0.pdb              |    16.0700 |  0.9205 |          11 |\n",
      "| data/pdbs_w_2bp/GACC_GACC/TWOWAY.1D4R.2-2.GACC-GACC.1.pdb          |    15.8900 |  1.0714 |          13 |\n",
      "| data/pdbs_w_2bp/GACC_GACC/TWOWAY.1MFQ.2-2.GACC-GACC.0.pdb          |    15.7900 |  1.1159 |           5 |\n",
      "| data/pdbs_w_2bp/UCACAG_UCACAG/TWOWAY.1KD4.4-4.UCACAG-UCACAG.0.pdb  |    15.7700 |  0.7679 |          16 |\n",
      "| data/pdbs_w_2bp/UCACAG_UCACAG/TWOWAY.1KD4.4-4.UCACAG-UCACAG.0.pdb  |    15.7100 |  0.8263 |           6 |\n",
      "| data/pdbs_w_2bp/CGCAAG_CGCAAG/TWOWAY.6O5F.4-4.CGCAAG-CGCAAG.0.pdb  |    15.5500 |  1.0389 |           5 |\n",
      "| data/pdbs_w_2bp/GACC_GACC/TWOWAY.1D4R.2-2.GACC-GACC.0.pdb          |    15.5400 |  1.0714 |          13 |\n",
      "| data/pdbs_w_2bp/AAAC_GCU/TWOWAY.6NY2.1-2.GCU-AAAC.0.pdb            |    15.4900 |  1.2034 |          12 |\n",
      "| data/pdbs_w_2bp/UCACAG_UCACAG/TWOWAY.1KD5.4-4.UCACAG-UCACAG.0.pdb  |    15.4200 |  0.7679 |          16 |\n",
      "| data/pdbs_w_2bp/UCACAG_UCACAG/TWOWAY.1KD5.4-4.UCACAG-UCACAG.0.pdb  |    15.3500 |  0.8263 |           6 |\n",
      "| data/pdbs_w_2bp/ACC_GAU/TWOWAY.1TFW.1-1.ACC-GAU.0.pdb              |    15.3300 |  1.0949 |           4 |\n",
      "| data/pdbs_w_2bp/AAU_ACU/TWOWAY.1Z7F.1-1.ACU-AAU.0.pdb              |    15.2600 |  0.8735 |          11 |\n",
      "| data/pdbs_w_2bp/CGCAAG_CGCAAG/TWOWAY.6O5F.4-4.CGCAAG-CGCAAG.0.pdb  |    15.1000 |  0.9783 |          15 |\n",
      "| data/pdbs_w_2bp/GACC_GACC/TWOWAY.1MFQ.2-2.GACC-GACC.0.pdb          |    15.1000 |  1.0714 |          13 |\n",
      "| data/pdbs_w_2bp/AAU_ACU/TWOWAY.1Z7F.1-1.AAU-ACU.0.pdb              |    14.9800 |  0.8735 |          11 |\n",
      "| data/pdbs_w_2bp/GCCG_CAC/TWOWAY.1U6B.2-1.GCCG-CAC.0.pdb            |    14.9100 |  1.1366 |           4 |\n",
      "| data/pdbs_w_2bp/GAC_GCC/TWOWAY.6OL3.1-1.GAC-GCC.0.pdb              |    14.8600 |  1.0892 |          11 |\n",
      "| data/pdbs_w_2bp/ACCC_GACU/TWOWAY.3WBM.2-2.GACU-ACCC.0.pdb          |    14.8000 |  1.0685 |           5 |\n",
      "| data/pdbs_w_2bp/GACC_GACC/TWOWAY.1JID.2-2.GACC-GACC.0.pdb          |    14.7800 |  1.0714 |          13 |\n",
      "| data/pdbs_w_2bp/AAC_GCU/TWOWAY.5XXU.1-1.GCU-AAC.0.pdb              |    14.7600 |  0.9550 |          11 |\n",
      "| data/pdbs_w_2bp/ACCC_GACU/NWAY.3WBM.6.ACCCGACU.0.pdb               |    14.5300 |  1.0685 |           5 |\n",
      "| data/pdbs_w_2bp/AAC_GCU/TWOWAY.7JQC.1-1.AAC-GCU.0.pdb              |    14.4000 |  0.9550 |          11 |\n",
      "| data/pdbs_w_2bp/CCC_GAG/TWOWAY.6IA2.1-1.CCC-GAG.0.pdb              |    14.3300 |  1.4045 |           4 |\n",
      "| data/pdbs_w_2bp/GACC_GACC/TWOWAY.1D4R.2-2.GACC-GACC.1.pdb          |    14.2700 |  1.1159 |           5 |\n",
      "| data/pdbs_w_2bp/GAA_UCC/TWOWAY.5XYI.1-1.GAA-UCC.0.pdb              |    14.2500 |  1.1059 |          11 |\n",
      "| data/pdbs_w_2bp/GACC_GACC/TWOWAY.1JID.2-2.GACC-GACC.0.pdb          |    14.1100 |  1.1159 |           5 |\n",
      "| data/pdbs_w_2bp/GACC_GACC/TWOWAY.1D4R.2-2.GACC-GACC.0.pdb          |    14.0200 |  1.1159 |           5 |\n",
      "| data/pdbs_w_2bp/ACGAAU_ACUAU/TWOWAY.6YSI.4-3.ACGAAU-ACUAU.0.pdb    |    13.9400 |  1.4393 |           4 |\n",
      "| data/pdbs_w_2bp/AAU_ACU/TWOWAY.5CCB.1-1.ACU-AAU.0.pdb              |    13.8700 |  0.8735 |          11 |\n",
      "| data/pdbs_w_2bp/CCG_UAG/TWOWAY.5ZTM.1-1.UAG-CCG.0.pdb              |    13.7800 |  1.4402 |           4 |\n",
      "| data/pdbs_w_2bp/GUAAC_GCCC/TWOWAY.3LOA.2-3.GCCC-GUAAC.0.pdb        |    13.7500 |  1.0533 |          13 |\n",
      "| data/pdbs_w_2bp/GACC_GACC/TWOWAY.1L9A.2-2.GACC-GACC.0.pdb          |    13.3500 |  1.1159 |           5 |\n",
      "| data/pdbs_w_2bp/UCACAG_UCACAG/TWOWAY.1KD5.4-4.UCACAG-UCACAG.0.pdb  |    12.0400 |  1.5418 |          14 |\n",
      "| data/pdbs_w_2bp/UCACAG_UCACAG/TWOWAY.1KD5.4-4.UCACAG-UCACAG.0.pdb  |    12.0200 |  1.6692 |           4 |\n",
      "| data/pdbs_w_2bp/AAGCAG_UCAGGU/TWOWAY.1LNT.4-4.UCAGGU-AAGCAG.0.pdb  |    11.8900 |  2.1617 |           6 |\n",
      "| data/pdbs_w_2bp/UCACAG_UCACAG/TWOWAY.1KD4.4-4.UCACAG-UCACAG.0.pdb  |    11.6900 |  1.6692 |           4 |\n",
      "| data/pdbs_w_2bp/UCACAG_UCACAG/TWOWAY.1KD4.4-4.UCACAG-UCACAG.0.pdb  |    11.6500 |  1.5418 |          14 |\n",
      "| data/pdbs_w_2bp/CCAAG_UGCAG/TWOWAY.2R8S.3-3.CCAAG-UGCAG.0.pdb      |    11.3200 |  1.7078 |           4 |\n",
      "| data/pdbs_w_2bp/AAGCAG_UCAGGU/TWOWAY.1LNT.4-4.UCAGGU-AAGCAG.0.pdb  |     9.9200 |  2.0250 |          14 |\n"
     ]
    }
   ],
   "source": [
    "# Create a table using tabulate for A-A pair with N1 and O2' atoms\n",
    "table_ac = tabulate(\n",
    "    df_ratio_corr_data_ac[[\"pdb_name\", \"distance\", \"ratio\", \"pdb_r_pos\"]],\n",
    "    headers=[\"PDB\", \"Distance\", \"ratio\", \"pdb_r_pos\"],\n",
    "    tablefmt=\"pipe\",\n",
    "    floatfmt=\".4f\",\n",
    "    showindex=False,\n",
    ")\n",
    "print(table_ac)"
   ]
  },
  {
   "cell_type": "markdown",
   "metadata": {},
   "source": [
    "data/pdbs_w_2bp/GCAC_GGAU/TWOWAY.6ZVI.2-2.GGAU-GCAC.0.pdb<br>\n",
    "data/pdbs_w_2bp/AAGCAG_UCAGGU/TWOWAY.1LNT.4-4.UCAGGU-AAGCAG.0.pdb<br>"
   ]
  },
  {
   "cell_type": "code",
   "execution_count": 155,
   "metadata": {},
   "outputs": [
    {
     "name": "stdout",
     "output_type": "stream",
     "text": [
      "0.6532282028839683\n"
     ]
    },
    {
     "data": {
      "image/png": "[encoded data removed]",
      "text/plain": [
       "<Figure size 400x300 with 1 Axes>"
      ]
     },
     "metadata": {},
     "output_type": "display_data"
    }
   ],
   "source": [
    "# Create scatter plot\n",
    "fig, ax = plt.subplots(figsize=(2, 1.5), dpi=200)\n",
    "\n",
    "# Call the function with the dataframe\n",
    "r2 = create_scatter_plot_w_regression(df_ratio_corr_data_ac, ax, \"distance\", \"ratio\")\n",
    "\n",
    "ax.set_xlabel(\"C-A O2'-OP2 Distance\")\n",
    "ax.set_ylabel(\"Reactivity Ratio\")\n",
    "format_small_plot(ax)\n",
    "print(r2)"
   ]
  },
  {
   "cell_type": "markdown",
   "metadata": {},
   "source": [
    "## C-C\n"
   ]
  },
  {
   "cell_type": "code",
   "execution_count": 156,
   "metadata": {},
   "outputs": [
    {
     "name": "stdout",
     "output_type": "stream",
     "text": [
      "Top 20 atom pairs for C-C:\n",
      "|      | Atom 1   | Atom 2   |     R2 |   Count |\n",
      "|-----:|:---------|:---------|-------:|--------:|\n",
      "| 1208 | O3'      | C4       | 0.4320 |      35 |\n",
      "| 1222 | O3'      | OP2      | 0.4285 |      35 |\n",
      "|  988 | C3'      | C4       | 0.4202 |      35 |\n",
      "| 1002 | C3'      | OP2      | 0.4175 |      35 |\n",
      "|  968 | C2'      | C4       | 0.4167 |      35 |\n",
      "| 1194 | O2'      | N3       | 0.4161 |      35 |\n",
      "| 1188 | O2'      | C4       | 0.4119 |      35 |\n",
      "| 1214 | O3'      | N3       | 0.4118 |      35 |\n",
      "|  975 | C2'      | N4       | 0.4102 |      35 |\n",
      "| 1122 | N1       | OP2      | 0.4092 |      35 |\n",
      "|  982 | C2'      | OP2      | 0.4087 |      35 |\n",
      "| 1195 | O2'      | N4       | 0.4066 |      35 |\n",
      "| 1210 | O3'      | C5       | 0.4055 |      35 |\n",
      "| 1115 | N1       | N4       | 0.4048 |      35 |\n",
      "|  995 | C3'      | N4       | 0.4044 |      35 |\n",
      "| 1215 | O3'      | N4       | 0.4031 |      35 |\n",
      "|  935 | C1'      | N4       | 0.4024 |      35 |\n",
      "| 1042 | C4'      | OP2      | 0.4008 |      35 |\n",
      "| 1028 | C4'      | C4       | 0.3985 |      35 |\n",
      "|  974 | C2'      | N3       | 0.3983 |      35 |\n",
      "|  955 | C2       | N4       | 0.3968 |      35 |\n",
      "| 1035 | C4'      | N4       | 0.3963 |      35 |\n",
      "|  962 | C2       | OP2      | 0.3962 |      35 |\n",
      "| 1235 | O4'      | N4       | 0.3960 |      35 |\n",
      "| 1142 | N3       | OP2      | 0.3959 |      35 |\n",
      "|  942 | C1'      | OP2      | 0.3943 |      35 |\n",
      "| 1242 | O4'      | OP2      | 0.3907 |      35 |\n",
      "|  928 | C1'      | C4       | 0.3887 |      35 |\n",
      "| 1175 | O2       | N4       | 0.3872 |      35 |\n",
      "| 1202 | O2'      | OP2      | 0.3863 |      35 |\n",
      "|  990 | C3'      | C5       | 0.3840 |      35 |\n",
      "|  970 | C2'      | C5       | 0.3817 |      35 |\n",
      "| 1190 | O2'      | C5       | 0.3807 |      35 |\n",
      "| 1017 | C4       | O2'      | 0.3793 |      35 |\n",
      "| 1157 | N4       | O2'      | 0.3792 |      35 |\n",
      "| 1108 | N1       | C4       | 0.3780 |      35 |\n",
      "| 1135 | N3       | N4       | 0.3758 |      35 |\n",
      "| 1228 | O4'      | C4       | 0.3756 |      35 |\n",
      "| 1137 | N3       | O2'      | 0.3729 |      35 |\n",
      "| 1146 | N4       | C2'      | 0.3703 |      35 |\n",
      "| 1006 | C4       | C2'      | 0.3694 |      35 |\n",
      "| 1168 | O2       | C4       | 0.3682 |      35 |\n",
      "| 1156 | N4       | O2       | 0.3676 |      35 |\n",
      "| 1144 | N4       | C1'      | 0.3673 |      35 |\n",
      "| 1095 | C6       | N4       | 0.3659 |      35 |\n",
      "|  948 | C2       | C4       | 0.3651 |      35 |\n",
      "| 1018 | C4       | O3'      | 0.3647 |      35 |\n",
      "|  994 | C3'      | N3       | 0.3631 |      35 |\n",
      "| 1182 | O2       | OP2      | 0.3627 |      35 |\n",
      "| 1145 | N4       | C2       | 0.3613 |      35 |\n",
      "| 1153 | N4       | N1       | 0.3572 |      35 |\n",
      "| 1057 | C5       | O2'      | 0.3569 |      35 |\n",
      "| 1030 | C4'      | C5       | 0.3545 |      35 |\n",
      "| 1007 | C4       | C3'      | 0.3542 |      35 |\n",
      "| 1102 | C6       | OP2      | 0.3526 |      35 |\n",
      "| 1159 | N4       | O4'      | 0.3524 |      35 |\n",
      "| 1147 | N4       | C3'      | 0.3506 |      35 |\n",
      "| 1058 | C5       | O3'      | 0.3486 |      35 |\n",
      "| 1149 | N4       | C4'      | 0.3483 |      35 |\n",
      "| 1158 | N4       | O3'      | 0.3478 |      35 |\n",
      "| 1004 | C4       | C1'      | 0.3473 |      35 |\n",
      "|  930 | C1'      | C5       | 0.3453 |      35 |\n",
      "| 1016 | C4       | O2       | 0.3452 |      35 |\n",
      "| 1046 | C5       | C2'      | 0.3438 |      35 |\n",
      "| 1126 | N3       | C2'      | 0.3397 |      35 |\n",
      "| 1009 | C4       | C4'      | 0.3395 |      35 |\n",
      "| 1174 | O2       | N3       | 0.3352 |      35 |\n",
      "|  934 | C1'      | N3       | 0.3329 |      35 |\n",
      "| 1075 | C5'      | N4       | 0.3316 |      35 |\n",
      "| 1297 | OP2      | O2'      | 0.3312 |      35 |\n",
      "| 1047 | C5       | C3'      | 0.3311 |      35 |\n",
      "| 1138 | N3       | O3'      | 0.3305 |      35 |\n",
      "| 1170 | O2       | C5       | 0.3305 |      35 |\n",
      "| 1082 | C5'      | OP2      | 0.3304 |      35 |\n",
      "| 1110 | N1       | C5       | 0.3293 |      35 |\n",
      "| 1298 | OP2      | O3'      | 0.3290 |      35 |\n",
      "| 1230 | O4'      | C5       | 0.3274 |      35 |\n",
      "| 1286 | OP2      | C2'      | 0.3269 |      35 |\n",
      "| 1154 | N4       | N3       | 0.3262 |      35 |\n",
      "| 1212 | O3'      | C6       | 0.3262 |      35 |\n",
      "|  950 | C2       | C5       | 0.3249 |      35 |\n",
      "| 1192 | O2'      | C6       | 0.3231 |      35 |\n",
      "| 1019 | C4       | O4'      | 0.3226 |      35 |\n",
      "| 1005 | C4       | C2       | 0.3225 |      35 |\n",
      "| 1013 | C4       | N1       | 0.3182 |      35 |\n",
      "| 1044 | C5       | C1'      | 0.3150 |      35 |\n",
      "| 1287 | OP2      | C3'      | 0.3140 |      35 |\n",
      "| 1056 | C5       | O2       | 0.3140 |      35 |\n",
      "| 1049 | C5       | C4'      | 0.3118 |      35 |\n",
      "| 1284 | OP2      | C1'      | 0.3095 |      35 |\n",
      "| 1034 | C4'      | N3       | 0.3090 |      35 |\n",
      "| 1097 | C6       | O2'      | 0.3056 |      35 |\n",
      "| 1136 | N3       | O2       | 0.3054 |      35 |\n",
      "|  972 | C2'      | C6       | 0.3038 |      35 |\n",
      "| 1289 | OP2      | C4'      | 0.3025 |      35 |\n",
      "| 1296 | OP2      | O2       | 0.3014 |      35 |\n",
      "| 1223 | O3'      | P        | 0.3012 |      35 |\n",
      "|  983 | C2'      | P        | 0.3009 |      35 |\n",
      "| 1128 | N3       | C4       | 0.3000 |      35 |\n",
      "| 1185 | O2'      | C2       | 0.2986 |      35 |\n"
     ]
    }
   ],
   "source": [
    "# Filter for A-A pair and sort by r2 in descending order\n",
    "df_cc = df_ratio_corr[df_ratio_corr[\"pair\"] == \"C-C\"].sort_values(\n",
    "    by=\"r2\", ascending=False\n",
    ")\n",
    "# Select top 20 rows\n",
    "top_20_cc = df_cc.head(100)\n",
    "# Create a table using tabulate\n",
    "table = tabulate(\n",
    "    top_20_cc[[\"atom1\", \"atom2\", \"r2\", \"count\"]],\n",
    "    headers=[\"Atom 1\", \"Atom 2\", \"R2\", \"Count\"],\n",
    "    tablefmt=\"pipe\",\n",
    "    floatfmt=\".4f\",\n",
    ")\n",
    "print(\"Top 20 atom pairs for C-C:\")\n",
    "print(table)"
   ]
  },
  {
   "cell_type": "code",
   "execution_count": 157,
   "metadata": {},
   "outputs": [],
   "source": [
    "df_ratio_corr_data_cc = df_ratio_corr_data.query(\n",
    "    'pair == \"C-C\" and atom1 == \"O3\\'\" and atom2 == \"C4\"'\n",
    ").copy()\n",
    "df_ratio_corr_data_cc.sort_values(by=\"distance\", ascending=False, inplace=True)"
   ]
  },
  {
   "cell_type": "markdown",
   "metadata": {},
   "source": []
  },
  {
   "cell_type": "code",
   "execution_count": 158,
   "metadata": {},
   "outputs": [
    {
     "name": "stdout",
     "output_type": "stream",
     "text": [
      "35\n",
      "| PDB                                                                |   Distance |   ratio |   pdb_r_pos |\n",
      "|:-------------------------------------------------------------------|-----------:|--------:|------------:|\n",
      "| data/pdbs_w_2bp/GCUAAC_GGACCC/NWAY.4QLM.0-4-2.AC-GGACCC-GCUA.0.pdb |    12.3700 |  0.5770 |          17 |\n",
      "| data/pdbs_w_2bp/CGACCA_UCUUAG/TWOWAY.2OIU.4-4.CGACCA-UCUUAG.0.pdb  |    12.2100 |  0.5657 |           7 |\n",
      "| data/pdbs_w_2bp/GCUAAC_GGACCC/NWAY.4QK9.2-4-0.UAAC-GGACCC-GC.0.pdb |    11.9600 |  0.5770 |          17 |\n",
      "| data/pdbs_w_2bp/ACCC_GACU/TWOWAY.3WBM.2-2.GACU-ACCC.0.pdb          |    11.9500 |  0.9859 |          13 |\n",
      "| data/pdbs_w_2bp/CCG_CCG/TWOWAY.1NJP.1-1.CCG-CCG.0.pdb              |    11.8700 |  1.0260 |           4 |\n",
      "| data/pdbs_w_2bp/CCG_CCG/TWOWAY.4IOA.1-1.CCG-CCG.0.pdb              |    11.8100 |  1.0260 |           4 |\n",
      "| data/pdbs_w_2bp/CCCG_CCCG/NWAY.5EW4.0-0-2.CG-CC-CCCG.0.pdb         |    11.7300 |  0.5866 |           5 |\n",
      "| data/pdbs_w_2bp/CCCG_CCCG/NWAY.5EW4.2-0-0.CCCG-CG-CC.0.pdb         |    11.6000 |  0.5866 |           5 |\n",
      "| data/pdbs_w_2bp/ACU_ACU/TWOWAY.1YZ9.1-1.ACU-ACU.0.pdb              |    11.5100 |  1.0500 |           4 |\n",
      "| data/pdbs_w_2bp/ACG_CCU/TWOWAY.7JQC.1-1.CCU-ACG.0.pdb              |    11.4700 |  0.6155 |           4 |\n",
      "| data/pdbs_w_2bp/CCCG_CCCG/NWAY.5EW4.0-0-2.CG-CC-CCCG.0.pdb         |    11.4000 |  0.5466 |          13 |\n",
      "| data/pdbs_w_2bp/ACG_CCU/TWOWAY.4YHW.1-1.ACG-CCU.0.pdb              |    11.3700 |  1.6246 |          11 |\n",
      "| data/pdbs_w_2bp/ACU_ACU/NWAY.5AY2.-1-0-1.U-AC-ACU.0.pdb            |    11.3400 |  0.9524 |          11 |\n",
      "| data/pdbs_w_2bp/CCG_CCG/TWOWAY.4E59.1-1.CCG-CCG.0.pdb              |    11.2800 |  0.9746 |          11 |\n",
      "| data/pdbs_w_2bp/CCG_UCG/TWOWAY.4IOA.1-1.UCG-CCG.0.pdb              |    11.2700 |  0.5510 |          11 |\n",
      "| data/pdbs_w_2bp/ACU_ACU/NWAY.5AY2.-1-0-1.U-AC-ACU.0.pdb            |    11.2000 |  1.0500 |           4 |\n",
      "| data/pdbs_w_2bp/GCUAAC_GGACCC/TWOWAY.4W90.4-4.GCUAAC-GGACCC.0.pdb  |    11.1900 |  0.5770 |          17 |\n",
      "| data/pdbs_w_2bp/CCCG_CCCG/NWAY.5EW4.2-0-0.CCCG-CG-CC.0.pdb         |    11.0400 |  1.8296 |           4 |\n",
      "| data/pdbs_w_2bp/ACG_CCU/TWOWAY.4YHW.1-1.ACG-CCU.0.pdb              |    10.9900 |  0.6155 |           4 |\n",
      "| data/pdbs_w_2bp/UUCUA_UUCUA/TWOWAY.5BTM.3-3.UUCUA-UUCUA.0.pdb      |    10.9600 |  1.0248 |           5 |\n",
      "| data/pdbs_w_2bp/ACCC_GACU/TWOWAY.3WBM.2-2.GACU-ACCC.0.pdb          |    10.4300 |  1.0143 |           4 |\n",
      "| data/pdbs_w_2bp/CCG_CCG/TWOWAY.4E59.1-1.CCG-CCG.0.pdb              |    10.2700 |  1.0260 |           4 |\n",
      "| data/pdbs_w_2bp/CCG_CCG/TWOWAY.4IOA.1-1.CCG-CCG.0.pdb              |     9.9800 |  0.9746 |          11 |\n",
      "| data/pdbs_w_2bp/CCCG_CCCG/NWAY.5EW4.2-0-0.CCCG-CG-CC.0.pdb         |     9.8500 |  0.5466 |          13 |\n",
      "| data/pdbs_w_2bp/ACU_ACU/TWOWAY.1YZ9.1-1.ACU-ACU.0.pdb              |     9.8500 |  0.9524 |          11 |\n",
      "| data/pdbs_w_2bp/ACG_CCU/TWOWAY.7JQC.1-1.CCU-ACG.0.pdb              |     9.7400 |  1.6246 |          11 |\n",
      "| data/pdbs_w_2bp/CCCG_CCCG/NWAY.5EW4.2-0-0.CCCG-CG-CC.0.pdb         |     9.6300 |  1.7048 |          12 |\n",
      "| data/pdbs_w_2bp/UUCUA_UUCUA/TWOWAY.5BTM.3-3.UUCUA-UUCUA.0.pdb      |     9.5400 |  0.9758 |          14 |\n",
      "| data/pdbs_w_2bp/CCG_CCG/TWOWAY.1NJP.1-1.CCG-CCG.0.pdb              |     9.4100 |  0.9746 |          11 |\n",
      "| data/pdbs_w_2bp/GCUAAC_GGACCC/NWAY.4QLM.0-4-2.AC-GGACCC-GCUA.0.pdb |     9.4100 |  1.7333 |           4 |\n",
      "| data/pdbs_w_2bp/CCG_UCG/TWOWAY.4IOA.1-1.UCG-CCG.0.pdb              |     9.2800 |  1.8150 |           4 |\n",
      "| data/pdbs_w_2bp/GCUAAC_GGACCC/NWAY.4QK9.2-4-0.UAAC-GGACCC-GC.0.pdb |     9.1700 |  1.7333 |           4 |\n",
      "| data/pdbs_w_2bp/GCUAAC_GGACCC/TWOWAY.4W90.4-4.GCUAAC-GGACCC.0.pdb  |     9.1200 |  1.7333 |           4 |\n",
      "| data/pdbs_w_2bp/CCCG_CCCG/NWAY.5EW4.0-0-2.CG-CC-CCCG.0.pdb         |     9.1000 |  1.8296 |           4 |\n",
      "| data/pdbs_w_2bp/CCCG_CCCG/NWAY.5EW4.0-0-2.CG-CC-CCCG.0.pdb         |     8.9500 |  1.7048 |          12 |\n"
     ]
    }
   ],
   "source": [
    "table_cc = tabulate(\n",
    "    df_ratio_corr_data_cc[[\"pdb_name\", \"distance\", \"ratio\", \"pdb_r_pos\"]],\n",
    "    headers=[\"PDB\", \"Distance\", \"ratio\", \"pdb_r_pos\"],\n",
    "    tablefmt=\"pipe\",\n",
    "    floatfmt=\".4f\",\n",
    "    showindex=False,\n",
    ")\n",
    "print(len(df_ratio_corr_data_cc))\n",
    "print(table_cc)"
   ]
  },
  {
   "cell_type": "code",
   "execution_count": null,
   "metadata": {},
   "outputs": [],
   "source": []
  },
  {
   "cell_type": "markdown",
   "metadata": {},
   "source": [
    "data/pdbs_w_2bp/CGACCA_UCUUAG/TWOWAY.2OIU.4-4.CGACCA-UCUUAG.0.pdb<br>\n",
    "data/pdbs_w_2bp/UUCUA_UUCUA/TWOWAY.5BTM.3-3.UUCUA-UUCUA.0.pdb<br>\n",
    "data/pdbs_w_2bp/CCCG_CCCG/NWAY.5EW4.0-0-2.CG-CC-CCCG.0.pdb<br>"
   ]
  },
  {
   "cell_type": "code",
   "execution_count": 159,
   "metadata": {},
   "outputs": [
    {
     "name": "stdout",
     "output_type": "stream",
     "text": [
      "0.431990425151461\n"
     ]
    },
    {
     "data": {
      "image/png": "[encoded data removed]",
      "text/plain": [
       "<Figure size 400x300 with 1 Axes>"
      ]
     },
     "metadata": {},
     "output_type": "display_data"
    }
   ],
   "source": [
    "# Create scatter plot\n",
    "fig, ax = plt.subplots(figsize=(2, 1.5), dpi=200)\n",
    "\n",
    "# Call the function with the dataframe\n",
    "r2 = create_scatter_plot_w_regression(df_ratio_corr_data_cc, ax, \"distance\", \"ratio\")\n",
    "\n",
    "ax.set_xlabel(\"C-C O3'-OP2 Distance\")\n",
    "ax.set_ylabel(\"Reactivity Ratio\")\n",
    "format_small_plot(ax)\n",
    "print(r2)"
   ]
  },
  {
   "cell_type": "markdown",
   "metadata": {},
   "source": [
    "# Supplemental Figure 10"
   ]
  },
  {
   "cell_type": "code",
   "execution_count": 188,
   "metadata": {},
   "outputs": [
    {
     "data": {
      "image/png": "[encoded data removed]",
      "text/plain": [
       "<Figure size 1050x262.5 with 4 Axes>"
      ]
     },
     "metadata": {},
     "output_type": "display_data"
    }
   ],
   "source": [
    "# Create figure with overall size\n",
    "fig = plt.figure(figsize=(7.00, 1.75), dpi=150)\n",
    "\n",
    "# Create GridSpec with equal width ratios and spacing between subplots\n",
    "gs = gridspec.GridSpec(1, 4, figure=fig)\n",
    "\n",
    "# Add subplots with specified sizes and make them square\n",
    "ax1 = fig.add_subplot(gs[0, 0])\n",
    "ax2 = fig.add_subplot(gs[0, 1])\n",
    "ax3 = fig.add_subplot(gs[0, 2])\n",
    "ax4 = fig.add_subplot(gs[0, 3])\n",
    "\n",
    "# Adjust layout to prevent overlapping\n",
    "gs.tight_layout(fig, pad=1.0, w_pad=0.0)\n",
    "\n",
    "# A-A distance vs reactivity\n",
    "df_corr_data_aa = df_corr_data.query(\n",
    "    'pair == \"A-A\" and atom1 == \"N1\" and atom2 == \"O2\\'\"'\n",
    ").copy()\n",
    "df_corr_data_aa.sort_values(by=\"distance\", ascending=False, inplace=True)\n",
    "\n",
    "plot_scatter_w_best_fit_line(\n",
    "    df_corr_data_aa[\"ln_r_data_mean\"], df_corr_data_aa[\"distance\"], size=2, ax=ax1\n",
    ")\n",
    "format_small_plot(ax1)\n",
    "ax1.set_ylim(3, 15)\n",
    "ax1.set_xlabel(\"Ln(Avg. Mut. Frac.)\")\n",
    "ax1.set_ylabel(\"A-A N1-O2' Distance\")\n",
    "\n",
    "# A-A ratio vs distance\n",
    "df_ratio_corr_data_aa = df_ratio_corr_data.query(\n",
    "    'pair == \"A-A\" and atom1 == \"O2\\'\" and atom2 == \"C6\"'\n",
    ").copy()\n",
    "df_ratio_corr_data_aa.sort_values(by=\"distance\", ascending=False, inplace=True)\n",
    "\n",
    "plot_scatter_w_best_fit_line(\n",
    "    df_ratio_corr_data_aa[\"ratio\"], df_ratio_corr_data_aa[\"distance\"], size=2, ax=ax2\n",
    ")\n",
    "format_small_plot(ax2)\n",
    "ax2.set_ylim(3, 15)\n",
    "ax2.set_xlabel(\"Reactivity Ratio\")\n",
    "ax2.set_ylabel(\"A-A O2'-C6 Distance\")\n",
    "\n",
    "# C-U distance vs reactivity\n",
    "df_corr_data_cu = df_corr_data.query(\n",
    "    'pair == \"C-U\" and atom1 == \"N4\" and atom2 == \"N3\"'\n",
    ").copy()\n",
    "df_corr_data_cu.sort_values(by=\"distance\", ascending=False, inplace=True)\n",
    "\n",
    "plot_scatter_w_best_fit_line(\n",
    "    df_corr_data_cu[\"ln_r_data_mean\"], df_corr_data_cu[\"distance\"], size=2, ax=ax3\n",
    ")\n",
    "format_small_plot(ax3)\n",
    "ax3.set_xlabel(\"Ln(Avg. Mut. Frac.)\")\n",
    "ax3.set_ylabel(\"C-U N4-N3 Distance\")\n",
    "\n",
    "# C-C ratio vs distance\n",
    "df_ratio_corr_data_cc = df_ratio_corr_data.query(\n",
    "    'pair == \"C-C\" and atom1 == \"O3\\'\" and atom2 == \"C4\"'\n",
    ").copy()\n",
    "df_ratio_corr_data_cc.sort_values(by=\"distance\", ascending=False, inplace=True)\n",
    "\n",
    "plot_scatter_w_best_fit_line(\n",
    "    df_ratio_corr_data_cc[\"ratio\"], df_ratio_corr_data_cc[\"distance\"], size=2, ax=ax4\n",
    ")\n",
    "format_small_plot(ax4)\n",
    "ax4.set_ylim(7, 15)\n",
    "ax4.set_xlabel(\"Reactivity Ratio\")\n",
    "ax4.set_ylabel(\"C-C O3'-C4 Distance\")\n",
    "\n",
    "# Save figure\n",
    "plt.savefig(\n",
    "    \"../figures/supplemental_figure_10.png\",\n",
    "    dpi=600,\n",
    "    bbox_inches=\"tight\",\n",
    "    pad_inches=0.02,\n",
    ")"
   ]
  },
  {
   "cell_type": "code",
   "execution_count": null,
   "metadata": {},
   "outputs": [],
   "source": []
  }
 ],
 "metadata": {
  "kernelspec": {
   "display_name": "py3",
   "language": "python",
   "name": "python3"
  },
  "language_info": {
   "codemirror_mode": {
    "name": "ipython",
    "version": 3
   },
   "file_extension": ".py",
   "mimetype": "text/x-python",
   "name": "python",
   "nbconvert_exporter": "python",
   "pygments_lexer": "ipython3",
   "version": "3.8.19"
  }
 },
 "nbformat": 4,
 "nbformat_minor": 2
}
